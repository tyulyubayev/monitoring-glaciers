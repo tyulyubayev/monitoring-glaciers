{
 "cells": [
  {
   "cell_type": "code",
   "execution_count": 1,
   "metadata": {},
   "outputs": [],
   "source": [
    "import ee\n",
    "import geemap\n",
    "import os\n",
    "import ipywidgets as widgets\n",
    "ee.Initialize()"
   ]
  },
  {
   "cell_type": "code",
   "execution_count": 2,
   "metadata": {},
   "outputs": [
    {
     "data": {
      "application/vnd.jupyter.widget-view+json": {
       "model_id": "8ca0afbc176f4cc48828907ed0343552",
       "version_major": 2,
       "version_minor": 0
      },
      "text/plain": [
       "Map(center=[43.2567, 76.9286], controls=(WidgetControl(options=['position'], widget=HBox(children=(ToggleButto…"
      ]
     },
     "metadata": {},
     "output_type": "display_data"
    }
   ],
   "source": [
    "Map = geemap.Map(center=[43.2567,76.9286], zoom=4)\n",
    "Map.add_basemap(\"OpenTopoMap\")\n",
    "Map.add_basemap(\"SATELLITE\")\n",
    "Map"
   ]
  },
  {
   "cell_type": "code",
   "execution_count": 6,
   "metadata": {},
   "outputs": [],
   "source": [
    "dataset_xbh = ee.FeatureCollection('users/doni/glims_polygons')\n",
    "Map.addLayer(dataset_xbh, {'color': 'ff0073ff', 'width': 2, 'lineType': 'solid', 'fillColor': '00000000'}, \"glims_polygons\")"
   ]
  },
  {
   "cell_type": "code",
   "execution_count": 5,
   "metadata": {},
   "outputs": [],
   "source": [
    "dataset_fsz = ee.FeatureCollection('users/doni/kz')\n",
    "Map.addLayer(dataset_fsz, {}, \"kz\")"
   ]
  },
  {
   "cell_type": "code",
   "execution_count": null,
   "metadata": {},
   "outputs": [],
   "source": []
  }
 ],
 "metadata": {
  "hide_input": false,
  "kernelspec": {
   "display_name": "Python 3",
   "language": "python",
   "name": "python3"
  },
  "language_info": {
   "codemirror_mode": {
    "name": "ipython",
    "version": 3
   },
   "file_extension": ".py",
   "mimetype": "text/x-python",
   "name": "python",
   "nbconvert_exporter": "python",
   "pygments_lexer": "ipython3",
   "version": "3.8.3"
  },
  "widgets": {
   "application/vnd.jupyter.widget-state+json": {
    "state": {
     "008b413d988944758b9554d0d15b8327": {
      "model_module": "@jupyter-widgets/controls",
      "model_module_version": "1.5.0",
      "model_name": "ToggleButtonModel",
      "state": {
       "icon": "gear",
       "layout": "IPY_MODEL_fb5f77fff7f44a95a3735d137e9aae2b",
       "style": "IPY_MODEL_f26e731573c4403e847de8635a9cc265",
       "tooltip": "Google Satellite"
      }
     },
     "00ff9f7482ad4b1682ce6683e16ec6c2": {
      "model_module": "jupyter-leaflet",
      "model_module_version": "^0.13.2",
      "model_name": "LeafletMapStyleModel",
      "state": {
       "_model_module_version": "^0.13.2",
       "cursor": "move"
      }
     },
     "0193599b838d46bb83f2a20cb304e111": {
      "model_module": "ipytree",
      "model_module_version": "0.1.8",
      "model_name": "NodeModel",
      "state": {
       "_id": "a6ac1269-87bc-404d-a5fe-be45f8c9d7a7",
       "_model_module_version": "0.1.8",
       "_view_module_version": "0.1.8",
       "icon": "file",
       "name": "alos_landforms.py"
      }
     },
     "01a8a8597b7d4573b363633e9e6a39b5": {
      "model_module": "@jupyter-widgets/base",
      "model_module_version": "1.2.0",
      "model_name": "LayoutModel",
      "state": {
       "padding": "0px 8px 0px 8px"
      }
     },
     "01ae18515b954aa7adbecf65c0ea6a0d": {
      "model_module": "@jupyter-widgets/base",
      "model_module_version": "1.2.0",
      "model_name": "LayoutModel",
      "state": {
       "grid_area": "pathlist",
       "width": "auto"
      }
     },
     "01bca897dc5d4c90aae7b58f7565cedc": {
      "model_module": "ipytree",
      "model_module_version": "0.1.8",
      "model_name": "NodeModel",
      "state": {
       "_id": "23101217-d6d0-462f-b849-7240da863e33",
       "_model_module_version": "0.1.8",
       "_view_module_version": "0.1.8",
       "icon": "file",
       "name": "expression_map.py"
      }
     },
     "01e800c44177412ab8f21f73ef0a1dfb": {
      "model_module": "@jupyter-widgets/base",
      "model_module_version": "1.2.0",
      "model_name": "LayoutModel",
      "state": {
       "width": "310px"
      }
     },
     "01e82ef84c1649aebd6c6c2419493e8f": {
      "model_module": "ipytree",
      "model_module_version": "0.1.8",
      "model_name": "NodeModel",
      "state": {
       "_id": "6caa36c5-09b7-4ecf-9bb4-7287be3844a0",
       "_model_module_version": "0.1.8",
       "_view_module_version": "0.1.8",
       "icon": "file",
       "name": "cell_statistics.py"
      }
     },
     "0260e5e2b7534294b740de8232888198": {
      "model_module": "@jupyter-widgets/controls",
      "model_module_version": "1.5.0",
      "model_name": "SliderStyleModel",
      "state": {
       "description_width": ""
      }
     },
     "02e3b3dfa20d4de4afaaabb39dbcb176": {
      "model_module": "ipytree",
      "model_module_version": "0.1.8",
      "model_name": "NodeModel",
      "state": {
       "_id": "e4ad50fe-f535-46fc-afef-1c6fd44c3d96",
       "_model_module_version": "0.1.8",
       "_view_module_version": "0.1.8",
       "icon": "file",
       "name": "spatial_joins.py"
      }
     },
     "0337cfd0e839498099d7b17b5b28f404": {
      "model_module": "ipytree",
      "model_module_version": "0.1.8",
      "model_name": "NodeModel",
      "state": {
       "_id": "8d5f1719-fbbe-4fe4-b9e1-695dfc00c42b",
       "_model_module_version": "0.1.8",
       "_view_module_version": "0.1.8",
       "icon": "file",
       "name": "landsat8_toa_reflectance_qa_band.py"
      }
     },
     "036054b2ffb243e8998ae561ef8b58f8": {
      "model_module": "@jupyter-widgets/base",
      "model_module_version": "1.2.0",
      "model_name": "LayoutModel",
      "state": {
       "width": "auto"
      }
     },
     "0361fcb0b25b45b29e1d92a3af47db00": {
      "model_module": "@jupyter-widgets/controls",
      "model_module_version": "1.5.0",
      "model_name": "SliderStyleModel",
      "state": {
       "description_width": ""
      }
     },
     "041ce5ca83654468a756b5c45e38eabb": {
      "model_module": "ipytree",
      "model_module_version": "0.1.8",
      "model_name": "NodeModel",
      "state": {
       "_id": "43218933-ce01-4aba-8905-c688661c0d27",
       "_model_module_version": "0.1.8",
       "_view_module_version": "0.1.8",
       "icon": "file",
       "name": "stats_of_image_neighborhoods.py"
      }
     },
     "043af31244c349c4949ae3c075b9596e": {
      "model_module": "ipytree",
      "model_module_version": "0.1.8",
      "model_name": "NodeModel",
      "state": {
       "_id": "f9b6b9ba-80a6-4467-8d85-6018989ee51b",
       "_model_module_version": "0.1.8",
       "_view_module_version": "0.1.8",
       "icon": "file",
       "name": "us_census_counties.py"
      }
     },
     "04d4d7ff329d4ea59796c1f3de3d8bd1": {
      "model_module": "ipytree",
      "model_module_version": "0.1.8",
      "model_name": "NodeModel",
      "state": {
       "_id": "10211347-93cb-4479-b928-09eb16a5c9ea",
       "_model_module_version": "0.1.8",
       "_view_module_version": "0.1.8",
       "icon": "file",
       "name": "us_ned_physio_diversity.py"
      }
     },
     "0544967613f24dfd89dd3b590067e4c8": {
      "model_module": "@jupyter-widgets/output",
      "model_module_version": "1.0.0",
      "model_name": "OutputModel",
      "state": {
       "layout": "IPY_MODEL_1f308810e4b64ff0a3e455b83c11fe8e"
      }
     },
     "05954d42068b40429610bb98d96e39c5": {
      "model_module": "ipytree",
      "model_module_version": "0.1.8",
      "model_name": "NodeModel",
      "state": {
       "_id": "e94727a2-d766-4749-95a3-ddfe21d8567a",
       "_model_module_version": "0.1.8",
       "_view_module_version": "0.1.8",
       "icon": "file",
       "name": "exporting_data.py"
      }
     },
     "05a733b32b79491ab8595e1f9942441f": {
      "model_module": "@jupyter-widgets/controls",
      "model_module_version": "1.5.0",
      "model_name": "SliderStyleModel",
      "state": {
       "description_width": ""
      }
     },
     "0674ade2a4bd43a79965f80c831480f2": {
      "model_module": "@jupyter-widgets/base",
      "model_module_version": "1.2.0",
      "model_name": "LayoutModel",
      "state": {
       "height": "18px",
       "width": "25ex"
      }
     },
     "06af78ee823a4a438980ba67bddd24ae": {
      "model_module": "ipytree",
      "model_module_version": "0.1.8",
      "model_name": "NodeModel",
      "state": {
       "_id": "888de3d4-cd75-4629-92b6-97b38653458c",
       "_model_module_version": "0.1.8",
       "_view_module_version": "0.1.8",
       "name": "Writer",
       "opened": false
      }
     },
     "073af4c094e3453fa525d88a8f56c14d": {
      "model_module": "ipytree",
      "model_module_version": "0.1.8",
      "model_name": "NodeModel",
      "state": {
       "_id": "1bd05990-603a-4e2b-a722-e71570a4b365",
       "_model_module_version": "0.1.8",
       "_view_module_version": "0.1.8",
       "icon": "file",
       "name": "filter_range_contains.py"
      }
     },
     "075132d374c64049a57e6ee8be6a55b5": {
      "model_module": "@jupyter-widgets/base",
      "model_module_version": "1.2.0",
      "model_name": "LayoutModel",
      "state": {
       "padding": "0px 8px 0px 8px"
      }
     },
     "0768f31adb7844b2841e75ba42689686": {
      "model_module": "ipytree",
      "model_module_version": "0.1.8",
      "model_name": "NodeModel",
      "state": {
       "_id": "3a8f6d0a-b966-430d-b192-c9115e1258b8",
       "_model_module_version": "0.1.8",
       "_view_module_version": "0.1.8",
       "icon": "file",
       "name": "ntl_linear_fit.py"
      }
     },
     "078c9d64f0d9400dac6656dcb3aed92f": {
      "model_module": "@jupyter-widgets/controls",
      "model_module_version": "1.5.0",
      "model_name": "CheckboxModel",
      "state": {
       "description": "OpenTopoMap",
       "disabled": false,
       "indent": false,
       "layout": "IPY_MODEL_8b28aaa4ce90458b9803649cf7e3b6e3",
       "style": "IPY_MODEL_496d894f00284c8a8ce7d1c11b696a21",
       "value": true
      }
     },
     "078fa73b2e144de793e2e759d268a512": {
      "model_module": "@jupyter-widgets/base",
      "model_module_version": "1.2.0",
      "model_name": "LayoutModel",
      "state": {
       "width": "80px"
      }
     },
     "079fc56c0f154f50a8a0a40c8fc155bc": {
      "model_module": "@jupyter-widgets/controls",
      "model_module_version": "1.5.0",
      "model_name": "DescriptionStyleModel",
      "state": {
       "description_width": ""
      }
     },
     "0806066b1486446893b79772167bcbda": {
      "model_module": "@jupyter-widgets/controls",
      "model_module_version": "1.5.0",
      "model_name": "DescriptionStyleModel",
      "state": {
       "description_width": ""
      }
     },
     "08e66dc7e9124ef1a84312a9576d095b": {
      "model_module": "@jupyter-widgets/base",
      "model_module_version": "1.2.0",
      "model_name": "LayoutModel",
      "state": {
       "height": "600px"
      }
     },
     "091deff6f0d541f199f6d11e8a2faa65": {
      "model_module": "@jupyter-widgets/controls",
      "model_module_version": "1.5.0",
      "model_name": "DirectionalLinkModel",
      "state": {
       "source": [
        "IPY_MODEL_383069b837434d0aad815c7b3db8eee7",
        "value"
       ],
       "target": [
        "IPY_MODEL_5fc5d7f51a2f4649ba93e19da02c0b55",
        "opacity"
       ]
      }
     },
     "0970c1bafe554509a0ed14b79ec23695": {
      "model_module": "@jupyter-widgets/controls",
      "model_module_version": "1.5.0",
      "model_name": "DirectionalLinkModel",
      "state": {
       "source": [
        "IPY_MODEL_83f0179c0d4d4a8bbb85f3c86892a529",
        "value"
       ],
       "target": [
        "IPY_MODEL_2439ff2df8b84200bc1a61d3c4bbb264",
        "opacity"
       ]
      }
     },
     "0a0c714817cf4b608872ed498e17571f": {
      "model_module": "ipytree",
      "model_module_version": "0.1.8",
      "model_name": "NodeModel",
      "state": {
       "_id": "a74ab6ed-c2d2-4df4-b0a3-9da79e432c1d",
       "_model_module_version": "0.1.8",
       "_view_module_version": "0.1.8",
       "icon": "file",
       "name": "mean_std_image.py"
      }
     },
     "0b33aad3ba4e4639bc84cdbf5201c577": {
      "model_module": "@jupyter-widgets/controls",
      "model_module_version": "1.5.0",
      "model_name": "DescriptionStyleModel",
      "state": {
       "description_width": ""
      }
     },
     "0b39493c7ecc45c49b794a0815f3e418": {
      "model_module": "@jupyter-widgets/controls",
      "model_module_version": "1.5.0",
      "model_name": "SliderStyleModel",
      "state": {
       "description_width": ""
      }
     },
     "0b832b5ef55e443ab9fc4d69e19b9a6e": {
      "model_module": "@jupyter-widgets/controls",
      "model_module_version": "1.5.0",
      "model_name": "HBoxModel",
      "state": {
       "children": [
        "IPY_MODEL_db7bf0789269412c8dd499b25be56057",
        "IPY_MODEL_92902fb7ccb641b9ba6fe2d9bf902785",
        "IPY_MODEL_1a3b4cb7d8024c439d9384da0246c92a"
       ],
       "layout": "IPY_MODEL_1ab36d65589149a3a6c16b430e454baa"
      }
     },
     "0bcf738084154b3499b624840f018f3d": {
      "model_module": "@jupyter-widgets/controls",
      "model_module_version": "1.5.0",
      "model_name": "CheckboxModel",
      "state": {
       "description": "kz",
       "disabled": false,
       "indent": false,
       "layout": "IPY_MODEL_5e11e660963e4a29a9e7b9a78a2b3892",
       "style": "IPY_MODEL_b441683cc1a04228bceebaf3af0e64c7",
       "value": false
      }
     },
     "0c6622bf8dbe4c54bd71511bd53ec131": {
      "model_module": "@jupyter-widgets/controls",
      "model_module_version": "1.5.0",
      "model_name": "DescriptionStyleModel",
      "state": {
       "description_width": ""
      }
     },
     "0cba1127f0f045f8aaff64268995152b": {
      "model_module": "ipytree",
      "model_module_version": "0.1.8",
      "model_name": "NodeModel",
      "state": {
       "_id": "aa14179b-a87d-41aa-8d83-224156ae8d63",
       "_model_module_version": "0.1.8",
       "_view_module_version": "0.1.8",
       "icon": "file",
       "name": "band_stats.py"
      }
     },
     "0ce5273e86ce41f599e193f1411cc56a": {
      "model_module": "@jupyter-widgets/controls",
      "model_module_version": "1.5.0",
      "model_name": "TextModel",
      "state": {
       "layout": "IPY_MODEL_ed8007ff22ed4c45ba567800011ec44a",
       "placeholder": "Search by place name or address",
       "style": "IPY_MODEL_3d21330e83284472930077e6ba937874"
      }
     },
     "0d5919a96c7f487cb5449ca223211f39": {
      "model_module": "ipytree",
      "model_module_version": "0.1.8",
      "model_name": "NodeModel",
      "state": {
       "_id": "d8a5bec2-872e-498c-bb33-39585252e230",
       "_model_module_version": "0.1.8",
       "_view_module_version": "0.1.8",
       "icon": "file",
       "name": "map_add_features.py"
      }
     },
     "0d8fde3c7a9b4fcb89b1d4e7f8f02b9b": {
      "model_module": "ipytree",
      "model_module_version": "0.1.8",
      "model_name": "NodeModel",
      "state": {
       "_id": "9007ee78-d2ad-4a0f-b398-ac073bcf06c7",
       "_model_module_version": "0.1.8",
       "_view_module_version": "0.1.8",
       "icon": "file",
       "name": "linear_regression.py"
      }
     },
     "0d9254b9e0194908856932fb49e48f1f": {
      "model_module": "@jupyter-widgets/controls",
      "model_module_version": "1.5.0",
      "model_name": "DescriptionStyleModel",
      "state": {
       "description_width": ""
      }
     },
     "0dc031dd3726450e9ce680912a0febf0": {
      "model_module": "jupyter-leaflet",
      "model_module_version": "^0.13.2",
      "model_name": "LeafletMeasureControlModel",
      "state": {
       "_model_module_version": "^0.13.2",
       "_view_module_version": "^0.13.2",
       "active_color": "orange",
       "options": [
        "active_color",
        "capture_z_index",
        "completed_color",
        "popup_options",
        "position",
        "primary_area_unit",
        "primary_length_unit",
        "secondary_area_unit",
        "secondary_length_unit"
       ],
       "position": "bottomleft",
       "primary_length_unit": "kilometers",
       "secondary_area_unit": null,
       "secondary_length_unit": null
      }
     },
     "0de1b7f57c674c849152ea6d1facebc5": {
      "model_module": "@jupyter-widgets/controls",
      "model_module_version": "1.5.0",
      "model_name": "ButtonModel",
      "state": {
       "button_style": "primary",
       "description": "import",
       "disabled": true,
       "layout": "IPY_MODEL_8f32a58fed2a46d6bba9bdc6aedf835e",
       "style": "IPY_MODEL_516735ca5deb45b2a20c9fcdfcd23a8e",
       "tooltip": "import the content to a new cell"
      }
     },
     "0de9a35c8f6e4cb0a51830b5b97e543a": {
      "model_module": "@jupyter-widgets/controls",
      "model_module_version": "1.5.0",
      "model_name": "LinkModel",
      "state": {
       "source": [
        "IPY_MODEL_30a792b47ef5424b987b163da7daddc7",
        "value"
       ],
       "target": [
        "IPY_MODEL_5fc5d7f51a2f4649ba93e19da02c0b55",
        "visible"
       ]
      }
     },
     "0df321d775714856b2fbc47cbdc7775d": {
      "model_module": "ipytree",
      "model_module_version": "0.1.8",
      "model_name": "NodeModel",
      "state": {
       "_id": "51a4c30e-065e-477a-9059-14e2a050252d",
       "_model_module_version": "0.1.8",
       "_view_module_version": "0.1.8",
       "icon": "file",
       "name": "pansharpen.py"
      }
     },
     "0df5cdbd94b54d628fead9f8c1f76b28": {
      "model_module": "@jupyter-widgets/controls",
      "model_module_version": "1.5.0",
      "model_name": "VBoxModel",
      "state": {
       "children": [
        "IPY_MODEL_aed4d4588edf413285f7e966e7d83c30",
        "IPY_MODEL_2fd42d8157c74f13b04460d205cca60f"
       ],
       "layout": "IPY_MODEL_f8b530f0bae242cfa595e455899484dc"
      }
     },
     "0e1040231c68441eb13903381a5abfdc": {
      "model_module": "@jupyter-widgets/controls",
      "model_module_version": "1.5.0",
      "model_name": "ToggleButtonModel",
      "state": {
       "icon": "gear",
       "layout": "IPY_MODEL_95267532650f486a952a06a6b1e294b9",
       "style": "IPY_MODEL_8adb4afff9b94de6a6621395eddd6a34",
       "tooltip": "OpenTopoMap"
      }
     },
     "0e3bfc73574d48faac7a66894e0b2a24": {
      "model_module": "ipytree",
      "model_module_version": "0.1.8",
      "model_name": "NodeModel",
      "state": {
       "_id": "df6f2766-1b58-4fcf-8e02-039510c5f871",
       "_model_module_version": "0.1.8",
       "_view_module_version": "0.1.8",
       "icon": "file",
       "name": "overview.py"
      }
     },
     "0e4a4b84d4f844498a18cd5a3e647cd8": {
      "model_module": "@jupyter-widgets/base",
      "model_module_version": "1.2.0",
      "model_name": "LayoutModel",
      "state": {
       "width": "80px"
      }
     },
     "0ecc0cbccd964e1e8d69c4a925cfab2f": {
      "model_module": "@jupyter-widgets/base",
      "model_module_version": "1.2.0",
      "model_name": "LayoutModel",
      "state": {
       "padding": "0px 8px 0px 8px"
      }
     },
     "0f41c1eb73094b409ce63054f3f5b51a": {
      "model_module": "ipytree",
      "model_module_version": "0.1.8",
      "model_name": "NodeModel",
      "state": {
       "_id": "4f24c2a0-dd46-433a-a9dc-d9dfec244f81",
       "_model_module_version": "0.1.8",
       "_view_module_version": "0.1.8",
       "icon": "file",
       "name": "alos_global_dsm.py"
      }
     },
     "0f55780f4f1c4fac92dc9157096c43c2": {
      "model_module": "ipytree",
      "model_module_version": "0.1.8",
      "model_name": "NodeModel",
      "state": {
       "_id": "46611f3a-556c-4832-b85c-f4ffafa4e727",
       "_model_module_version": "0.1.8",
       "_view_module_version": "0.1.8",
       "icon": "table",
       "name": "glims_polygons",
       "selected": true
      }
     },
     "0f5d477962af47c7aa5ffcc366c02ac9": {
      "model_module": "ipytree",
      "model_module_version": "0.1.8",
      "model_name": "NodeModel",
      "state": {
       "_id": "fd8bb13f-f5c7-48f1-9d49-ff362dafd5b5",
       "_model_module_version": "0.1.8",
       "_view_module_version": "0.1.8",
       "icon": "file",
       "name": "visualizing_feature_collection.py"
      }
     },
     "0f82572f32154a899c157ea7221f2802": {
      "model_module": "ipytree",
      "model_module_version": "0.1.8",
      "model_name": "NodeModel",
      "state": {
       "_id": "904e121d-76d7-4768-b3a8-5a23e6fa9188",
       "_model_module_version": "0.1.8",
       "_view_module_version": "0.1.8",
       "icon": "file",
       "name": "select_by_attributes.py"
      }
     },
     "0f9e09b01da94a369bd3d1f9cb146b99": {
      "model_module": "ipytree",
      "model_module_version": "0.1.8",
      "model_name": "NodeModel",
      "state": {
       "_id": "f3bd659a-6fcb-43f6-8f28-910bc1a205e4",
       "_model_module_version": "0.1.8",
       "_view_module_version": "0.1.8",
       "icon": "file",
       "name": "us_cropland.py"
      }
     },
     "0fda45424d3d4958afdf7fd78b1caefa": {
      "model_module": "jupyter-leaflet",
      "model_module_version": "^0.13.2",
      "model_name": "LeafletTileLayerModel",
      "state": {
       "_model_module_version": "^0.13.2",
       "_view_module_version": "^0.13.2",
       "attribution": "Map tiles <a href=\"https://labs.strava.com/heatmap\">Strava 2017</a>",
       "max_native_zoom": 18,
       "max_zoom": 15,
       "min_native_zoom": 0,
       "min_zoom": 1,
       "name": "Strava.Ride",
       "options": [
        "attribution",
        "detect_retina",
        "max_native_zoom",
        "max_zoom",
        "min_native_zoom",
        "min_zoom",
        "no_wrap",
        "tile_size",
        "tms"
       ],
       "url": "https://heatmap-external-a.strava.com//tiles/ride/hot/{z}/{x}/{y}.png?v=19"
      }
     },
     "0fe589289d804173812ed7371e0fca1d": {
      "model_module": "jupyter-leaflet",
      "model_module_version": "^0.13.2",
      "model_name": "LeafletTileLayerModel",
      "state": {
       "_model_module_version": "^0.13.2",
       "_view_module_version": "^0.13.2",
       "attribution": "Esri",
       "max_native_zoom": 18,
       "min_native_zoom": 0,
       "name": "Esri National Geographic",
       "options": [
        "attribution",
        "detect_retina",
        "max_native_zoom",
        "max_zoom",
        "min_native_zoom",
        "min_zoom",
        "no_wrap",
        "tile_size",
        "tms"
       ],
       "url": "http://services.arcgisonline.com/ArcGIS/rest/services/NatGeo_World_Map/MapServer/tile/{z}/{y}/{x}"
      }
     },
     "100a9b53f1cd45a3ae83d4b2d9585f22": {
      "model_module": "ipytree",
      "model_module_version": "0.1.8",
      "model_name": "NodeModel",
      "state": {
       "_id": "d9fa021e-8568-4651-b724-b6df8af075ce",
       "_model_module_version": "0.1.8",
       "_view_module_version": "0.1.8",
       "icon": "file",
       "name": "ndwi_symbology.py"
      }
     },
     "105e6b7c1ccf490088b7595eabd37c44": {
      "model_module": "ipytree",
      "model_module_version": "0.1.8",
      "model_name": "NodeModel",
      "state": {
       "_id": "533dac77-2518-4ee3-9c0b-ef2ce68fafb1",
       "_model_module_version": "0.1.8",
       "_view_module_version": "0.1.8",
       "icon": "file",
       "name": "canada_dem.py"
      }
     },
     "106294e61fd2418d80c09b176f29a791": {
      "model_module": "ipytree",
      "model_module_version": "0.1.8",
      "model_name": "NodeModel",
      "state": {
       "_id": "efcc1b2e-f488-4da8-945d-a5e731531441",
       "_model_module_version": "0.1.8",
       "_view_module_version": "0.1.8",
       "icon": "file",
       "name": "us_census_blocks.py"
      }
     },
     "10970e1993c34204aa5fbe8f6972090c": {
      "model_module": "jupyter-leaflet",
      "model_module_version": "^0.13.2",
      "model_name": "LeafletTileLayerModel",
      "state": {
       "_model_module_version": "^0.13.2",
       "_view_module_version": "^0.13.2",
       "attribution": "\nImagery provided by services from the Global Imagery Browse Services (GIBS), operated by the NASA/GSFC/Earth Science Data and Information System (<a href=\"https://earthdata.nasa.gov\">ESDIS</a>) with funding provided by NASA/HQ.\n",
       "max_native_zoom": 18,
       "max_zoom": 5,
       "min_native_zoom": 0,
       "min_zoom": 1,
       "name": "NASAGIBS.BlueMarble3031",
       "options": [
        "attribution",
        "detect_retina",
        "max_native_zoom",
        "max_zoom",
        "min_native_zoom",
        "min_zoom",
        "no_wrap",
        "tile_size",
        "tms"
       ],
       "url": "https://gibs.earthdata.nasa.gov/wmts/epsg3031/best/BlueMarble_NextGeneration/default/EPSG3031_500m/{z}/{y}/{x}.jpeg"
      }
     },
     "1185ca8be94940d4be19bd11557cebb9": {
      "model_module": "@jupyter-widgets/base",
      "model_module_version": "1.2.0",
      "model_name": "LayoutModel",
      "state": {
       "height": "25px",
       "padding": "0px",
       "width": "25px"
      }
     },
     "11acb3184a204c5689ac7327bd5137c5": {
      "model_module": "ipytree",
      "model_module_version": "0.1.8",
      "model_name": "NodeModel",
      "state": {
       "_id": "8e281cf8-b3a7-4a11-9600-03dbaf01a2d9",
       "_model_module_version": "0.1.8",
       "_view_module_version": "0.1.8",
       "icon": "file",
       "name": "using_weights.py"
      }
     },
     "11b0ea24ee7f4ac4bcc60200a6ddf24c": {
      "model_module": "@jupyter-widgets/output",
      "model_module_version": "1.0.0",
      "model_name": "OutputModel",
      "state": {
       "layout": "IPY_MODEL_49b1a041b3074974a3fe4fe3db7a1ac8"
      }
     },
     "11c2f7e4474d41a98b5ad396d87f484e": {
      "model_module": "@jupyter-widgets/controls",
      "model_module_version": "1.5.0",
      "model_name": "ToggleButtonModel",
      "state": {
       "icon": "gear",
       "layout": "IPY_MODEL_59a4d836a65a48669e7a3f8521e6a883",
       "style": "IPY_MODEL_fd054e9741de4a6596c4bfcb58e73f1e",
       "tooltip": "Google Satellite"
      }
     },
     "11fd28e200bb4dd3b198f9c15d93ccb9": {
      "model_module": "@jupyter-widgets/base",
      "model_module_version": "1.2.0",
      "model_name": "LayoutModel",
      "state": {}
     },
     "12d808f9cb7a4d93999e1a6ef39c23d4": {
      "model_module": "ipytree",
      "model_module_version": "0.1.8",
      "model_name": "NodeModel",
      "state": {
       "_id": "58e5688a-acc5-4251-8952-1fa943f90c25",
       "_model_module_version": "0.1.8",
       "_view_module_version": "0.1.8",
       "icon": "file",
       "name": "image_mosaicking.py"
      }
     },
     "13063bd870b44c5fb96eeaa3d2623e40": {
      "model_module": "@jupyter-widgets/controls",
      "model_module_version": "1.5.0",
      "model_name": "CheckboxModel",
      "state": {
       "description": "Google Maps",
       "disabled": false,
       "indent": false,
       "layout": "IPY_MODEL_ffbdcdfcdd8d449bb25b8be286b585ac",
       "style": "IPY_MODEL_cfa5e31b87e3459cbe590b249704147d",
       "value": true
      }
     },
     "1334f276f29a48c7bb975ff61d9d84a6": {
      "model_module": "@jupyter-widgets/controls",
      "model_module_version": "1.5.0",
      "model_name": "ToggleButtonModel",
      "state": {
       "icon": "gear",
       "layout": "IPY_MODEL_f67162e83eee421480aa2e13ef4f204d",
       "style": "IPY_MODEL_b3f77e58445048c4bcc4c25e7aa10e3f",
       "tooltip": "kz"
      }
     },
     "139a21ad09694b9284579a317aba6e31": {
      "model_module": "jupyter-leaflet",
      "model_module_version": "^0.13.2",
      "model_name": "LeafletZoomControlModel",
      "state": {
       "_model_module_version": "^0.13.2",
       "_view_module_version": "^0.13.2",
       "options": [
        "position",
        "zoom_in_text",
        "zoom_in_title",
        "zoom_out_text",
        "zoom_out_title"
       ]
      }
     },
     "13a6dbdf8c21456b87211700ea393ed8": {
      "model_module": "ipytree",
      "model_module_version": "0.1.8",
      "model_name": "NodeModel",
      "state": {
       "_id": "a66f4d44-5256-4899-a51f-d1ed61aede78",
       "_model_module_version": "0.1.8",
       "_view_module_version": "0.1.8",
       "icon": "file",
       "name": "edge_detection.py"
      }
     },
     "13d4037cb0c94f27b320427dc933f390": {
      "model_module": "jupyter-leaflet",
      "model_module_version": "^0.13.2",
      "model_name": "LeafletMapStyleModel",
      "state": {
       "_model_module_version": "^0.13.2"
      }
     },
     "14319746ef6247efa0a8bb6eff340daa": {
      "model_module": "ipytree",
      "model_module_version": "0.1.8",
      "model_name": "NodeModel",
      "state": {
       "_id": "8665b549-3b65-4fb0-9a3d-32fb5db7e94f",
       "_model_module_version": "0.1.8",
       "_view_module_version": "0.1.8",
       "icon": "file",
       "name": "confusion_matrix.py"
      }
     },
     "14f18dd3eb574339af9c862782ba2cdb": {
      "model_module": "ipytree",
      "model_module_version": "0.1.8",
      "model_name": "NodeModel",
      "state": {
       "_id": "ab0955b3-b59b-4ee2-b0e0-e0f100acb44a",
       "_model_module_version": "0.1.8",
       "_view_module_version": "0.1.8",
       "icon": "file",
       "name": "pixel_area.py"
      }
     },
     "151f0b4678124c0483baa46d7aee7b56": {
      "model_module": "ipytree",
      "model_module_version": "0.1.8",
      "model_name": "NodeModel",
      "state": {
       "_id": "149feb3c-cf2e-4038-aa8e-a7b6e0bcc82a",
       "_model_module_version": "0.1.8",
       "_view_module_version": "0.1.8",
       "icon": "file",
       "name": "visualizing_geometries.py"
      }
     },
     "15338d8c920048fcbc3ca4e93522fe40": {
      "model_module": "@jupyter-widgets/controls",
      "model_module_version": "1.5.0",
      "model_name": "DescriptionStyleModel",
      "state": {
       "description_width": ""
      }
     },
     "154d060ff3694f509c3548bda0cc7371": {
      "model_module": "ipytree",
      "model_module_version": "0.1.8",
      "model_name": "NodeModel",
      "state": {
       "_id": "5a4da417-2b84-42b7-9925-1bc2a89d718b",
       "_model_module_version": "0.1.8",
       "_view_module_version": "0.1.8",
       "name": "Reader",
       "opened": false
      }
     },
     "1550c065e8d647cc926707a4e8e7ddd9": {
      "model_module": "@jupyter-widgets/controls",
      "model_module_version": "1.5.0",
      "model_name": "VBoxModel",
      "state": {
       "children": [
        "IPY_MODEL_cb033cc2cbef4fdd82b89006704ed13b",
        "IPY_MODEL_91ba8fd63e7d4f3e8e79b538999ffb28"
       ],
       "layout": "IPY_MODEL_db8a0cbb8408405da868a8149d13142c"
      }
     },
     "15ef6aa826474116ab78b171672bcc9c": {
      "model_module": "@jupyter-widgets/controls",
      "model_module_version": "1.5.0",
      "model_name": "ToggleButtonModel",
      "state": {
       "icon": "gear",
       "layout": "IPY_MODEL_ea1814c7f3c840d0bc19927857b70306",
       "style": "IPY_MODEL_21bb9433b40a4ecfbc65a9714142f0ce",
       "tooltip": "Google Maps"
      }
     },
     "16018e8f75dc41eab20ef76e678cf964": {
      "model_module": "@jupyter-widgets/controls",
      "model_module_version": "1.5.0",
      "model_name": "GridBoxModel",
      "state": {
       "children": [
        "IPY_MODEL_1691a72e52f84a5da9c3f965aaeb8c30",
        "IPY_MODEL_d4f4e238ad05427baaff63d7b694bbe3",
        "IPY_MODEL_415950c811b64a90afb1db95ce49d075",
        "IPY_MODEL_1f54ec90ceb74153afef94b395ead79a",
        "IPY_MODEL_80985cd0bfa04fef95b57fb994e9925b",
        "IPY_MODEL_5c06a717516c4241816a368b3e4ae1ca",
        "IPY_MODEL_f1915e3903c74c54aca5a0707b782a75",
        "IPY_MODEL_4347cb6f5fd64b3791d76a56d3747412"
       ],
       "layout": "IPY_MODEL_26dcdfd32af444449e5ce77ed6dbc0b7"
      }
     },
     "16456220b6304ce589667b3fb4586179": {
      "model_module": "@jupyter-widgets/controls",
      "model_module_version": "1.5.0",
      "model_name": "ToggleButtonModel",
      "state": {
       "icon": "gear",
       "layout": "IPY_MODEL_fe13a08651774dff9b5deb840db00940",
       "style": "IPY_MODEL_a02e31b243bc42a5bafcede7522fa1be",
       "tooltip": "OpenTopoMap"
      }
     },
     "1691a72e52f84a5da9c3f965aaeb8c30": {
      "model_module": "@jupyter-widgets/controls",
      "model_module_version": "1.5.0",
      "model_name": "ToggleButtonModel",
      "state": {
       "button_style": "primary",
       "icon": "info",
       "layout": "IPY_MODEL_b0f82f4a1f914d6ea5b202e259730598",
       "style": "IPY_MODEL_a41df302e346434ab67896d380c7b472",
       "tooltip": "Inspector"
      }
     },
     "1692dc8a51e04cc2a3c886da90ff15ce": {
      "model_module": "ipytree",
      "model_module_version": "0.1.8",
      "model_name": "NodeModel",
      "state": {
       "_id": "56099193-d2af-4ed9-8e45-6a25ba738544",
       "_model_module_version": "0.1.8",
       "_view_module_version": "0.1.8",
       "icon": "file",
       "name": "select_image_by_index.py"
      }
     },
     "16957f9c64704e739c58cb046d9c1bd9": {
      "model_module": "ipytree",
      "model_module_version": "0.1.8",
      "model_name": "NodeModel",
      "state": {
       "_id": "cbe45dd3-de94-44ca-a0f0-dc4e3f6d21a1",
       "_model_module_version": "0.1.8",
       "_view_module_version": "0.1.8",
       "icon": "file",
       "name": "09_a_complete_example.py"
      }
     },
     "16dc863d85684686b56ae638fc5176bc": {
      "model_module": "@jupyter-widgets/controls",
      "model_module_version": "1.5.0",
      "model_name": "DirectionalLinkModel",
      "state": {
       "source": [
        "IPY_MODEL_474b9b72853e47039bca214850f94806",
        "value"
       ],
       "target": [
        "IPY_MODEL_77a76290eb7f4d2ea5cd24f714684a23",
        "opacity"
       ]
      }
     },
     "1713824befa74628a468fdf14bd528d8": {
      "model_module": "@jupyter-widgets/controls",
      "model_module_version": "1.5.0",
      "model_name": "DescriptionStyleModel",
      "state": {
       "description_width": ""
      }
     },
     "1776c81306a149459f3eb9887d3b0ffd": {
      "model_module": "@jupyter-widgets/controls",
      "model_module_version": "1.5.0",
      "model_name": "DescriptionStyleModel",
      "state": {
       "description_width": ""
      }
     },
     "17bab6e9aaa943a3af53d1430b65ca87": {
      "model_module": "ipytree",
      "model_module_version": "0.1.8",
      "model_name": "NodeModel",
      "state": {
       "_id": "3ac54479-18c7-4f85-a746-ce123e84f704",
       "_model_module_version": "0.1.8",
       "_view_module_version": "0.1.8",
       "icon": "file",
       "name": "select_bands.py"
      }
     },
     "181bbb0a1f134145a04cac1d1e7cbd48": {
      "model_module": "jupyter-leaflet",
      "model_module_version": "^0.13.2",
      "model_name": "LeafletTileLayerModel",
      "state": {
       "_model_module_version": "^0.13.2",
       "_view_module_version": "^0.13.2",
       "attribution": "Map tiles by <a href=\"http://stamen.com/\">Stamen Design</a>, under <a href=\"http://creativecommons.org/licenses/by/3.0\">CC BY 3.0</a>. Data by <a href=\"http://openstreetmap.org/\">OpenStreetMap</a>, under <a href=\"http://creativecommons.org/licenses/by-sa/3.0\">CC BY SA</a>.",
       "max_native_zoom": 18,
       "max_zoom": 20,
       "min_native_zoom": 0,
       "name": "Stamen.Toner",
       "options": [
        "attribution",
        "detect_retina",
        "max_native_zoom",
        "max_zoom",
        "min_native_zoom",
        "min_zoom",
        "no_wrap",
        "tile_size",
        "tms"
       ],
       "url": "https://stamen-tiles-a.a.ssl.fastly.net/toner/{z}/{x}/{y}.png"
      }
     },
     "1846a4ddc078439ca22f7c2df9cc4db6": {
      "model_module": "ipytree",
      "model_module_version": "0.1.8",
      "model_name": "NodeModel",
      "state": {
       "_id": "22f8a792-c787-46a0-8ac5-2df27eb9c78f",
       "_model_module_version": "0.1.8",
       "_view_module_version": "0.1.8",
       "name": "Owner",
       "opened": false
      }
     },
     "188c9ba37eeb448da8d9136737ea6bda": {
      "model_module": "@jupyter-widgets/base",
      "model_module_version": "1.2.0",
      "model_name": "LayoutModel",
      "state": {
       "width": "80px"
      }
     },
     "188d890ca7174c89903b1bcc723544ec": {
      "model_module": "jupyter-leaflet",
      "model_module_version": "^0.13.2",
      "model_name": "LeafletTileLayerModel",
      "state": {
       "_model_module_version": "^0.13.2",
       "_view_module_version": "^0.13.2",
       "attribution": "Esri",
       "max_native_zoom": 18,
       "min_native_zoom": 0,
       "name": "Esri Transportation",
       "options": [
        "attribution",
        "detect_retina",
        "max_native_zoom",
        "max_zoom",
        "min_native_zoom",
        "min_zoom",
        "no_wrap",
        "tile_size",
        "tms"
       ],
       "url": "https://server.arcgisonline.com/ArcGIS/rest/services/Reference/World_Transportation/MapServer/tile/{z}/{y}/{x}"
      }
     },
     "18b1faac446b41009751e4adcfad8eb0": {
      "model_module": "jupyter-leaflet",
      "model_module_version": "^0.13.2",
      "model_name": "LeafletWMSLayerModel",
      "state": {
       "_model_module_version": "^0.13.2",
       "_view_module_version": "^0.13.2",
       "attribution": "USGS",
       "crs": {
        "custom": false,
        "name": "EPSG3857"
       },
       "format": "image/png",
       "layers": "0",
       "max_native_zoom": 18,
       "min_native_zoom": 0,
       "name": "USGS NAIP Imagery",
       "options": [
        "attribution",
        "detect_retina",
        "format",
        "layers",
        "max_native_zoom",
        "max_zoom",
        "min_native_zoom",
        "min_zoom",
        "no_wrap",
        "styles",
        "tile_size",
        "tms",
        "transparent",
        "uppercase"
       ],
       "transparent": true,
       "url": "https://services.nationalmap.gov/arcgis/services/USGSNAIPImagery/ImageServer/WMSServer?"
      }
     },
     "18de97acf15948ce8f743b8eacb4c315": {
      "model_module": "@jupyter-widgets/controls",
      "model_module_version": "1.5.0",
      "model_name": "VBoxModel",
      "state": {
       "_view_count": 3,
       "children": [
        "IPY_MODEL_3fe6fd3e20da47f680dd1c6670609402"
       ],
       "layout": "IPY_MODEL_4c7c112ed5534817bbcee7a1ec2ed0c7"
      }
     },
     "1902d0adb17443dcb799e6ae3cb54126": {
      "model_module": "@jupyter-widgets/controls",
      "model_module_version": "1.5.0",
      "model_name": "LinkModel",
      "state": {
       "source": [
        "IPY_MODEL_aa2875d3e37842ce92ba2ddf2ef1e92c",
        "value"
       ],
       "target": [
        "IPY_MODEL_e2f4097d83bc4212becb6aecabcc5a14",
        "visible"
       ]
      }
     },
     "197e47a516fb41c19b527921958f161e": {
      "model_module": "ipytree",
      "model_module_version": "0.1.8",
      "model_name": "NodeModel",
      "state": {
       "_id": "bfa30859-d6fe-4898-ba38-17afef2403ff",
       "_model_module_version": "0.1.8",
       "_view_module_version": "0.1.8",
       "icon": "file",
       "name": "basic_image.py"
      }
     },
     "1a069da0aac8454ea30b1de9de594a4b": {
      "model_module": "@jupyter-widgets/controls",
      "model_module_version": "1.5.0",
      "model_name": "CheckboxModel",
      "state": {
       "description": "Google Maps",
       "disabled": false,
       "indent": false,
       "layout": "IPY_MODEL_930a1249d2914ce996ce936cce7610d6",
       "style": "IPY_MODEL_b30127141207424d9e1740a4e6a6c222",
       "value": true
      }
     },
     "1a3b4cb7d8024c439d9384da0246c92a": {
      "model_module": "@jupyter-widgets/controls",
      "model_module_version": "1.5.0",
      "model_name": "FloatSliderModel",
      "state": {
       "layout": "IPY_MODEL_de858fe53d464e5eaf58d4353acdd730",
       "max": 1,
       "readout": false,
       "step": 0.01,
       "style": "IPY_MODEL_0361fcb0b25b45b29e1d92a3af47db00",
       "value": 1
      }
     },
     "1a772aa11f2c4078b1ca0f0655bed8ab": {
      "model_module": "ipytree",
      "model_module_version": "0.1.8",
      "model_name": "NodeModel",
      "state": {
       "_id": "2a8d05ca-36eb-4d02-9bf2-561bf27821e9",
       "_model_module_version": "0.1.8",
       "_view_module_version": "0.1.8",
       "icon": "file",
       "name": "ndwi_map.py"
      }
     },
     "1ab36d65589149a3a6c16b430e454baa": {
      "model_module": "@jupyter-widgets/base",
      "model_module_version": "1.2.0",
      "model_name": "LayoutModel",
      "state": {
       "padding": "0px 8px 0px 8px"
      }
     },
     "1af3c85b97dc4741a22301917df1ea0b": {
      "model_module": "ipytree",
      "model_module_version": "0.1.8",
      "model_name": "NodeModel",
      "state": {
       "_id": "5e04f0ee-d193-4352-b2ba-fc70021633af",
       "_model_module_version": "0.1.8",
       "_view_module_version": "0.1.8",
       "icon": "file",
       "name": "us_ned_topo_diversity.py"
      }
     },
     "1b2e971501ab4dc2b19b217452e78c2e": {
      "model_module": "ipytree",
      "model_module_version": "0.1.8",
      "model_name": "NodeModel",
      "state": {
       "_id": "aa3ac148-b8e3-4d9d-aeeb-a8312c729416",
       "_model_module_version": "0.1.8",
       "_view_module_version": "0.1.8",
       "icon": "file",
       "name": "Projections.py"
      }
     },
     "1b5e4791590f4408a0ceecc4c4e62548": {
      "model_module": "@jupyter-widgets/base",
      "model_module_version": "1.2.0",
      "model_name": "LayoutModel",
      "state": {}
     },
     "1b7acd3ab25044f082a72bb3896a310a": {
      "model_module": "jupyter-leaflet",
      "model_module_version": "^0.13.2",
      "model_name": "LeafletWMSLayerModel",
      "state": {
       "_model_module_version": "^0.13.2",
       "_view_module_version": "^0.13.2",
       "attribution": "FWS",
       "crs": {
        "custom": false,
        "name": "EPSG3857"
       },
       "format": "image/png",
       "layers": "1",
       "max_native_zoom": 18,
       "min_native_zoom": 0,
       "name": "FWS NWI Wetlands",
       "options": [
        "attribution",
        "detect_retina",
        "format",
        "layers",
        "max_native_zoom",
        "max_zoom",
        "min_native_zoom",
        "min_zoom",
        "no_wrap",
        "styles",
        "tile_size",
        "tms",
        "transparent",
        "uppercase"
       ],
       "transparent": true,
       "url": "https://www.fws.gov/wetlands/arcgis/services/Wetlands/MapServer/WMSServer?"
      }
     },
     "1bb672c930734d7b9dfc8472b4bf9d18": {
      "model_module": "@jupyter-widgets/base",
      "model_module_version": "1.2.0",
      "model_name": "LayoutModel",
      "state": {
       "height": "18px",
       "width": "25ex"
      }
     },
     "1bc02c339f3c40d6b8b1479efe6122e3": {
      "model_module": "ipytree",
      "model_module_version": "0.1.8",
      "model_name": "NodeModel",
      "state": {
       "_id": "2dfc6019-2ae4-4483-9da0-e4b93001973e",
       "_model_module_version": "0.1.8",
       "_view_module_version": "0.1.8",
       "icon": "file",
       "name": "search_by_buffer_distance.py"
      }
     },
     "1be0f04b13244433a1d5d29e2d5a6f64": {
      "model_module": "ipytree",
      "model_module_version": "0.1.8",
      "model_name": "NodeModel",
      "state": {
       "_id": "622649cc-85b5-448a-8900-f855fc487f66",
       "_model_module_version": "0.1.8",
       "_view_module_version": "0.1.8",
       "icon": "file",
       "name": "simple_joins.py"
      }
     },
     "1cb66bbc51174fcca05f2be92b218a34": {
      "model_module": "ipytree",
      "model_module_version": "0.1.8",
      "model_name": "NodeModel",
      "state": {
       "_id": "4916b08f-0e79-4c1a-894e-06bb45afa9d0",
       "_model_module_version": "0.1.8",
       "_view_module_version": "0.1.8",
       "icon": "file",
       "name": "intersect.py"
      }
     },
     "1d09cccabe28473ab0a4e334cfbb74b9": {
      "model_module": "@jupyter-widgets/base",
      "model_module_version": "1.2.0",
      "model_name": "LayoutModel",
      "state": {
       "grid_area": "dircontent",
       "width": "auto"
      }
     },
     "1d401620fdb2436386758059727d188c": {
      "model_module": "@jupyter-widgets/controls",
      "model_module_version": "1.5.0",
      "model_name": "HBoxModel",
      "state": {
       "children": [
        "IPY_MODEL_95d0d285b61f477080d2f3289683128f",
        "IPY_MODEL_886535ea859b467097326406e5f69005",
        "IPY_MODEL_34bc86fdff254d3e8ab7f6299dfc60b1"
       ],
       "layout": "IPY_MODEL_748c1bef0d3e48749cff9d31c9376c1d"
      }
     },
     "1e17b4606686499d9125653d9bd67a22": {
      "model_module": "jupyter-leaflet",
      "model_module_version": "^0.13.2",
      "model_name": "LeafletTileLayerModel",
      "state": {
       "_model_module_version": "^0.13.2",
       "_view_module_version": "^0.13.2",
       "attribution": "\nImagery provided by services from the Global Imagery Browse Services (GIBS), operated by the NASA/GSFC/Earth Science Data and Information System (<a href=\"https://earthdata.nasa.gov\">ESDIS</a>) with funding provided by NASA/HQ.\n",
       "max_native_zoom": 18,
       "max_zoom": 9,
       "min_native_zoom": 0,
       "min_zoom": 1,
       "name": "NASAGIBS.ModisTerraBands367CR",
       "options": [
        "attribution",
        "detect_retina",
        "max_native_zoom",
        "max_zoom",
        "min_native_zoom",
        "min_zoom",
        "no_wrap",
        "tile_size",
        "tms"
       ],
       "url": "https://gibs.earthdata.nasa.gov/wmts/epsg3857/best/MODIS_Terra_CorrectedReflectance_Bands367/default/2021-04-27/GoogleMapsCompatible_Level9/{z}/{y}/{x}.jpg"
      }
     },
     "1e2704a5a1d047b485e9e4d2a16b4f1a": {
      "model_module": "@jupyter-widgets/controls",
      "model_module_version": "1.5.0",
      "model_name": "HBoxModel",
      "state": {
       "children": [
        "IPY_MODEL_30a792b47ef5424b987b163da7daddc7",
        "IPY_MODEL_aafc47e038fc41038a5a4edc6848180c",
        "IPY_MODEL_87512d0b7c0a4e9ea2020fa4b1ca1b81"
       ],
       "layout": "IPY_MODEL_ed15e3ebe04f43cc8f4fe35cb94c1e79"
      }
     },
     "1e3a8ad5d5ef4d81b8fe18b2a4e52447": {
      "model_module": "ipytree",
      "model_module_version": "0.1.8",
      "model_name": "NodeModel",
      "state": {
       "_id": "8228758f-e13a-4c8d-9265-70babaa5b9a7",
       "_model_module_version": "0.1.8",
       "_view_module_version": "0.1.8",
       "icon": "file",
       "name": "cart_classifier.py"
      }
     },
     "1e4cd176fb554651af67cfcee4e65d59": {
      "model_module": "ipytree",
      "model_module_version": "0.1.8",
      "model_name": "NodeModel",
      "state": {
       "_id": "327f3787-4ea7-4335-b5f8-47056d46b89d",
       "_model_module_version": "0.1.8",
       "_view_module_version": "0.1.8",
       "name": "AssetManagement",
       "nodes": [
        "IPY_MODEL_648e841227d246ac97fd041bbf146174",
        "IPY_MODEL_5f8519f369e946959ba1988a11d4c207",
        "IPY_MODEL_8fd7649c4ed94fc29afb985da0499af1",
        "IPY_MODEL_927cd34297ae4437b95e034690c248cc",
        "IPY_MODEL_74ee304c8ff847319cf3fe9f93d4e024",
        "IPY_MODEL_8b6955bdb9984b518f47d3291f6948ca",
        "IPY_MODEL_b1cb6c70fb18468b8b35699267cc70f1",
        "IPY_MODEL_5fa9df552f71430fb19481563b120b4d",
        "IPY_MODEL_05954d42068b40429610bb98d96e39c5"
       ],
       "opened": false
      }
     },
     "1e5148bbf3be42129a198c7cf0de18a0": {
      "model_module": "ipytree",
      "model_module_version": "0.1.8",
      "model_name": "NodeModel",
      "state": {
       "_id": "d0ede037-1773-45c5-8b9c-1b4f39c19bfe",
       "_model_module_version": "0.1.8",
       "_view_module_version": "0.1.8",
       "icon": "file",
       "name": "filter_string_ends_with.py"
      }
     },
     "1ede2cb3ce4b4044b1db962c5d1c1266": {
      "model_module": "ipytree",
      "model_module_version": "0.1.8",
      "model_name": "NodeModel",
      "state": {
       "_id": "8ea8e1da-9ca3-407e-8c0e-89eff5020eaa",
       "_model_module_version": "0.1.8",
       "_view_module_version": "0.1.8",
       "icon": "file",
       "name": "from_polygons.py"
      }
     },
     "1f308810e4b64ff0a3e455b83c11fe8e": {
      "model_module": "@jupyter-widgets/base",
      "model_module_version": "1.2.0",
      "model_name": "LayoutModel",
      "state": {
       "max_height": "250px",
       "max_width": "340px",
       "overflow": "scroll"
      }
     },
     "1f3092e47291486d8391da7aa26ebca9": {
      "model_module": "jupyter-leaflet",
      "model_module_version": "^0.13.2",
      "model_name": "LeafletTileLayerModel",
      "state": {
       "_model_module_version": "^0.13.2",
       "_view_module_version": "^0.13.2",
       "attribution": "Tiles &copy; Esri &mdash; Source: Esri, i-cubed, USDA, USGS, AEX, GeoEye, Getmapping, Aerogrid, IGN, IGP, UPR-EGP, and the GIS User Community",
       "max_native_zoom": 18,
       "max_zoom": 20,
       "min_native_zoom": 0,
       "min_zoom": 1,
       "name": "Esri.WorldImagery",
       "options": [
        "attribution",
        "detect_retina",
        "max_native_zoom",
        "max_zoom",
        "min_native_zoom",
        "min_zoom",
        "no_wrap",
        "tile_size",
        "tms"
       ],
       "url": "http://server.arcgisonline.com/ArcGIS/rest/services/World_Imagery/MapServer/tile/{z}/{y}/{x}"
      }
     },
     "1f54ec90ceb74153afef94b395ead79a": {
      "model_module": "@jupyter-widgets/controls",
      "model_module_version": "1.5.0",
      "model_name": "ToggleButtonModel",
      "state": {
       "button_style": "primary",
       "icon": "eraser",
       "layout": "IPY_MODEL_50f6052e59bd44bebb2ab2f40b4ea400",
       "style": "IPY_MODEL_df4516ce1313442c9aa9bdc81643a627",
       "tooltip": "Remove all drawn features"
      }
     },
     "1fc020fa85ba401e8b5c3421f106955f": {
      "model_module": "jupyter-leaflet",
      "model_module_version": "^0.13.2",
      "model_name": "LeafletTileLayerModel",
      "state": {
       "_model_module_version": "^0.13.2",
       "_view_module_version": "^0.13.2",
       "attribution": "Tiles &copy; Esri &mdash; Source: Esri, DeLorme, NAVTEQ, USGS, Intermap, iPC, NRCAN, Esri Japan, METI, Esri China (Hong Kong), Esri (Thailand), TomTom, 2012",
       "max_native_zoom": 18,
       "max_zoom": 20,
       "min_native_zoom": 0,
       "min_zoom": 1,
       "name": "Esri.WorldStreetMap",
       "options": [
        "attribution",
        "detect_retina",
        "max_native_zoom",
        "max_zoom",
        "min_native_zoom",
        "min_zoom",
        "no_wrap",
        "tile_size",
        "tms"
       ],
       "url": "http://server.arcgisonline.com/ArcGIS/rest/services/World_Street_Map/MapServer/tile/{z}/{y}/{x}"
      }
     },
     "209df0f679854245a8e81b200f120dc0": {
      "model_module": "ipytree",
      "model_module_version": "0.1.8",
      "model_name": "NodeModel",
      "state": {
       "_id": "bcf982e0-449e-4ade-ade8-ba142d8a9bb5",
       "_model_module_version": "0.1.8",
       "_view_module_version": "0.1.8",
       "icon": "file",
       "name": "map_center_object.py"
      }
     },
     "21514b5c806048aca9737d6abf50d25b": {
      "model_module": "ipytree",
      "model_module_version": "0.1.8",
      "model_name": "NodeModel",
      "state": {
       "_id": "8aee7d6f-abc4-47c7-a863-214226ef5755",
       "_model_module_version": "0.1.8",
       "_view_module_version": "0.1.8",
       "name": "earthengine-py-examples",
       "nodes": [
        "IPY_MODEL_3ab0592cd2d64214a383e7d9e7361259",
        "IPY_MODEL_8b1fd798f4c74e21af741129c7ff8ee1",
        "IPY_MODEL_361df56101294563a5c027ceca6ca8f1",
        "IPY_MODEL_9358444953254e38b09b5bb56bff5364",
        "IPY_MODEL_699851a0c8104021a90022f4f0ac49f7",
        "IPY_MODEL_1e4cd176fb554651af67cfcee4e65d59",
        "IPY_MODEL_c2eedf8815ae4a08a989d5f107d3dd0a",
        "IPY_MODEL_fe0c2a9c14f949488a94e5b0ce1e498f",
        "IPY_MODEL_8dd79b9c7b4941c891890fb2569fb0ba",
        "IPY_MODEL_dc4b17b2e41d4afc925f715562b067d9",
        "IPY_MODEL_efb48672a2f1447d9dd2c326ed1cdeac",
        "IPY_MODEL_ddef3ade84614630ad96eb9af959e363",
        "IPY_MODEL_81ca87d8c5b84fdd88e9621f138881b6",
        "IPY_MODEL_6b03d2f0e1484db2a48bd130fe63f632",
        "IPY_MODEL_85229398ed29426e9c86be025c56d539",
        "IPY_MODEL_dc340f0083cf4166938fade33fde8d85",
        "IPY_MODEL_a8c62f72b7b8483cb84977720688ca80",
        "IPY_MODEL_4cab26b0dbe24f6abb77a84f67d201be",
        "IPY_MODEL_79841468a2c246209f69ae7d0c7d5600",
        "IPY_MODEL_fcf2d1b9664d44edb9c36ed67f8e3bb6",
        "IPY_MODEL_227796c0f92e4f28b7f599319ce66903"
       ],
       "opened": false
      }
     },
     "21a8034f77f245babd39fb71b6b80c9a": {
      "model_module": "@jupyter-widgets/controls",
      "model_module_version": "1.5.0",
      "model_name": "DirectionalLinkModel",
      "state": {
       "source": [
        "IPY_MODEL_34bc86fdff254d3e8ab7f6299dfc60b1",
        "value"
       ],
       "target": [
        "IPY_MODEL_77a76290eb7f4d2ea5cd24f714684a23",
        "opacity"
       ]
      }
     },
     "21bb9433b40a4ecfbc65a9714142f0ce": {
      "model_module": "@jupyter-widgets/controls",
      "model_module_version": "1.5.0",
      "model_name": "DescriptionStyleModel",
      "state": {
       "description_width": ""
      }
     },
     "22497027e80044a5a5900da3deb6dac8": {
      "model_module": "@jupyter-widgets/base",
      "model_module_version": "1.2.0",
      "model_name": "LayoutModel",
      "state": {
       "width": "80px"
      }
     },
     "225f0f3e2ad64d8699a3fb838bc2eda3": {
      "model_module": "@jupyter-widgets/base",
      "model_module_version": "1.2.0",
      "model_name": "LayoutModel",
      "state": {}
     },
     "227796c0f92e4f28b7f599319ce66903": {
      "model_module": "ipytree",
      "model_module_version": "0.1.8",
      "model_name": "NodeModel",
      "state": {
       "_id": "f2864596-bc60-4737-8431-2139e4a6936c",
       "_model_module_version": "0.1.8",
       "_view_module_version": "0.1.8",
       "name": "Visualization",
       "nodes": [
        "IPY_MODEL_40148e98d7de4edd8a5802a618afcd92",
        "IPY_MODEL_d9fec46616fc4d39a38f37ffdb4c9937",
        "IPY_MODEL_d0ce1e5a64a545078470376bd011b758",
        "IPY_MODEL_b85bb332bfa94c36ace947a92b42a8c0",
        "IPY_MODEL_7eb436ac87a74c37acea9def4e428fe1",
        "IPY_MODEL_12d808f9cb7a4d93999e1a6ef39c23d4",
        "IPY_MODEL_5f45677a666a42d68984f1e7f8b65a23",
        "IPY_MODEL_36d935b2fcf84afbb11eb9e014212562",
        "IPY_MODEL_59da61954914465092d089b19ab07d17",
        "IPY_MODEL_62b50ea0c98b4dd3b6276f3e44bf63f0",
        "IPY_MODEL_fe1766d1af8046d79591f2e23031b1e9",
        "IPY_MODEL_100a9b53f1cd45a3ae83d4b2d9585f22",
        "IPY_MODEL_c68b1430c4694614bf912eae0fc132a3",
        "IPY_MODEL_25de2155996142d38fb1cd5c8273b4ae",
        "IPY_MODEL_fca043dd81094812847e01d291a08ba1",
        "IPY_MODEL_3c4916becdab452e8c7a65ad59c17b2e",
        "IPY_MODEL_d08c1911e40e4caca1f7ff8573fb68c2",
        "IPY_MODEL_8423d751b80b4be5a12fdf1df7e841ca",
        "IPY_MODEL_48a99501494344b6bae60e423e5aaf9a",
        "IPY_MODEL_0f5d477962af47c7aa5ffcc366c02ac9",
        "IPY_MODEL_151f0b4678124c0483baa46d7aee7b56"
       ],
       "opened": false
      }
     },
     "234ae2bc8b71465fba36d1d2bcdc9f21": {
      "model_module": "@jupyter-widgets/controls",
      "model_module_version": "1.5.0",
      "model_name": "CheckboxModel",
      "state": {
       "description": "glims_polygons",
       "disabled": false,
       "indent": false,
       "layout": "IPY_MODEL_25b9cf7da9ce462697e4172003b5dd34",
       "style": "IPY_MODEL_4e59c87aa40d4f4a9e384388524d9c37",
       "value": true
      }
     },
     "2363e6ac7d75480485ad5d923a0cc8cd": {
      "model_module": "jupyter-leaflet",
      "model_module_version": "^0.13.2",
      "model_name": "LeafletZoomControlModel",
      "state": {
       "_model_module_version": "^0.13.2",
       "_view_module_version": "^0.13.2",
       "options": [
        "position",
        "zoom_in_text",
        "zoom_in_title",
        "zoom_out_text",
        "zoom_out_title"
       ]
      }
     },
     "23c470233adc49a6b023255c7e7523f2": {
      "model_module": "ipytree",
      "model_module_version": "0.1.8",
      "model_name": "NodeModel",
      "state": {
       "_id": "ceef827c-1ef3-4352-b69f-0de10c467b75",
       "_model_module_version": "0.1.8",
       "_view_module_version": "0.1.8",
       "icon": "table",
       "name": "kz"
      }
     },
     "2439ff2df8b84200bc1a61d3c4bbb264": {
      "model_module": "jupyter-leaflet",
      "model_module_version": "^0.13.2",
      "model_name": "LeafletTileLayerModel",
      "state": {
       "_model_module_version": "^0.13.2",
       "_view_module_version": "^0.13.2",
       "attribution": "Google Earth Engine",
       "max_native_zoom": 18,
       "min_native_zoom": 0,
       "name": "kz",
       "options": [
        "attribution",
        "detect_retina",
        "max_native_zoom",
        "max_zoom",
        "min_native_zoom",
        "min_zoom",
        "no_wrap",
        "tile_size",
        "tms"
       ],
       "url": "https://earthengine.googleapis.com/v1alpha/projects/earthengine-legacy/maps/3620171f25043f928d0db819cb787f42-cdd2d23d1ce6b67936b7d5c6f8711389/tiles/{z}/{x}/{y}",
       "visible": false
      }
     },
     "243fc2a4352b4721a4c07f3484f0bb28": {
      "model_module": "@jupyter-widgets/controls",
      "model_module_version": "1.5.0",
      "model_name": "DescriptionStyleModel",
      "state": {
       "description_width": ""
      }
     },
     "24904db9abdb4167af30b0d18ae3e316": {
      "model_module": "@jupyter-widgets/base",
      "model_module_version": "1.2.0",
      "model_name": "LayoutModel",
      "state": {}
     },
     "24952dfa0b1049f288a4c7a9ec2260bd": {
      "model_module": "jupyter-leaflet",
      "model_module_version": "^0.13.2",
      "model_name": "LeafletTileLayerModel",
      "state": {
       "_model_module_version": "^0.13.2",
       "_view_module_version": "^0.13.2",
       "attribution": "&copy; <a href=\"http://www.openstreetmap.org/copyright\">OpenStreetMap</a>",
       "max_native_zoom": 18,
       "min_native_zoom": 0,
       "min_zoom": 1,
       "name": "OpenStreetMap.DE",
       "options": [
        "attribution",
        "detect_retina",
        "max_native_zoom",
        "max_zoom",
        "min_native_zoom",
        "min_zoom",
        "no_wrap",
        "tile_size",
        "tms"
       ],
       "url": "http://{s}.tile.openstreetmap.de/tiles/osmde/{z}/{x}/{y}.png"
      }
     },
     "24e037db2d304bab9349ec6dd50c6a95": {
      "model_module": "@jupyter-widgets/base",
      "model_module_version": "1.2.0",
      "model_name": "LayoutModel",
      "state": {}
     },
     "2555ee7db92445c5b7e4cbedeab06d68": {
      "model_module": "@jupyter-widgets/base",
      "model_module_version": "1.2.0",
      "model_name": "LayoutModel",
      "state": {}
     },
     "25b51c8006ea40d28e5f1e784d509db7": {
      "model_module": "@jupyter-widgets/base",
      "model_module_version": "1.2.0",
      "model_name": "LayoutModel",
      "state": {
       "min_width": "400px"
      }
     },
     "25b9cf7da9ce462697e4172003b5dd34": {
      "model_module": "@jupyter-widgets/base",
      "model_module_version": "1.2.0",
      "model_name": "LayoutModel",
      "state": {
       "height": "18px",
       "width": "25ex"
      }
     },
     "25de2155996142d38fb1cd5c8273b4ae": {
      "model_module": "ipytree",
      "model_module_version": "0.1.8",
      "model_name": "NodeModel",
      "state": {
       "_id": "457af640-55df-4d5c-ae53-e00c1103ead7",
       "_model_module_version": "0.1.8",
       "_view_module_version": "0.1.8",
       "icon": "file",
       "name": "nwi_wetlands_symbology.py"
      }
     },
     "25e5d55e7d7d4beb860f850b44b139f4": {
      "model_module": "jupyter-leaflet",
      "model_module_version": "^0.13.2",
      "model_name": "LeafletTileLayerModel",
      "state": {
       "_model_module_version": "^0.13.2",
       "_view_module_version": "^0.13.2",
       "max_native_zoom": 18,
       "max_zoom": 19,
       "min_native_zoom": 0,
       "min_zoom": 1,
       "name": "OpenStreetMap.Mapnik",
       "options": [
        "attribution",
        "detect_retina",
        "max_native_zoom",
        "max_zoom",
        "min_native_zoom",
        "min_zoom",
        "no_wrap",
        "tile_size",
        "tms"
       ]
      }
     },
     "26dcdfd32af444449e5ce77ed6dbc0b7": {
      "model_module": "@jupyter-widgets/base",
      "model_module_version": "1.2.0",
      "model_name": "LayoutModel",
      "state": {
       "grid_gap": "1px 1px",
       "grid_template_columns": "32px 32px ",
       "grid_template_rows": "32px 32px 32px 32px ",
       "padding": "5px",
       "width": "70px"
      }
     },
     "2719886f2f3f45d4bfc5f9f0bd82b996": {
      "model_module": "ipytree",
      "model_module_version": "0.1.8",
      "model_name": "NodeModel",
      "state": {
       "_id": "3fcf1fde-670b-4f98-85f3-a33c54a36736",
       "_model_module_version": "0.1.8",
       "_view_module_version": "0.1.8",
       "icon": "file",
       "name": "relational_operators.py"
      }
     },
     "2742101dc96e4ce9a4bd463dd2103b1e": {
      "model_module": "@jupyter-widgets/base",
      "model_module_version": "1.2.0",
      "model_name": "LayoutModel",
      "state": {}
     },
     "283a1d5f27ab4dcb8c255fa82519272e": {
      "model_module": "ipytree",
      "model_module_version": "0.1.8",
      "model_name": "NodeModel",
      "state": {
       "_id": "4374e844-6751-490c-898b-392918dac0f5",
       "_model_module_version": "0.1.8",
       "_view_module_version": "0.1.8",
       "icon": "file",
       "name": "05_map_function.py"
      }
     },
     "28f455d227554f9496bcc936353556e1": {
      "model_module": "ipytree",
      "model_module_version": "0.1.8",
      "model_name": "NodeModel",
      "state": {
       "_id": "77bc4175-c9cb-445d-8e05-f56f995fee01",
       "_model_module_version": "0.1.8",
       "_view_module_version": "0.1.8",
       "icon": "file",
       "name": "get_image_resolution.py"
      }
     },
     "28f7291e937d45389466f1c5e4cbfb0b": {
      "model_module": "ipytree",
      "model_module_version": "0.1.8",
      "model_name": "NodeModel",
      "state": {
       "_id": "a5a41584-efed-43ff-9a49-fd76a4b37743",
       "_model_module_version": "0.1.8",
       "_view_module_version": "0.1.8",
       "icon": "file",
       "name": "linear_regression_more.py"
      }
     },
     "2931d8849aac417ead08f60fb99770a3": {
      "model_module": "@jupyter-widgets/controls",
      "model_module_version": "1.5.0",
      "model_name": "DescriptionStyleModel",
      "state": {
       "description_width": ""
      }
     },
     "298352bf57b04ea8af3ae928143b574f": {
      "model_module": "@jupyter-widgets/controls",
      "model_module_version": "1.5.0",
      "model_name": "SelectModel",
      "state": {
       "_options_labels": [
        "📁 ..",
        "📁 glims_download_82381",
        "📁 kz",
        "41_water_app Kaz reg.ipynb",
        "Metadata.pdf",
        "Untitled.ipynb",
        "Untitled1.ipynb",
        "Untitled2.ipynb",
        "Untitled3.ipynb",
        "Untitled4.ipynb",
        "Untitled5.ipynb",
        "Untitled6.ipynb",
        "Untitled7.ipynb",
        "Untitled8.ipynb",
        "Untitled9.ipynb",
        "glims_hypsometry_50.csv",
        "glims_images.dbf",
        "glims_images.prj",
        "glims_images.shp",
        "glims_images.shx",
        "glims_lines.dbf",
        "glims_lines.prj",
        "glims_lines.shp",
        "glims_lines.shx",
        "glims_points.dbf",
        "glims_points.prj",
        "glims_points.shp",
        "glims_points.shx",
        "glims_polygons.dbf",
        "glims_polygons.prj",
        "glims_polygons.shp",
        "glims_polygons.shx",
        "polygons.csv",
        "project.ipynb"
       ],
       "index": null,
       "layout": "IPY_MODEL_1d09cccabe28473ab0a4e334cfbb74b9",
       "rows": 8,
       "style": "IPY_MODEL_c5ef8c2cc87540858044eacc4baf7085"
      }
     },
     "298faa380b5040cda2956b35ac119e0a": {
      "model_module": "ipytree",
      "model_module_version": "0.1.8",
      "model_name": "NodeModel",
      "state": {
       "_id": "39a2c93a-5e2a-41cc-8b56-d985d6091bab",
       "_model_module_version": "0.1.8",
       "_view_module_version": "0.1.8",
       "icon": "file",
       "name": "modis_surface_reflectance_qa_band.py"
      }
     },
     "29d5994654144135a577aa122ebee526": {
      "model_module": "@jupyter-widgets/controls",
      "model_module_version": "1.5.0",
      "model_name": "DescriptionStyleModel",
      "state": {
       "description_width": ""
      }
     },
     "2a631abf23114dd5872344f29297de99": {
      "model_module": "ipytree",
      "model_module_version": "0.1.8",
      "model_name": "NodeModel",
      "state": {
       "_id": "389f5be6-ed3a-40f1-a43a-97e0359b7443",
       "_model_module_version": "0.1.8",
       "_view_module_version": "0.1.8",
       "icon": "file",
       "name": "FromName.py"
      }
     },
     "2b8cd2707ed64c448bd4c4757a46408d": {
      "model_module": "@jupyter-widgets/base",
      "model_module_version": "1.2.0",
      "model_name": "LayoutModel",
      "state": {
       "height": "600px",
       "width": "630px"
      }
     },
     "2b9cff78d4da43168ad2dc2a7be9dfe3": {
      "model_module": "ipytree",
      "model_module_version": "0.1.8",
      "model_name": "NodeModel",
      "state": {
       "_id": "677cf3a2-206a-4ec3-b29e-ae5e34199eb1",
       "_model_module_version": "0.1.8",
       "_view_module_version": "0.1.8",
       "icon": "file",
       "name": "hillshade.py"
      }
     },
     "2bdcd1074d804577bad6b1bcac7accec": {
      "model_module": "ipytree",
      "model_module_version": "0.1.8",
      "model_name": "NodeModel",
      "state": {
       "_id": "a629fed1-b01b-465a-950f-ed2381dae8f1",
       "_model_module_version": "0.1.8",
       "_view_module_version": "0.1.8",
       "icon": "file",
       "name": "hillshade.py"
      }
     },
     "2c21e39412344904b1369a3e8ee13707": {
      "model_module": "@jupyter-widgets/controls",
      "model_module_version": "1.5.0",
      "model_name": "FloatSliderModel",
      "state": {
       "layout": "IPY_MODEL_5a44f1dc8bc7492f8c5e9db0459408a3",
       "max": 1,
       "readout": false,
       "step": 0.01,
       "style": "IPY_MODEL_7f8371987ae642898c16a7b5ba13b480",
       "value": 1
      }
     },
     "2c55398bee95457f829e29cf298e382c": {
      "model_module": "@jupyter-widgets/controls",
      "model_module_version": "1.5.0",
      "model_name": "FloatSliderModel",
      "state": {
       "layout": "IPY_MODEL_806f1641312548fca3a728750fa63930",
       "max": 1,
       "readout": false,
       "step": 0.01,
       "style": "IPY_MODEL_38e8230bc1fd4baeb3ed6b829e2c95ea",
       "value": 1
      }
     },
     "2c622b34986049f593c632c61be0c605": {
      "model_module": "jupyter-leaflet",
      "model_module_version": "^0.13.2",
      "model_name": "LeafletTileLayerModel",
      "state": {
       "_model_module_version": "^0.13.2",
       "_view_module_version": "^0.13.2",
       "attribution": "&copy; <a href=\"http://www.openstreetmap.org/copyright\">OpenStreetMap</a> &copy; <a href=\"http://cartodb.com/attributions\">CartoDB</a>",
       "max_native_zoom": 18,
       "max_zoom": 20,
       "min_native_zoom": 0,
       "min_zoom": 1,
       "name": "CartoDB.Positron",
       "options": [
        "attribution",
        "detect_retina",
        "max_native_zoom",
        "max_zoom",
        "min_native_zoom",
        "min_zoom",
        "no_wrap",
        "tile_size",
        "tms"
       ],
       "url": "http://c.basemaps.cartocdn.com/light_all/{z}/{x}/{y}.png"
      }
     },
     "2c68e2a517d14ca5adbd7a062db0e625": {
      "model_module": "ipytree",
      "model_module_version": "0.1.8",
      "model_name": "NodeModel",
      "state": {
       "_id": "35cf390e-6f76-4abc-a9c0-346c23c408c1",
       "_model_module_version": "0.1.8",
       "_view_module_version": "0.1.8",
       "icon": "file",
       "name": "download.py"
      }
     },
     "2d2f2fabfc1c4ea1834e812357906b30": {
      "model_module": "@jupyter-widgets/base",
      "model_module_version": "1.2.0",
      "model_name": "LayoutModel",
      "state": {
       "height": "18px",
       "padding": "0px 8px 25px 8px",
       "width": "30ex"
      }
     },
     "2d4e7e8b2f8e4a6083442d820b5465d7": {
      "model_module": "@jupyter-widgets/controls",
      "model_module_version": "1.5.0",
      "model_name": "ButtonStyleModel",
      "state": {}
     },
     "2ddca6e49f7f4beba66b2b4b2b2bd258": {
      "model_module": "@jupyter-widgets/controls",
      "model_module_version": "1.5.0",
      "model_name": "DescriptionStyleModel",
      "state": {
       "description_width": ""
      }
     },
     "2ddec59ac18f41919fbda7de8b9f32e9": {
      "model_module": "@jupyter-widgets/base",
      "model_module_version": "1.2.0",
      "model_name": "LayoutModel",
      "state": {
       "max_width": "57px",
       "min_width": "57px"
      }
     },
     "2dfd5ab1cc754c978f6dd58419658558": {
      "model_module": "ipytree",
      "model_module_version": "0.1.8",
      "model_name": "NodeModel",
      "state": {
       "_id": "69857023-0940-4eae-a88d-a735b890af45",
       "_model_module_version": "0.1.8",
       "_view_module_version": "0.1.8",
       "icon": "file",
       "name": "conditional_operations.py"
      }
     },
     "2e9fb3a73f5d465fba8e853b5989dc52": {
      "model_module": "ipytree",
      "model_module_version": "0.1.8",
      "model_name": "NodeModel",
      "state": {
       "_id": "2a08cca8-fc52-460a-8fd2-a78dcb5a0391",
       "_model_module_version": "0.1.8",
       "_view_module_version": "0.1.8",
       "icon": "file",
       "name": "filter_eq.py"
      }
     },
     "2eb2cc9c1589473a9a46e70c0ea0e87d": {
      "model_module": "jupyter-leaflet",
      "model_module_version": "^0.13.2",
      "model_name": "LeafletWMSLayerModel",
      "state": {
       "_model_module_version": "^0.13.2",
       "_view_module_version": "^0.13.2",
       "attribution": "USGS",
       "crs": {
        "custom": false,
        "name": "EPSG3857"
       },
       "format": "image/png",
       "layers": "3DEPElevation:None",
       "max_native_zoom": 18,
       "min_native_zoom": 0,
       "name": "USGS 3DEP Elevation",
       "options": [
        "attribution",
        "detect_retina",
        "format",
        "layers",
        "max_native_zoom",
        "max_zoom",
        "min_native_zoom",
        "min_zoom",
        "no_wrap",
        "styles",
        "tile_size",
        "tms",
        "transparent",
        "uppercase"
       ],
       "transparent": true,
       "url": "https://elevation.nationalmap.gov/arcgis/services/3DEPElevation/ImageServer/WMSServer?"
      }
     },
     "2eec5810537940b693c7a5496238f28c": {
      "model_module": "ipytree",
      "model_module_version": "0.1.8",
      "model_name": "NodeModel",
      "state": {
       "_id": "ba0680ac-1e99-48ae-a802-aedcb10732ab",
       "_model_module_version": "0.1.8",
       "_view_module_version": "0.1.8",
       "icon": "file",
       "name": "vector_symbology.py"
      }
     },
     "2f3f12ea69f641719c7b54a6dbcac4fa": {
      "model_module": "ipytree",
      "model_module_version": "0.1.8",
      "model_name": "NodeModel",
      "state": {
       "_id": "fe11bd28-10df-46fc-8c49-bccfce8b8c82",
       "_model_module_version": "0.1.8",
       "_view_module_version": "0.1.8",
       "icon": "file",
       "name": "sort_by_cloud_and_date.py"
      }
     },
     "2f71ca42dc63434891100f63996055c1": {
      "model_module": "ipytree",
      "model_module_version": "0.1.8",
      "model_name": "NodeModel",
      "state": {
       "_id": "48287c33-7abb-4d46-ad99-88937f12c4ae",
       "_model_module_version": "0.1.8",
       "_view_module_version": "0.1.8",
       "icon": "file",
       "name": "weighted_reductions.py"
      }
     },
     "2fd42d8157c74f13b04460d205cca60f": {
      "model_module": "@jupyter-widgets/controls",
      "model_module_version": "1.5.0",
      "model_name": "VBoxModel",
      "state": {
       "children": [
        "IPY_MODEL_9f5d114bfda4449db2632919c50fc822",
        "IPY_MODEL_dde5958c35004d32ba1b798c36a826f7",
        "IPY_MODEL_fe90645712544b958b0cf882d52961b1"
       ],
       "layout": "IPY_MODEL_ef60ac515be74f7089d27a6a746d4905"
      }
     },
     "2fef220ec786430aa6a07e9864ede8d2": {
      "model_module": "@jupyter-widgets/controls",
      "model_module_version": "1.5.0",
      "model_name": "VBoxModel",
      "state": {
       "children": [
        "IPY_MODEL_4d8e0f20a64d404e81769105403c508a",
        "IPY_MODEL_b8c12f01478b4937a3f6d0116ed3c730"
       ],
       "layout": "IPY_MODEL_eee908b48e0546a4b3752048e55878e0"
      }
     },
     "3088d9c867d6401aa90e6b467bcbd080": {
      "model_module": "@jupyter-widgets/base",
      "model_module_version": "1.2.0",
      "model_name": "LayoutModel",
      "state": {
       "width": "80px"
      }
     },
     "30a792b47ef5424b987b163da7daddc7": {
      "model_module": "@jupyter-widgets/controls",
      "model_module_version": "1.5.0",
      "model_name": "CheckboxModel",
      "state": {
       "description": "OpenTopoMap",
       "disabled": false,
       "indent": false,
       "layout": "IPY_MODEL_670946d7ada34b4a8c0a876bc01168f3",
       "style": "IPY_MODEL_9c91eda634684f8fa10264c2055f2026",
       "value": true
      }
     },
     "30ae68e433184f5ab69e15aebb3213e1": {
      "model_module": "@jupyter-widgets/controls",
      "model_module_version": "1.5.0",
      "model_name": "HBoxModel",
      "state": {
       "children": [
        "IPY_MODEL_aa2875d3e37842ce92ba2ddf2ef1e92c",
        "IPY_MODEL_5f9032221eb14b16832ec63f6508f373",
        "IPY_MODEL_3f76cb4bee4547de9a0f44b4d2992e6e"
       ],
       "layout": "IPY_MODEL_b6817b1baaff4a72a0c9b109ea731eca"
      }
     },
     "312e12f200004243844b595a18187b1e": {
      "model_module": "jupyter-leaflet",
      "model_module_version": "^0.13.2",
      "model_name": "LeafletTileLayerModel",
      "state": {
       "_model_module_version": "^0.13.2",
       "_view_module_version": "^0.13.2",
       "attribution": "Tiles &copy; Esri &mdash; National Geographic, Esri, DeLorme, NAVTEQ, UNEP-WCMC, USGS, NASA, ESA, METI, NRCAN, GEBCO, NOAA, iPC",
       "max_native_zoom": 18,
       "max_zoom": 16,
       "min_native_zoom": 0,
       "min_zoom": 1,
       "name": "Esri.NatGeoWorldMap",
       "options": [
        "attribution",
        "detect_retina",
        "max_native_zoom",
        "max_zoom",
        "min_native_zoom",
        "min_zoom",
        "no_wrap",
        "tile_size",
        "tms"
       ],
       "url": "http://server.arcgisonline.com/ArcGIS/rest/services/NatGeo_World_Map/MapServer/tile/{z}/{y}/{x}"
      }
     },
     "3141e6e8c83a480f8a75da8ed95aa15e": {
      "model_module": "ipytree",
      "model_module_version": "0.1.8",
      "model_name": "NodeModel",
      "state": {
       "_id": "2e36b09f-7e15-4b55-a3eb-ac9d2b838689",
       "_model_module_version": "0.1.8",
       "_view_module_version": "0.1.8",
       "icon": "file",
       "name": "center_pivot_irrigation_detector.py"
      }
     },
     "318b67a69c8c485294cf6fb3c35b16b3": {
      "model_module": "ipytree",
      "model_module_version": "0.1.8",
      "model_name": "NodeModel",
      "state": {
       "_id": "52e3ce8d-2c9d-437f-8a3e-b18bafcc83de",
       "_model_module_version": "0.1.8",
       "_view_module_version": "0.1.8",
       "icon": "file",
       "name": "min_max_reducer.py"
      }
     },
     "318bdc494eb14afc994c3831060b1d9d": {
      "model_module": "@jupyter-widgets/controls",
      "model_module_version": "1.5.0",
      "model_name": "ToggleButtonModel",
      "state": {
       "icon": "globe",
       "layout": "IPY_MODEL_472c5bf111474350851f2a1c2a4fe251",
       "style": "IPY_MODEL_853f188e22b34865802fe191d81a4ac9",
       "tooltip": "Search location/data"
      }
     },
     "320f48a190de48faaee100327f1a3504": {
      "model_module": "@jupyter-widgets/controls",
      "model_module_version": "1.5.0",
      "model_name": "DescriptionStyleModel",
      "state": {
       "description_width": ""
      }
     },
     "3286f442592741c68bc09141b55d4cce": {
      "model_module": "ipytree",
      "model_module_version": "0.1.8",
      "model_name": "NodeModel",
      "state": {
       "_id": "eaa1014b-a50b-4e5c-934c-3d44d6969d30",
       "_model_module_version": "0.1.8",
       "_view_module_version": "0.1.8",
       "icon": "file",
       "name": "center_pivot_irrigation_detector.py"
      }
     },
     "32d7fb411ae04d27af9288df40dc01e3": {
      "model_module": "ipytree",
      "model_module_version": "0.1.8",
      "model_name": "NodeModel",
      "state": {
       "_id": "6677b48e-dc33-400d-b838-0eca44491fb7",
       "_model_module_version": "0.1.8",
       "_view_module_version": "0.1.8",
       "icon": "file",
       "name": "column_statistics_multiple.py"
      }
     },
     "331471893e2a45af854beba326e8c35f": {
      "model_module": "jupyter-leaflet",
      "model_module_version": "^0.13.2",
      "model_name": "LeafletTileLayerModel",
      "state": {
       "_model_module_version": "^0.13.2",
       "_view_module_version": "^0.13.2",
       "attribution": "Esri",
       "max_native_zoom": 18,
       "min_native_zoom": 0,
       "name": "Esri Standard",
       "options": [
        "attribution",
        "detect_retina",
        "max_native_zoom",
        "max_zoom",
        "min_native_zoom",
        "min_zoom",
        "no_wrap",
        "tile_size",
        "tms"
       ],
       "url": "https://server.arcgisonline.com/ArcGIS/rest/services/World_Street_Map/MapServer/tile/{z}/{y}/{x}"
      }
     },
     "338ea5361e234fcdadf867b675602607": {
      "model_module": "@jupyter-widgets/controls",
      "model_module_version": "1.5.0",
      "model_name": "HBoxModel",
      "state": {
       "children": [
        "IPY_MODEL_13063bd870b44c5fb96eeaa3d2623e40",
        "IPY_MODEL_5fa5e146405c43d09e70c09b42cfa001",
        "IPY_MODEL_667d25f409474331b943241be209d710"
       ],
       "layout": "IPY_MODEL_e8d699a21c794a2f85eb7ecbfb454cc9"
      }
     },
     "33917b24e1ae4e8fbf3bc353691b3b12": {
      "model_module": "@jupyter-widgets/controls",
      "model_module_version": "1.5.0",
      "model_name": "CheckboxModel",
      "state": {
       "description": "OpenTopoMap",
       "disabled": false,
       "indent": false,
       "layout": "IPY_MODEL_1bb672c930734d7b9dfc8472b4bf9d18",
       "style": "IPY_MODEL_3a87e28ccee5477d930051ae686e27ea",
       "value": true
      }
     },
     "339f4cd474dd498cabbc371dbe5f4956": {
      "model_module": "@jupyter-widgets/base",
      "model_module_version": "1.2.0",
      "model_name": "LayoutModel",
      "state": {
       "width": "auto"
      }
     },
     "33b4ec2ada5e45e2a9fef8f6d23f67f4": {
      "model_module": "ipytree",
      "model_module_version": "0.1.8",
      "model_name": "NodeModel",
      "state": {
       "_id": "5a4a2d58-c4af-4eb8-86e0-05a225c23caa",
       "_model_module_version": "0.1.8",
       "_view_module_version": "0.1.8",
       "icon": "file",
       "name": "band_math.py"
      }
     },
     "3405e00fe6b74f5abd095fc18bf9e917": {
      "model_module": "ipytree",
      "model_module_version": "0.1.8",
      "model_name": "NodeModel",
      "state": {
       "_id": "adc1a5a5-da46-4513-b44e-92b3071b509a",
       "_model_module_version": "0.1.8",
       "_view_module_version": "0.1.8",
       "icon": "file",
       "name": "pixel_lon_lat.py"
      }
     },
     "3447af0c27d949628ad25f425b087ec6": {
      "model_module": "ipytree",
      "model_module_version": "0.1.8",
      "model_name": "NodeModel",
      "state": {
       "_id": "09d05d9b-a93a-4d0b-b235-aa43df80d311",
       "_model_module_version": "0.1.8",
       "_view_module_version": "0.1.8",
       "icon": "file",
       "name": "from_name.py"
      }
     },
     "34bc86fdff254d3e8ab7f6299dfc60b1": {
      "model_module": "@jupyter-widgets/controls",
      "model_module_version": "1.5.0",
      "model_name": "FloatSliderModel",
      "state": {
       "layout": "IPY_MODEL_078fa73b2e144de793e2e759d268a512",
       "max": 1,
       "readout": false,
       "step": 0.01,
       "style": "IPY_MODEL_4d98d6464b034b85b57fac4ac38da1bc",
       "value": 1
      }
     },
     "355f01371cac459a8677f8dccd82c11e": {
      "model_module": "ipytree",
      "model_module_version": "0.1.8",
      "model_name": "NodeModel",
      "state": {
       "_id": "304e8a6f-49ab-406e-a5a7-0f5c97f40ae3",
       "_model_module_version": "0.1.8",
       "_view_module_version": "0.1.8",
       "icon": "file",
       "name": "us_lithology.py"
      }
     },
     "361df56101294563a5c027ceca6ca8f1": {
      "model_module": "ipytree",
      "model_module_version": "0.1.8",
      "model_name": "NodeModel",
      "state": {
       "_id": "8e2119f6-df83-4259-acd4-c4ce2c14e092",
       "_model_module_version": "0.1.8",
       "_view_module_version": "0.1.8",
       "icon": "file",
       "name": "qgis_to_geemap.py"
      }
     },
     "36287e8322704d009ee668f3d2e6b2bf": {
      "model_module": "ipytree",
      "model_module_version": "0.1.8",
      "model_name": "NodeModel",
      "state": {
       "_id": "bfce83e8-311d-49d6-89c1-df02903f9048",
       "_model_module_version": "0.1.8",
       "_view_module_version": "0.1.8",
       "icon": "file",
       "name": "usgs_nlcd.py"
      }
     },
     "365b5e25016444ee887fc1d83af3f861": {
      "model_module": "@jupyter-widgets/base",
      "model_module_version": "1.2.0",
      "model_name": "LayoutModel",
      "state": {
       "height": "25px",
       "padding": "0px",
       "width": "25px"
      }
     },
     "36cc32bb75a147c0b112fd9b45db9ec5": {
      "model_module": "ipytree",
      "model_module_version": "0.1.8",
      "model_name": "NodeModel",
      "state": {
       "_id": "d72ebf56-1d00-4eb7-a97d-569e192442b0",
       "_model_module_version": "0.1.8",
       "_view_module_version": "0.1.8",
       "icon": "file",
       "name": "srtm_chili.py"
      }
     },
     "36d935b2fcf84afbb11eb9e014212562": {
      "model_module": "ipytree",
      "model_module_version": "0.1.8",
      "model_name": "NodeModel",
      "state": {
       "_id": "45afecba-fd8f-4e54-accc-8378a8902f9e",
       "_model_module_version": "0.1.8",
       "_view_module_version": "0.1.8",
       "icon": "file",
       "name": "image_stretch.py"
      }
     },
     "36fc7dca684c46698163644afac2c774": {
      "model_module": "@jupyter-widgets/controls",
      "model_module_version": "1.5.0",
      "model_name": "ButtonModel",
      "state": {
       "button_style": "primary",
       "description": "import",
       "layout": "IPY_MODEL_2ddec59ac18f41919fbda7de8b9f32e9",
       "style": "IPY_MODEL_73185c09f9f04511a939c1789a2a9480",
       "tooltip": "Click to import the selected asset"
      }
     },
     "373716914fd445c3896af0fffbe65a43": {
      "model_module": "jupyter-leaflet",
      "model_module_version": "^0.13.2",
      "model_name": "LeafletTileLayerModel",
      "state": {
       "_model_module_version": "^0.13.2",
       "_view_module_version": "^0.13.2",
       "attribution": "Esri",
       "max_native_zoom": 18,
       "min_native_zoom": 0,
       "name": "Esri Shaded Relief",
       "options": [
        "attribution",
        "detect_retina",
        "max_native_zoom",
        "max_zoom",
        "min_native_zoom",
        "min_zoom",
        "no_wrap",
        "tile_size",
        "tms"
       ],
       "url": "https://services.arcgisonline.com/arcgis/rest/services/World_Shaded_Relief/MapServer/tile/{z}/{y}/{x}"
      }
     },
     "383069b837434d0aad815c7b3db8eee7": {
      "model_module": "@jupyter-widgets/controls",
      "model_module_version": "1.5.0",
      "model_name": "FloatSliderModel",
      "state": {
       "layout": "IPY_MODEL_0e4a4b84d4f844498a18cd5a3e647cd8",
       "max": 1,
       "readout": false,
       "step": 0.01,
       "style": "IPY_MODEL_0260e5e2b7534294b740de8232888198",
       "value": 1
      }
     },
     "38534143a1c840b2baf5bbcfc1fe608d": {
      "model_module": "@jupyter-widgets/base",
      "model_module_version": "1.2.0",
      "model_name": "LayoutModel",
      "state": {
       "width": "475px"
      }
     },
     "38dbfde179f24ea08730c9f36857e39d": {
      "model_module": "ipytree",
      "model_module_version": "0.1.8",
      "model_name": "NodeModel",
      "state": {
       "_id": "770378cb-8490-4a4f-b9ed-98b03d48489d",
       "_model_module_version": "0.1.8",
       "_view_module_version": "0.1.8",
       "icon": "file",
       "name": "landsat8_surface_reflectance-copy.py"
      }
     },
     "38e8230bc1fd4baeb3ed6b829e2c95ea": {
      "model_module": "@jupyter-widgets/controls",
      "model_module_version": "1.5.0",
      "model_name": "SliderStyleModel",
      "state": {
       "description_width": ""
      }
     },
     "39064e8812b341eca4ccf09eeeea360e": {
      "model_module": "jupyter-leaflet",
      "model_module_version": "^0.13.2",
      "model_name": "LeafletWidgetControlModel",
      "state": {
       "_model_module": "jupyter-leaflet",
       "_model_module_version": "^0.13.2",
       "_view_count": null,
       "_view_module": "jupyter-leaflet",
       "_view_module_version": "^0.13.2",
       "options": [
        "position"
       ],
       "position": "topright",
       "widget": "IPY_MODEL_11b0ea24ee7f4ac4bcc60200a6ddf24c"
      }
     },
     "390b4c3211194be8bd33ed3cebcc1d29": {
      "model_module": "ipytree",
      "model_module_version": "0.1.8",
      "model_name": "NodeModel",
      "state": {
       "_id": "23e26ffa-a685-471d-85a8-9d5c0a9d42e4",
       "_model_module_version": "0.1.8",
       "_view_module_version": "0.1.8",
       "icon": "file",
       "name": "ClientVsServer.py"
      }
     },
     "39a9819d49f64b299ac1b708f7a677e5": {
      "model_module": "@jupyter-widgets/controls",
      "model_module_version": "1.5.0",
      "model_name": "HBoxModel",
      "state": {
       "children": [
        "IPY_MODEL_9e79ee8448c9406bacb304353d0d0d5a",
        "IPY_MODEL_b1538f97d07e404aac9c3ab964173d8d",
        "IPY_MODEL_8aa529f5d25f476eadcca40dcc1a418d"
       ],
       "layout": "IPY_MODEL_449b30c8cb2342d8ac7dafb3b0d14f6c"
      }
     },
     "39b7d7a810f44fc98147ff08f7edb3f1": {
      "model_module": "ipytree",
      "model_module_version": "0.1.8",
      "model_name": "NodeModel",
      "state": {
       "_id": "a0ccd36c-0f56-4d58-8628-e5f8c9e1f3e8",
       "_model_module_version": "0.1.8",
       "_view_module_version": "0.1.8",
       "name": "CloudMasking",
       "nodes": [
        "IPY_MODEL_4369a4375c224a638f8d641b0fbe94e8",
        "IPY_MODEL_38dbfde179f24ea08730c9f36857e39d",
        "IPY_MODEL_0337cfd0e839498099d7b17b5b28f404",
        "IPY_MODEL_298faa380b5040cda2956b35ac119e0a",
        "IPY_MODEL_8644d4fe4ef249bb93e1ad621fd1b9d2"
       ],
       "opened": false
      }
     },
     "39e0935b84304c6a8379f3f0adf880e1": {
      "model_module": "@jupyter-widgets/controls",
      "model_module_version": "1.5.0",
      "model_name": "SliderStyleModel",
      "state": {
       "description_width": ""
      }
     },
     "3a87e28ccee5477d930051ae686e27ea": {
      "model_module": "@jupyter-widgets/controls",
      "model_module_version": "1.5.0",
      "model_name": "DescriptionStyleModel",
      "state": {
       "description_width": ""
      }
     },
     "3ab0592cd2d64214a383e7d9e7361259": {
      "model_module": "ipytree",
      "model_module_version": "0.1.8",
      "model_name": "NodeModel",
      "state": {
       "_id": "19b3baf9-7e09-40d7-be11-7d4f0c11ecad",
       "_model_module_version": "0.1.8",
       "_view_module_version": "0.1.8",
       "icon": "file",
       "name": "LICENSE"
      }
     },
     "3ab2066921b6448ca5ab64e8bafeb8b1": {
      "model_module": "ipytree",
      "model_module_version": "0.1.8",
      "model_name": "NodeModel",
      "state": {
       "_id": "88edd324-7946-46e5-956c-b52c5b0175e7",
       "_model_module_version": "0.1.8",
       "_view_module_version": "0.1.8",
       "icon": "file",
       "name": "sentinel-1_filtering.py"
      }
     },
     "3b541e16859e4c1d9024163d7b57b291": {
      "model_module": "@jupyter-widgets/controls",
      "model_module_version": "1.5.0",
      "model_name": "CheckboxModel",
      "state": {
       "description": "glims_polygons",
       "disabled": false,
       "indent": false,
       "layout": "IPY_MODEL_d2bb6ce2c5224c629e9bb5deb4121190",
       "style": "IPY_MODEL_3e17bb7116ed4b2586d8abab498947ba",
       "value": true
      }
     },
     "3b7bc39ad9964453a632028c64b73ec9": {
      "model_module": "jupyter-leaflet",
      "model_module_version": "^0.13.2",
      "model_name": "LeafletTileLayerModel",
      "state": {
       "_model_module_version": "^0.13.2",
       "_view_module_version": "^0.13.2",
       "attribution": "Map tiles by <a href=\"https://labs.strava.com/heatmap\">Strava 2017</a>",
       "max_native_zoom": 18,
       "max_zoom": 15,
       "min_native_zoom": 0,
       "min_zoom": 1,
       "name": "Strava.Winter",
       "options": [
        "attribution",
        "detect_retina",
        "max_native_zoom",
        "max_zoom",
        "min_native_zoom",
        "min_zoom",
        "no_wrap",
        "tile_size",
        "tms"
       ],
       "url": "https://heatmap-external-a.strava.com//tiles/winter/hot/{z}/{x}/{y}.png?v=19"
      }
     },
     "3b9dc0e1e94c413292da670fe4d3b036": {
      "model_module": "@jupyter-widgets/controls",
      "model_module_version": "1.5.0",
      "model_name": "ButtonStyleModel",
      "state": {}
     },
     "3bf34ee0c9f84e8cb50cecf1b27b9f44": {
      "model_module": "jupyter-leaflet",
      "model_module_version": "^0.13.2",
      "model_name": "LeafletTileLayerModel",
      "state": {
       "_model_module_version": "^0.13.2",
       "_view_module_version": "^0.13.2",
       "attribution": "&copy; Openstreetmap France | &copy; <a href=\"http://www.openstreetmap.org/copyright\">OpenStreetMap</a>",
       "max_native_zoom": 18,
       "max_zoom": 20,
       "min_native_zoom": 0,
       "min_zoom": 1,
       "name": "OpenStreetMap.France",
       "options": [
        "attribution",
        "detect_retina",
        "max_native_zoom",
        "max_zoom",
        "min_native_zoom",
        "min_zoom",
        "no_wrap",
        "tile_size",
        "tms"
       ],
       "url": "http://{s}.tile.openstreetmap.fr/osmfr/{z}/{x}/{y}.png"
      }
     },
     "3c4916becdab452e8c7a65ad59c17b2e": {
      "model_module": "ipytree",
      "model_module_version": "0.1.8",
      "model_name": "NodeModel",
      "state": {
       "_id": "368c83b3-ff90-4d79-ab64-76972ceefc9e",
       "_model_module_version": "0.1.8",
       "_view_module_version": "0.1.8",
       "icon": "file",
       "name": "rendering_categorical_maps.py"
      }
     },
     "3c72053242a44626b0b56e9609cc130c": {
      "model_module": "@jupyter-widgets/controls",
      "model_module_version": "1.5.0",
      "model_name": "HBoxModel",
      "state": {
       "children": [
        "IPY_MODEL_b240e1d9866347e8bb6d66a8bfa8670b",
        "IPY_MODEL_84f4432c0eb542c78370dbc3e89d8a04",
        "IPY_MODEL_e89e536b69bc40ff82ae712aa0a50286"
       ],
       "layout": "IPY_MODEL_01a8a8597b7d4573b363633e9e6a39b5"
      }
     },
     "3c84d36300684610a539233f09a2ee3b": {
      "model_module": "@jupyter-widgets/controls",
      "model_module_version": "1.5.0",
      "model_name": "DescriptionStyleModel",
      "state": {
       "description_width": ""
      }
     },
     "3d21330e83284472930077e6ba937874": {
      "model_module": "@jupyter-widgets/controls",
      "model_module_version": "1.5.0",
      "model_name": "DescriptionStyleModel",
      "state": {
       "description_width": ""
      }
     },
     "3d231eaa63234dc284e328377453d594": {
      "model_module": "@jupyter-widgets/controls",
      "model_module_version": "1.5.0",
      "model_name": "LinkModel",
      "state": {
       "source": [
        "IPY_MODEL_f7aa1c37f26d414398c13c8b865cc381",
        "value"
       ],
       "target": [
        "IPY_MODEL_3ddcaa6df6934a9286f82c79e67680b1",
        "visible"
       ]
      }
     },
     "3dc0b404d86c456192269671cdb6abe2": {
      "model_module": "ipytree",
      "model_module_version": "0.1.8",
      "model_name": "NodeModel",
      "state": {
       "_id": "ebe33a2b-4f7c-4a8b-b935-c6d5b7ae8f9a",
       "_model_module_version": "0.1.8",
       "_view_module_version": "0.1.8",
       "icon": "file",
       "name": "naip_imagery.py"
      }
     },
     "3ddcaa6df6934a9286f82c79e67680b1": {
      "model_module": "jupyter-leaflet",
      "model_module_version": "^0.13.2",
      "model_name": "LeafletTileLayerModel",
      "state": {
       "_model_module_version": "^0.13.2",
       "_view_module_version": "^0.13.2",
       "attribution": "Google",
       "max_native_zoom": 18,
       "min_native_zoom": 0,
       "name": "Google Satellite",
       "options": [
        "attribution",
        "detect_retina",
        "max_native_zoom",
        "max_zoom",
        "min_native_zoom",
        "min_zoom",
        "no_wrap",
        "tile_size",
        "tms"
       ],
       "url": "https://mt1.google.com/vt/lyrs=s&x={x}&y={y}&z={z}"
      }
     },
     "3e17bb7116ed4b2586d8abab498947ba": {
      "model_module": "@jupyter-widgets/controls",
      "model_module_version": "1.5.0",
      "model_name": "DescriptionStyleModel",
      "state": {
       "description_width": ""
      }
     },
     "3e25dda485f24fd998905efb85075509": {
      "model_module": "@jupyter-widgets/base",
      "model_module_version": "1.2.0",
      "model_name": "LayoutModel",
      "state": {
       "height": "auto",
       "padding": "0px 0px 0px 4px",
       "width": "auto"
      }
     },
     "3e9ebc12680b4c96ba7e11f6a0592c99": {
      "model_module": "ipytree",
      "model_module_version": "0.1.8",
      "model_name": "NodeModel",
      "state": {
       "_id": "86bf42d5-cbe3-4dd6-b68f-e85539db50e0",
       "_model_module_version": "0.1.8",
       "_view_module_version": "0.1.8",
       "icon": "file",
       "name": "filter_in_list.py"
      }
     },
     "3edcc2b57348459db9a37cba1672744c": {
      "model_module": "ipytree",
      "model_module_version": "0.1.8",
      "model_name": "NodeModel",
      "state": {
       "_id": "7b15e0ad-db32-412e-84c0-f08573b30c9e",
       "_model_module_version": "0.1.8",
       "_view_module_version": "0.1.8",
       "icon": "file",
       "name": "get_image_id.py"
      }
     },
     "3ee022a8f778479f8966934914cb54ce": {
      "model_module": "ipytree",
      "model_module_version": "0.1.8",
      "model_name": "NodeModel",
      "state": {
       "_id": "1954c79e-d476-4b11-8375-70467a6f97a6",
       "_model_module_version": "0.1.8",
       "_view_module_version": "0.1.8",
       "icon": "file",
       "name": "ndwi.py"
      }
     },
     "3f35782b0488469295d77a9b7b2bada8": {
      "model_module": "jupyter-leaflet",
      "model_module_version": "^0.13.2",
      "model_name": "LeafletTileLayerModel",
      "state": {
       "_model_module_version": "^0.13.2",
       "_view_module_version": "^0.13.2",
       "attribution": "Tiles courtesy of <a href=\"http://openstreetmap.se/\" target=\"_blank\">OpenStreetMap Sweden</a> &mdash; Map data &copy; <a href=\"http://www.openstreetmap.org/copyright\">OpenStreetMap</a>",
       "max_native_zoom": 18,
       "min_native_zoom": 0,
       "min_zoom": 1,
       "name": "Hydda.Base",
       "options": [
        "attribution",
        "detect_retina",
        "max_native_zoom",
        "max_zoom",
        "min_native_zoom",
        "min_zoom",
        "no_wrap",
        "tile_size",
        "tms"
       ],
       "url": "http://{s}.tile.openstreetmap.se/hydda/base/{z}/{x}/{y}.png"
      }
     },
     "3f76cb4bee4547de9a0f44b4d2992e6e": {
      "model_module": "@jupyter-widgets/controls",
      "model_module_version": "1.5.0",
      "model_name": "FloatSliderModel",
      "state": {
       "layout": "IPY_MODEL_eb365f35623042e8979d2099836cfa25",
       "max": 1,
       "readout": false,
       "step": 0.01,
       "style": "IPY_MODEL_e8ec20a98bb24cc89c515b31d158d7cd",
       "value": 1
      }
     },
     "3fe6fd3e20da47f680dd1c6670609402": {
      "model_module": "@jupyter-widgets/controls",
      "model_module_version": "1.5.0",
      "model_name": "ToggleButtonModel",
      "state": {
       "icon": "wrench",
       "layout": "IPY_MODEL_9d72cdfc0417468a860d750b03c49783",
       "style": "IPY_MODEL_bcc33efe778346b6906e7918ff448cc9",
       "tooltip": "Toolbar"
      }
     },
     "40148e98d7de4edd8a5802a618afcd92": {
      "model_module": "ipytree",
      "model_module_version": "0.1.8",
      "model_name": "NodeModel",
      "state": {
       "_id": "5ceda0c8-6f97-4b03-a462-bcfd7f8e7401",
       "_model_module_version": "0.1.8",
       "_view_module_version": "0.1.8",
       "icon": "file",
       "name": "color_by_attribute.py"
      }
     },
     "4019dfd5bf2843e88c2784cc5277a579": {
      "model_module": "@jupyter-widgets/base",
      "model_module_version": "1.2.0",
      "model_name": "LayoutModel",
      "state": {}
     },
     "403d109a1c7a476b898399ea4f906cc3": {
      "model_module": "ipytree",
      "model_module_version": "0.1.8",
      "model_name": "NodeModel",
      "state": {
       "_id": "ba335fa3-1e8e-4eff-a308-bd0add65f060",
       "_model_module_version": "0.1.8",
       "_view_module_version": "0.1.8",
       "icon": "file",
       "name": "polynomial.py"
      }
     },
     "4041703831834c388f1a897557fc8b19": {
      "model_module": "@jupyter-widgets/controls",
      "model_module_version": "1.5.0",
      "model_name": "DescriptionStyleModel",
      "state": {
       "description_width": ""
      }
     },
     "408d640e000e4486b430c5f0c587ca6d": {
      "model_module": "ipytree",
      "model_module_version": "0.1.8",
      "model_name": "NodeModel",
      "state": {
       "_id": "7de769bf-0d27-4d55-a9b9-e720095d036c",
       "_model_module_version": "0.1.8",
       "_view_module_version": "0.1.8",
       "icon": "file",
       "name": "global_land_ice_measurements.py"
      }
     },
     "41245d6482d447eda05e0294af236f8d": {
      "model_module": "jupyter-leaflet",
      "model_module_version": "^0.13.2",
      "model_name": "LeafletTileLayerModel",
      "state": {
       "_model_module_version": "^0.13.2",
       "_view_module_version": "^0.13.2",
       "attribution": "\nImagery provided by services from the Global Imagery Browse Services (GIBS), operated by the NASA/GSFC/Earth Science Data and Information System (<a href=\"https://earthdata.nasa.gov\">ESDIS</a>) with funding provided by NASA/HQ.\n",
       "max_native_zoom": 18,
       "max_zoom": 5,
       "min_native_zoom": 0,
       "min_zoom": 1,
       "name": "NASAGIBS.BlueMarble3413",
       "options": [
        "attribution",
        "detect_retina",
        "max_native_zoom",
        "max_zoom",
        "min_native_zoom",
        "min_zoom",
        "no_wrap",
        "tile_size",
        "tms"
       ],
       "url": "https://gibs.earthdata.nasa.gov/wmts/epsg3413/best/BlueMarble_NextGeneration/default/EPSG3413_500m/{z}/{y}/{x}.jpeg"
      }
     },
     "4150051160314b8aa80bbe678e2bf63a": {
      "model_module": "@jupyter-widgets/controls",
      "model_module_version": "1.5.0",
      "model_name": "DirectionalLinkModel",
      "state": {
       "source": [
        "IPY_MODEL_3f76cb4bee4547de9a0f44b4d2992e6e",
        "value"
       ],
       "target": [
        "IPY_MODEL_e2f4097d83bc4212becb6aecabcc5a14",
        "opacity"
       ]
      }
     },
     "415950c811b64a90afb1db95ce49d075": {
      "model_module": "@jupyter-widgets/controls",
      "model_module_version": "1.5.0",
      "model_name": "ToggleButtonModel",
      "state": {
       "button_style": "primary",
       "icon": "camera",
       "layout": "IPY_MODEL_8c3e48dfd51b416d9f8c373e1f796fc9",
       "style": "IPY_MODEL_f01b048aa101484d888d5d36399e1ca7",
       "tooltip": "Save map as HTML or image"
      }
     },
     "419f3714bdee495386898f0c8fe4da14": {
      "model_module": "@jupyter-widgets/base",
      "model_module_version": "1.2.0",
      "model_name": "LayoutModel",
      "state": {
       "display": "none",
       "grid_gap": "0px 0px",
       "grid_template_areas": "\n                    'pathlist filename'\n                    'dircontent dircontent'\n                    ",
       "grid_template_columns": "60% 40%",
       "grid_template_rows": "auto auto",
       "width": "500px"
      }
     },
     "41e6487e080045d98415361e8bd1039d": {
      "model_module": "ipytree",
      "model_module_version": "0.1.8",
      "model_name": "NodeModel",
      "state": {
       "_id": "11d896a2-97d3-4679-b289-4fed0f0ddb6d",
       "_model_module_version": "0.1.8",
       "_view_module_version": "0.1.8",
       "icon": "file",
       "name": "object_based.py"
      }
     },
     "41fac5be1cd047368c064e31979eab7e": {
      "model_module": "ipytree",
      "model_module_version": "0.1.8",
      "model_name": "NodeModel",
      "state": {
       "_id": "3d1fb3b7-daea-487d-9127-3762fb4eea72",
       "_model_module_version": "0.1.8",
       "_view_module_version": "0.1.8",
       "icon": "file",
       "name": "texture.py"
      }
     },
     "425d9d7fef9640b0b7fa7c606a1f0418": {
      "model_module": "@jupyter-widgets/base",
      "model_module_version": "1.2.0",
      "model_name": "LayoutModel",
      "state": {}
     },
     "4347cb6f5fd64b3791d76a56d3747412": {
      "model_module": "@jupyter-widgets/controls",
      "model_module_version": "1.5.0",
      "model_name": "ToggleButtonModel",
      "state": {
       "button_style": "primary",
       "icon": "google",
       "layout": "IPY_MODEL_ac277a23b06f48dfa56908dd5f6745ff",
       "style": "IPY_MODEL_ef8164555a0e41f0b327c77d97e7ff6d",
       "tooltip": "GEE Toolbox for cloud computing"
      }
     },
     "4369a4375c224a638f8d641b0fbe94e8": {
      "model_module": "ipytree",
      "model_module_version": "0.1.8",
      "model_name": "NodeModel",
      "state": {
       "_id": "35c39620-daab-4642-b1c7-a79bef477e74",
       "_model_module_version": "0.1.8",
       "_view_module_version": "0.1.8",
       "icon": "file",
       "name": "landsat457_surface_reflectance.py"
      }
     },
     "438b2dff47454bcea146e5be6de0118c": {
      "model_module": "ipytree",
      "model_module_version": "0.1.8",
      "model_name": "NodeModel",
      "state": {
       "_id": "0ebe30d2-7a6b-408b-a698-f24d100de39f",
       "_model_module_version": "0.1.8",
       "_view_module_version": "0.1.8",
       "icon": "file",
       "name": "usda_naip.py"
      }
     },
     "43e69eac4acd4ec79a07ba5284f33fe9": {
      "model_module": "@jupyter-widgets/controls",
      "model_module_version": "1.5.0",
      "model_name": "DescriptionStyleModel",
      "state": {
       "description_width": ""
      }
     },
     "43e80a98cca1471b82fe4789fc39b242": {
      "model_module": "jupyter-leaflet",
      "model_module_version": "^0.13.2",
      "model_name": "LeafletDrawControlModel",
      "state": {
       "_model_module_version": "^0.13.2",
       "_view_module_version": "^0.13.2",
       "circle": {
        "shapeOptions": {
         "color": "#3388ff"
        }
       },
       "edit": false,
       "options": [
        "position"
       ],
       "polygon": {},
       "polyline": {},
       "rectangle": {
        "shapeOptions": {
         "color": "#3388ff"
        }
       },
       "remove": false
      }
     },
     "441cab583f1140c489cbf1f45584c66e": {
      "model_module": "jupyter-leaflet",
      "model_module_version": "^0.13.2",
      "model_name": "LeafletTileLayerModel",
      "state": {
       "_model_module_version": "^0.13.2",
       "_view_module_version": "^0.13.2",
       "attribution": "Google Earth Engine",
       "max_native_zoom": 18,
       "min_native_zoom": 0,
       "name": "glims_polygons",
       "options": [
        "attribution",
        "detect_retina",
        "max_native_zoom",
        "max_zoom",
        "min_native_zoom",
        "min_zoom",
        "no_wrap",
        "tile_size",
        "tms"
       ],
       "url": "https://earthengine.googleapis.com/v1alpha/projects/earthengine-legacy/maps/43ffe62e56f01f46bfeed224e8cf5d2d-72c10cc6cfbf01a8c17fa20235f1625f/tiles/{z}/{x}/{y}"
      }
     },
     "446ec445cb87433db07124cf756c2e8a": {
      "model_module": "ipytree",
      "model_module_version": "0.1.8",
      "model_name": "NodeModel",
      "state": {
       "_id": "193390af-0f93-480c-a7c2-4ef559150ce9",
       "_model_module_version": "0.1.8",
       "_view_module_version": "0.1.8",
       "icon": "file",
       "name": "clustering.py"
      }
     },
     "44929a072553464c94454cdd6f303879": {
      "model_module": "jupyter-leaflet",
      "model_module_version": "^0.13.2",
      "model_name": "LeafletTileLayerModel",
      "state": {
       "_model_module_version": "^0.13.2",
       "_view_module_version": "^0.13.2",
       "attribution": "&copy; <a href=\"http://www.openstreetmap.org/copyright\">OpenStreetMap</a>",
       "max_native_zoom": 18,
       "min_native_zoom": 0,
       "min_zoom": 1,
       "name": "OpenStreetMap.BlackAndWhite",
       "options": [
        "attribution",
        "detect_retina",
        "max_native_zoom",
        "max_zoom",
        "min_native_zoom",
        "min_zoom",
        "no_wrap",
        "tile_size",
        "tms"
       ],
       "url": "http://{s}.tiles.wmflabs.org/bw-mapnik/{z}/{x}/{y}.png"
      }
     },
     "449b30c8cb2342d8ac7dafb3b0d14f6c": {
      "model_module": "@jupyter-widgets/base",
      "model_module_version": "1.2.0",
      "model_name": "LayoutModel",
      "state": {
       "padding": "0px 8px 0px 8px"
      }
     },
     "4551b2e173544d8eaf75fce41148ea04": {
      "model_module": "@jupyter-widgets/base",
      "model_module_version": "1.2.0",
      "model_name": "LayoutModel",
      "state": {
       "height": "18px",
       "width": "25ex"
      }
     },
     "457c47144de84568ad6be4dbcdefa338": {
      "model_module": "ipyevents",
      "model_module_version": "1.8.1",
      "model_name": "EventModel",
      "state": {
       "_supported_key_events": [
        "keydown",
        "keyup"
       ],
       "_supported_mouse_events": [
        "click",
        "auxclick",
        "dblclick",
        "mouseenter",
        "mouseleave",
        "mousedown",
        "mouseup",
        "mousemove",
        "wheel",
        "contextmenu",
        "dragstart",
        "drag",
        "dragend",
        "dragenter",
        "dragover",
        "dragleave",
        "drop"
       ],
       "_view_module": "@jupyter-widgets/controls",
       "_view_module_version": "1.5.0",
       "source": "IPY_MODEL_501eba69cd5e4af9abae502f05ac2cbf",
       "throttle_or_debounce": "",
       "watched_events": [
        "mouseenter",
        "mouseleave"
       ],
       "xy_coordinate_system": ""
      }
     },
     "457d3aaedbd64f76bade87fd8a418281": {
      "model_module": "@jupyter-widgets/base",
      "model_module_version": "1.2.0",
      "model_name": "LayoutModel",
      "state": {}
     },
     "461293d8e1924889a4f3be66335458cf": {
      "model_module": "@jupyter-widgets/base",
      "model_module_version": "1.2.0",
      "model_name": "LayoutModel",
      "state": {
       "max_width": "279px",
       "min_width": "279px"
      }
     },
     "461d83e461ee4f64a5067b84e3dcd286": {
      "model_module": "ipytree",
      "model_module_version": "0.1.8",
      "model_name": "NodeModel",
      "state": {
       "_id": "df996037-4911-4dfc-b930-61a3f83e599b",
       "_model_module_version": "0.1.8",
       "_view_module_version": "0.1.8",
       "icon": "file",
       "name": "join.py"
      }
     },
     "4693940595b94c71b172e0c5016b6026": {
      "model_module": "@jupyter-widgets/controls",
      "model_module_version": "1.5.0",
      "model_name": "CheckboxModel",
      "state": {
       "description": "kz",
       "disabled": false,
       "indent": false,
       "layout": "IPY_MODEL_0674ade2a4bd43a79965f80c831480f2",
       "style": "IPY_MODEL_320f48a190de48faaee100327f1a3504",
       "value": false
      }
     },
     "46dd060b81544afd8331a7792ed29727": {
      "model_module": "@jupyter-widgets/base",
      "model_module_version": "1.2.0",
      "model_name": "LayoutModel",
      "state": {
       "height": "25px",
       "padding": "0px",
       "width": "25px"
      }
     },
     "46f2687d673946138a4b48bb795462e2": {
      "model_module": "@jupyter-widgets/controls",
      "model_module_version": "1.5.0",
      "model_name": "ToggleButtonModel",
      "state": {
       "icon": "gear",
       "layout": "IPY_MODEL_a4f4d40e0e8a4aa79b5aab7737a6b3e2",
       "style": "IPY_MODEL_4bc258cb3612438383b1feb751eafe38",
       "tooltip": "Google Satellite"
      }
     },
     "4723047632b54ef09fdfddd6e16d6ec3": {
      "model_module": "jupyter-leaflet",
      "model_module_version": "^0.13.2",
      "model_name": "LeafletDrawControlModel",
      "state": {
       "_model_module_version": "^0.13.2",
       "_view_module_version": "^0.13.2",
       "circle": {
        "shapeOptions": {
         "color": "#3388ff"
        }
       },
       "marker": {
        "shapeOptions": {
         "color": "#3388ff"
        }
       },
       "options": [
        "position"
       ],
       "rectangle": {
        "shapeOptions": {
         "color": "#3388ff"
        }
       }
      }
     },
     "4723ee6b38924e59a48236e5a09edc40": {
      "model_module": "ipytree",
      "model_module_version": "0.1.8",
      "model_name": "NodeModel",
      "state": {
       "_id": "15f93072-d18e-4b58-9e98-dc9d1383d10c",
       "_model_module_version": "0.1.8",
       "_view_module_version": "0.1.8",
       "icon": "file",
       "name": "add_area_column.py"
      }
     },
     "472c5bf111474350851f2a1c2a4fe251": {
      "model_module": "@jupyter-widgets/base",
      "model_module_version": "1.2.0",
      "model_name": "LayoutModel",
      "state": {
       "height": "28px",
       "padding": "0px 0px 0px 4px",
       "width": "28px"
      }
     },
     "474b9b72853e47039bca214850f94806": {
      "model_module": "@jupyter-widgets/controls",
      "model_module_version": "1.5.0",
      "model_name": "FloatSliderModel",
      "state": {
       "layout": "IPY_MODEL_188c9ba37eeb448da8d9136737ea6bda",
       "max": 1,
       "readout": false,
       "step": 0.01,
       "style": "IPY_MODEL_fa1576ec6bd34618b03c556010c3cda2",
       "value": 1
      }
     },
     "47b8878610bd45f8bf70a908378f0c17": {
      "model_module": "ipytree",
      "model_module_version": "0.1.8",
      "model_name": "NodeModel",
      "state": {
       "_id": "78bb9791-0853-46d9-8704-b651f6f9cb4c",
       "_model_module_version": "0.1.8",
       "_view_module_version": "0.1.8",
       "name": "Examples",
       "nodes": [
        "IPY_MODEL_21514b5c806048aca9737d6abf50d25b"
       ],
       "opened": false
      }
     },
     "47d3336ee689454f9b61941ab2a08e97": {
      "model_module": "@jupyter-widgets/controls",
      "model_module_version": "1.5.0",
      "model_name": "DescriptionStyleModel",
      "state": {
       "description_width": ""
      }
     },
     "47e153a7a660421e84a06877ceee6855": {
      "model_module": "ipytree",
      "model_module_version": "0.1.8",
      "model_name": "NodeModel",
      "state": {
       "_id": "1bfc52d5-302a-4c73-9bbe-e7ecc29ea1ef",
       "_model_module_version": "0.1.8",
       "_view_module_version": "0.1.8",
       "icon": "file",
       "name": "3_water_class_transition.py"
      }
     },
     "4830e34e211d456d9dc166daeaba6f57": {
      "model_module": "ipytree",
      "model_module_version": "0.1.8",
      "model_name": "NodeModel",
      "state": {
       "_id": "363bbaba-5e53-4c39-b201-3ee8387a3799",
       "_model_module_version": "0.1.8",
       "_view_module_version": "0.1.8",
       "icon": "file",
       "name": "1_water_occurrence.py"
      }
     },
     "4857cf77dc9d42d19baddd96ab7aa32b": {
      "model_module": "@jupyter-widgets/controls",
      "model_module_version": "1.5.0",
      "model_name": "DescriptionStyleModel",
      "state": {
       "description_width": ""
      }
     },
     "48a99501494344b6bae60e423e5aaf9a": {
      "model_module": "ipytree",
      "model_module_version": "0.1.8",
      "model_name": "NodeModel",
      "state": {
       "_id": "ad21a831-5c82-49e2-b2d6-289f12b23976",
       "_model_module_version": "0.1.8",
       "_view_module_version": "0.1.8",
       "icon": "file",
       "name": "us_counties.py"
      }
     },
     "4923b2c5aee64710a654e6b14aa422cd": {
      "model_module": "@jupyter-widgets/controls",
      "model_module_version": "1.5.0",
      "model_name": "LinkModel",
      "state": {
       "source": [
        "IPY_MODEL_4693940595b94c71b172e0c5016b6026",
        "value"
       ],
       "target": [
        "IPY_MODEL_2439ff2df8b84200bc1a61d3c4bbb264",
        "visible"
       ]
      }
     },
     "496d894f00284c8a8ce7d1c11b696a21": {
      "model_module": "@jupyter-widgets/controls",
      "model_module_version": "1.5.0",
      "model_name": "DescriptionStyleModel",
      "state": {
       "description_width": ""
      }
     },
     "49922218d6f441b7ac63f06e3041251e": {
      "model_module": "jupyter-leaflet",
      "model_module_version": "^0.13.2",
      "model_name": "LeafletMarkerClusterModel",
      "state": {
       "_model_module_version": "^0.13.2",
       "_view_module_version": "^0.13.2",
       "name": "Marker Cluster"
      }
     },
     "49b1a041b3074974a3fe4fe3db7a1ac8": {
      "model_module": "@jupyter-widgets/base",
      "model_module_version": "1.2.0",
      "model_name": "LayoutModel",
      "state": {
       "border": "1px solid black"
      }
     },
     "49bc0a95f99741e9960d341b3770e5a4": {
      "model_module": "ipytree",
      "model_module_version": "0.1.8",
      "model_name": "NodeModel",
      "state": {
       "_id": "4a6d3b2c-5e6a-4627-99cd-4ae502b9796d",
       "_model_module_version": "0.1.8",
       "_view_module_version": "0.1.8",
       "icon": "file",
       "name": "map_function.py"
      }
     },
     "4aab84c00a3b474e8d3e393d4def536f": {
      "model_module": "@jupyter-widgets/base",
      "model_module_version": "1.2.0",
      "model_name": "LayoutModel",
      "state": {
       "height": "25px",
       "padding": "0px",
       "width": "25px"
      }
     },
     "4ab952b0273e42879b2f67fa123b0782": {
      "model_module": "@jupyter-widgets/controls",
      "model_module_version": "1.5.0",
      "model_name": "LinkModel",
      "state": {
       "source": [
        "IPY_MODEL_e41e3ce4510a40f1b053542c58bee5a5",
        "value"
       ],
       "target": [
        "IPY_MODEL_3ddcaa6df6934a9286f82c79e67680b1",
        "visible"
       ]
      }
     },
     "4b5b07c5e3cb47f7946d8238c9d197dd": {
      "model_module": "ipytree",
      "model_module_version": "0.1.8",
      "model_name": "NodeModel",
      "state": {
       "_id": "e484afd9-1b0d-4783-b104-cb2c7e372f3d",
       "_model_module_version": "0.1.8",
       "_view_module_version": "0.1.8",
       "icon": "file",
       "name": "landsat_path_row_limit.py"
      }
     },
     "4bc258cb3612438383b1feb751eafe38": {
      "model_module": "@jupyter-widgets/controls",
      "model_module_version": "1.5.0",
      "model_name": "DescriptionStyleModel",
      "state": {
       "description_width": ""
      }
     },
     "4c02c25d476b43679beb589fe99fef42": {
      "model_module": "@jupyter-widgets/controls",
      "model_module_version": "1.5.0",
      "model_name": "HBoxModel",
      "state": {
       "children": [
        "IPY_MODEL_1a069da0aac8454ea30b1de9de594a4b",
        "IPY_MODEL_15ef6aa826474116ab78b171672bcc9c",
        "IPY_MODEL_474b9b72853e47039bca214850f94806"
       ],
       "layout": "IPY_MODEL_54155f2f2f4e4b17bbbaf03738f69ff1"
      }
     },
     "4c27742357594047bfc1b2b193e80525": {
      "model_module": "@jupyter-widgets/controls",
      "model_module_version": "1.5.0",
      "model_name": "DirectionalLinkModel",
      "state": {
       "source": [
        "IPY_MODEL_bbbe9d112c494d7c807a8276c6969753",
        "value"
       ],
       "target": [
        "IPY_MODEL_3ddcaa6df6934a9286f82c79e67680b1",
        "opacity"
       ]
      }
     },
     "4c7c112ed5534817bbcee7a1ec2ed0c7": {
      "model_module": "@jupyter-widgets/base",
      "model_module_version": "1.2.0",
      "model_name": "LayoutModel",
      "state": {}
     },
     "4cab26b0dbe24f6abb77a84f67d201be": {
      "model_module": "ipytree",
      "model_module_version": "0.1.8",
      "model_name": "NodeModel",
      "state": {
       "_id": "6d0d90ec-ce40-414d-b589-e994ba89f5ce",
       "_model_module_version": "0.1.8",
       "_view_module_version": "0.1.8",
       "name": "NAIP",
       "nodes": [
        "IPY_MODEL_bbb45214838e4899ba97e787afbe51db",
        "IPY_MODEL_d651ab177fe448c89941b37c4c4e0164",
        "IPY_MODEL_3447af0c27d949628ad25f425b087ec6",
        "IPY_MODEL_83cfb7bb7fd14393aee8ad2a033e0c89",
        "IPY_MODEL_da4ca04821c34d41be5df8119f2d19ae",
        "IPY_MODEL_3ee022a8f778479f8966934914cb54ce",
        "IPY_MODEL_1a772aa11f2c4078b1ca0f0655bed8ab",
        "IPY_MODEL_ba09cda0cc414629abbb7a527235a124",
        "IPY_MODEL_c2e2f7abf5d74509868dab4bdb6d4e5d"
       ],
       "opened": false
      }
     },
     "4cd3db86bfe54e0d9a9b22a1f4220fe6": {
      "model_module": "@jupyter-widgets/controls",
      "model_module_version": "1.5.0",
      "model_name": "ToggleButtonModel",
      "state": {
       "icon": "gear",
       "layout": "IPY_MODEL_365b5e25016444ee887fc1d83af3f861",
       "style": "IPY_MODEL_2931d8849aac417ead08f60fb99770a3",
       "tooltip": "kz"
      }
     },
     "4d4b707cb2834585ba0a52ec962574fc": {
      "model_module": "@jupyter-widgets/base",
      "model_module_version": "1.2.0",
      "model_name": "LayoutModel",
      "state": {
       "height": "25px",
       "padding": "0px",
       "width": "25px"
      }
     },
     "4d8e0f20a64d404e81769105403c508a": {
      "model_module": "@jupyter-widgets/controls",
      "model_module_version": "1.5.0",
      "model_name": "HBoxModel",
      "state": {
       "children": [
        "IPY_MODEL_0de1b7f57c674c849152ea6d1facebc5",
        "IPY_MODEL_54267dce80194d5a8ae5e7792b79ed4c",
        "IPY_MODEL_5ce0344f18324e18a21177119636d083"
       ],
       "layout": "IPY_MODEL_e6a6ecc634814c2091dd0f2741721edf"
      }
     },
     "4d98d6464b034b85b57fac4ac38da1bc": {
      "model_module": "@jupyter-widgets/controls",
      "model_module_version": "1.5.0",
      "model_name": "SliderStyleModel",
      "state": {
       "description_width": ""
      }
     },
     "4da5c71aa2794ed887a7d755602164a5": {
      "model_module": "jupyter-leaflet",
      "model_module_version": "^0.13.2",
      "model_name": "LeafletAwesomeIconModel",
      "state": {
       "_model_module_version": "^0.13.2",
       "_view_module_version": "^0.13.2",
       "icon_color": "darkgreen",
       "marker_color": "green",
       "name": "check"
      }
     },
     "4e59c87aa40d4f4a9e384388524d9c37": {
      "model_module": "@jupyter-widgets/controls",
      "model_module_version": "1.5.0",
      "model_name": "DescriptionStyleModel",
      "state": {
       "description_width": ""
      }
     },
     "4ea2fa83482e4048bebc637953cc7351": {
      "model_module": "ipytree",
      "model_module_version": "0.1.8",
      "model_name": "NodeModel",
      "state": {
       "_id": "1ee3e4a0-bb85-4445-ac89-4b7b0124e0fc",
       "_model_module_version": "0.1.8",
       "_view_module_version": "0.1.8",
       "icon": "file",
       "name": "glcf_global_inland_water.py"
      }
     },
     "4ecd76e280d7497a92344cec2877c768": {
      "model_module": "ipytree",
      "model_module_version": "0.1.8",
      "model_name": "NodeModel",
      "state": {
       "_id": "41863710-97c2-4e7c-b472-61daf02958a4",
       "_model_module_version": "0.1.8",
       "_view_module_version": "0.1.8",
       "icon": "file",
       "name": "get_image_extent.py"
      }
     },
     "4f9259d0f89343818f3d43b142b4d7d1": {
      "model_module": "ipytree",
      "model_module_version": "0.1.8",
      "model_name": "TreeModel",
      "state": {
       "_model_module_version": "0.1.8",
       "_view_module_version": "0.1.8",
       "layout": "IPY_MODEL_425d9d7fef9640b0b7fa7c606a1f0418",
       "multiple_selection": false,
       "nodes": [
        "IPY_MODEL_d093e2f8d57d4d1797f199739868fb1f"
       ],
       "selected_nodes": [
        "IPY_MODEL_0f55780f4f1c4fac92dc9157096c43c2"
       ]
      }
     },
     "501eba69cd5e4af9abae502f05ac2cbf": {
      "model_module": "@jupyter-widgets/controls",
      "model_module_version": "1.5.0",
      "model_name": "HBoxModel",
      "state": {
       "_view_count": 3,
       "children": [
        "IPY_MODEL_318bdc494eb14afc994c3831060b1d9d"
       ],
       "layout": "IPY_MODEL_4019dfd5bf2843e88c2784cc5277a579"
      }
     },
     "5047fb847b564b8da866b30f70818ad3": {
      "model_module": "ipytree",
      "model_module_version": "0.1.8",
      "model_name": "NodeModel",
      "state": {
       "_id": "333da14b-c9e6-4095-93a2-d34c8e71fcfa",
       "_model_module_version": "0.1.8",
       "_view_module_version": "0.1.8",
       "name": "Keiko",
       "nodes": [
        "IPY_MODEL_b8f967b0d14148bd9863792cfae05287",
        "IPY_MODEL_7ab731f492af4fa6905773987e0c2870",
        "IPY_MODEL_e75ea3e9b95f4fb1860191df4e5fd3a5"
       ],
       "opened": false
      }
     },
     "50ddb17d0f814593a8a37c0b18a16067": {
      "model_module": "ipytree",
      "model_module_version": "0.1.8",
      "model_name": "NodeModel",
      "state": {
       "_id": "f2061aa0-e9c4-43a4-954b-ff04cc02797e",
       "_model_module_version": "0.1.8",
       "_view_module_version": "0.1.8",
       "icon": "file",
       "name": "save_best_joins.py"
      }
     },
     "50f6052e59bd44bebb2ab2f40b4ea400": {
      "model_module": "@jupyter-widgets/base",
      "model_module_version": "1.2.0",
      "model_name": "LayoutModel",
      "state": {
       "height": "auto",
       "padding": "0px 0px 0px 4px",
       "width": "auto"
      }
     },
     "516735ca5deb45b2a20c9fcdfcd23a8e": {
      "model_module": "@jupyter-widgets/controls",
      "model_module_version": "1.5.0",
      "model_name": "ButtonStyleModel",
      "state": {}
     },
     "51a5a3350edf47b9ba510f58078aed59": {
      "model_module": "ipytree",
      "model_module_version": "0.1.8",
      "model_name": "NodeModel",
      "state": {
       "_id": "80b8326d-71ce-4d3f-87dd-c35949d6c2ab",
       "_model_module_version": "0.1.8",
       "_view_module_version": "0.1.8",
       "icon": "file",
       "name": "clamp.py"
      }
     },
     "520e7e93076d41eebeb7c0062517c622": {
      "model_module": "ipytree",
      "model_module_version": "0.1.8",
      "model_name": "NodeModel",
      "state": {
       "_id": "b3eacf5e-9ac4-49d3-b03e-f86b0c7252be",
       "_model_module_version": "0.1.8",
       "_view_module_version": "0.1.8",
       "icon": "file",
       "name": "utils-hillshadeRgb.py"
      }
     },
     "52103a85d8ec433995bedf1c532071ae": {
      "model_module": "ipytree",
      "model_module_version": "0.1.8",
      "model_name": "NodeModel",
      "state": {
       "_id": "1cf49e68-a2e3-4269-b9a3-d03d9adf9a64",
       "_model_module_version": "0.1.8",
       "_view_module_version": "0.1.8",
       "icon": "file",
       "name": "inner_joins.py"
      }
     },
     "524be6405a9d45f786a74939d8c70165": {
      "model_module": "ipytree",
      "model_module_version": "0.1.8",
      "model_name": "NodeModel",
      "state": {
       "_id": "b2d09986-e669-45c7-b5a6-dd8e770f239d",
       "_model_module_version": "0.1.8",
       "_view_module_version": "0.1.8",
       "icon": "file",
       "name": "srtm_topo_diversity.py"
      }
     },
     "52e47cf760f043d8b73e9e1b3896d6fe": {
      "model_module": "@jupyter-widgets/controls",
      "model_module_version": "1.5.0",
      "model_name": "ToggleButtonModel",
      "state": {
       "icon": "gear",
       "layout": "IPY_MODEL_5579c2f6141244a5a559bf06704674c0",
       "style": "IPY_MODEL_1713824befa74628a468fdf14bd528d8",
       "tooltip": "glims_polygons"
      }
     },
     "535cc60541ae433793943a3b4f714585": {
      "model_module": "@jupyter-widgets/controls",
      "model_module_version": "1.5.0",
      "model_name": "DropdownModel",
      "state": {
       "index": null,
       "layout": "IPY_MODEL_461293d8e1924889a4f3be66335458cf",
       "style": "IPY_MODEL_e86b1116c3ed45248d39f621db31356c"
      }
     },
     "54155f2f2f4e4b17bbbaf03738f69ff1": {
      "model_module": "@jupyter-widgets/base",
      "model_module_version": "1.2.0",
      "model_name": "LayoutModel",
      "state": {
       "padding": "0px 8px 0px 8px"
      }
     },
     "54267dce80194d5a8ae5e7792b79ed4c": {
      "model_module": "@jupyter-widgets/controls",
      "model_module_version": "1.5.0",
      "model_name": "TextModel",
      "state": {
       "layout": "IPY_MODEL_25b51c8006ea40d28e5f1e784d509db7",
       "style": "IPY_MODEL_ec00e7d5084744a5a3a26f6e9f72b6fb"
      }
     },
     "54a24f0f0dcb40f690549ac56b942278": {
      "model_module": "ipytree",
      "model_module_version": "0.1.8",
      "model_name": "NodeModel",
      "state": {
       "_id": "8887efc9-915f-4ef0-af2a-554d07573d9f",
       "_model_module_version": "0.1.8",
       "_view_module_version": "0.1.8",
       "icon": "file",
       "name": "landsat_simple_composite.py"
      }
     },
     "54f55a27d86641ee94bd22263f784288": {
      "model_module": "jupyter-leaflet",
      "model_module_version": "^0.13.2",
      "model_name": "LeafletTileLayerModel",
      "state": {
       "_model_module_version": "^0.13.2",
       "_view_module_version": "^0.13.2",
       "attribution": "Tiles &copy; Esri &mdash; Esri, DeLorme, NAVTEQ, TomTom, Intermap, iPC, USGS, FAO, NPS, NRCAN, GeoBase, Kadaster NL, Ordnance Survey, Esri Japan, METI, Esri China (Hong Kong), and the GIS User Community",
       "max_native_zoom": 18,
       "max_zoom": 20,
       "min_native_zoom": 0,
       "min_zoom": 1,
       "name": "Esri.WorldTopoMap",
       "options": [
        "attribution",
        "detect_retina",
        "max_native_zoom",
        "max_zoom",
        "min_native_zoom",
        "min_zoom",
        "no_wrap",
        "tile_size",
        "tms"
       ],
       "url": "http://server.arcgisonline.com/ArcGIS/rest/services/World_Topo_Map/MapServer/tile/{z}/{y}/{x}"
      }
     },
     "551cb69ff3b34d85b9137834dcc6267e": {
      "model_module": "ipytree",
      "model_module_version": "0.1.8",
      "model_name": "NodeModel",
      "state": {
       "_id": "e27b1c55-2fc4-4849-8214-b5c2b84869ad",
       "_model_module_version": "0.1.8",
       "_view_module_version": "0.1.8",
       "icon": "file",
       "name": "from_ee_asset.py"
      }
     },
     "5528173e78e4471fae8331f8adc70b05": {
      "model_module": "ipytree",
      "model_module_version": "0.1.8",
      "model_name": "NodeModel",
      "state": {
       "_id": "76eca2ed-4338-4f63-9cf1-c2e0d3d5d09a",
       "_model_module_version": "0.1.8",
       "_view_module_version": "0.1.8",
       "icon": "file",
       "name": "mosaicking.py"
      }
     },
     "554e745e420b4c3c989e08a73e898893": {
      "model_module": "ipytree",
      "model_module_version": "0.1.8",
      "model_name": "NodeModel",
      "state": {
       "_id": "ecfc9dec-c950-4b65-ba58-0c168a8399ae",
       "_model_module_version": "0.1.8",
       "_view_module_version": "0.1.8",
       "icon": "file",
       "name": "distance.py"
      }
     },
     "5579c2f6141244a5a559bf06704674c0": {
      "model_module": "@jupyter-widgets/base",
      "model_module_version": "1.2.0",
      "model_name": "LayoutModel",
      "state": {
       "height": "25px",
       "padding": "0px",
       "width": "25px"
      }
     },
     "55a5a546da2547868e6026dd08409899": {
      "model_module": "@jupyter-widgets/controls",
      "model_module_version": "1.5.0",
      "model_name": "CheckboxModel",
      "state": {
       "description": "All layers on/off",
       "disabled": false,
       "indent": false,
       "layout": "IPY_MODEL_58bb86533afc4f7f820a146756d28d47",
       "style": "IPY_MODEL_942aac21f7a743339d039a6edba029aa",
       "value": false
      }
     },
     "55d347e8b25b4510874e6b387172fafc": {
      "model_module": "jupyter-leaflet",
      "model_module_version": "^0.13.2",
      "model_name": "LeafletWMSLayerModel",
      "state": {
       "_model_module_version": "^0.13.2",
       "_view_module_version": "^0.13.2",
       "attribution": "MRLC",
       "crs": {
        "custom": false,
        "name": "EPSG3857"
       },
       "format": "image/png",
       "layers": "NLCD_2016_Land_Cover_L48",
       "max_native_zoom": 18,
       "min_native_zoom": 0,
       "name": "NLCD 2016 CONUS Land Cover",
       "options": [
        "attribution",
        "detect_retina",
        "format",
        "layers",
        "max_native_zoom",
        "max_zoom",
        "min_native_zoom",
        "min_zoom",
        "no_wrap",
        "styles",
        "tile_size",
        "tms",
        "transparent",
        "uppercase"
       ],
       "transparent": true,
       "url": "https://www.mrlc.gov/geoserver/mrlc_display/NLCD_2016_Land_Cover_L48/wms?"
      }
     },
     "5729e47560ab4561889d046acd584417": {
      "model_module": "@jupyter-widgets/base",
      "model_module_version": "1.2.0",
      "model_name": "LayoutModel",
      "state": {
       "width": "80px"
      }
     },
     "5786a1215a5c4690967e3846dc03af20": {
      "model_module": "ipytree",
      "model_module_version": "0.1.8",
      "model_name": "NodeModel",
      "state": {
       "_id": "ecb7b9f6-e641-4b73-981d-8da4dba84c2e",
       "_model_module_version": "0.1.8",
       "_view_module_version": "0.1.8",
       "icon": "file",
       "name": "map_get_bounds.py"
      }
     },
     "579160b1585841adad30523574bff7c6": {
      "model_module": "ipytree",
      "model_module_version": "0.1.8",
      "model_name": "NodeModel",
      "state": {
       "_id": "5142c2a7-5e82-4368-98a1-34a4ee470879",
       "_model_module_version": "0.1.8",
       "_view_module_version": "0.1.8",
       "icon": "file",
       "name": "expressions.py"
      }
     },
     "57abd19cd17544dca693796ded0734e6": {
      "model_module": "@jupyter-widgets/controls",
      "model_module_version": "1.5.0",
      "model_name": "DescriptionStyleModel",
      "state": {
       "description_width": ""
      }
     },
     "57d925451cb34767a97255f6a38f0561": {
      "model_module": "ipytree",
      "model_module_version": "0.1.8",
      "model_name": "NodeModel",
      "state": {
       "_id": "9a599c57-e90e-4aac-a8a3-6106578bff72",
       "_model_module_version": "0.1.8",
       "_view_module_version": "0.1.8",
       "icon": "file",
       "name": "filter_string_starts_with.py"
      }
     },
     "57f194f23a1544e280502d693943c28a": {
      "model_module": "@jupyter-widgets/controls",
      "model_module_version": "1.5.0",
      "model_name": "HBoxModel",
      "state": {
       "children": [
        "IPY_MODEL_234ae2bc8b71465fba36d1d2bcdc9f21",
        "IPY_MODEL_606f10a07ee84b9db26372f36cf5e4ed",
        "IPY_MODEL_caa175a4e7f8417895511da1b28e133d"
       ],
       "layout": "IPY_MODEL_f4eb008c823e49e09e2e52e2b030cbcf"
      }
     },
     "581a7b56e8ed48c79c60e8caab290653": {
      "model_module": "ipytree",
      "model_module_version": "0.1.8",
      "model_name": "NodeModel",
      "state": {
       "_id": "3bb38e77-7858-42e4-ab70-ea8fae5dead0",
       "_model_module_version": "0.1.8",
       "_view_module_version": "0.1.8",
       "icon": "file",
       "name": "jrc_global_surface_water.py"
      }
     },
     "5836dd47fd98413e8523979f6aaf0789": {
      "model_module": "ipytree",
      "model_module_version": "0.1.8",
      "model_name": "NodeModel",
      "state": {
       "_id": "eac37f00-7796-4e82-8c30-bccb322b4216",
       "_model_module_version": "0.1.8",
       "_view_module_version": "0.1.8",
       "icon": "file",
       "name": "reducing_collection.py"
      }
     },
     "583a5275b586449482a38570d9c453a8": {
      "model_module": "ipytree",
      "model_module_version": "0.1.8",
      "model_name": "TreeModel",
      "state": {
       "_model_module_version": "0.1.8",
       "_view_module_version": "0.1.8",
       "layout": "IPY_MODEL_11fd28e200bb4dd3b198f9c15d93ccb9",
       "multiple_selection": false,
       "nodes": [
        "IPY_MODEL_a1176f2eefa2400b9c19aa7e2d423ea8",
        "IPY_MODEL_47b8878610bd45f8bf70a908378f0c17",
        "IPY_MODEL_1846a4ddc078439ca22f7c2df9cc4db6",
        "IPY_MODEL_154d060ff3694f509c3548bda0cc7371",
        "IPY_MODEL_06af78ee823a4a438980ba67bddd24ae"
       ]
      }
     },
     "586af830e3aa482cae4d1224d66a9e36": {
      "model_module": "@jupyter-widgets/controls",
      "model_module_version": "1.5.0",
      "model_name": "CheckboxModel",
      "state": {
       "description": "All layers on/off",
       "disabled": false,
       "indent": false,
       "layout": "IPY_MODEL_93840011f34d42808c22a53982d8fd2a",
       "style": "IPY_MODEL_5d4565db97e04f5385348e3720aafb70",
       "value": false
      }
     },
     "58bb86533afc4f7f820a146756d28d47": {
      "model_module": "@jupyter-widgets/base",
      "model_module_version": "1.2.0",
      "model_name": "LayoutModel",
      "state": {
       "height": "18px",
       "padding": "0px 8px 25px 8px",
       "width": "30ex"
      }
     },
     "5925b76785204b01a059c7cbe58ae977": {
      "model_module": "@jupyter-widgets/controls",
      "model_module_version": "1.5.0",
      "model_name": "DescriptionStyleModel",
      "state": {
       "description_width": ""
      }
     },
     "59537d0d698c4fa4a8cec62a51e69ffb": {
      "model_module": "@jupyter-widgets/output",
      "model_module_version": "1.0.0",
      "model_name": "OutputModel",
      "state": {
       "layout": "IPY_MODEL_2555ee7db92445c5b7e4cbedeab06d68",
       "outputs": [
        {
         "data": {
          "application/vnd.jupyter.widget-view+json": {
           "model_id": "4f9259d0f89343818f3d43b142b4d7d1",
           "version_major": 2,
           "version_minor": 0
          },
          "text/plain": "Tree(multiple_selection=False, nodes=(Node(name='users/doni', nodes=(Node(icon='table', name='glims_images'), …"
         },
         "metadata": {},
         "output_type": "display_data"
        }
       ]
      }
     },
     "595ac6cad84e4437aad33ad2cf936b1a": {
      "model_module": "ipytree",
      "model_module_version": "0.1.8",
      "model_name": "NodeModel",
      "state": {
       "_id": "7b7e5753-bfff-46b3-97d3-8b5d625c0694",
       "_model_module_version": "0.1.8",
       "_view_module_version": "0.1.8",
       "icon": "file",
       "name": "zero_crossing.py"
      }
     },
     "597b0012ab724f3f88671cb2bd768608": {
      "model_module": "@jupyter-widgets/controls",
      "model_module_version": "1.5.0",
      "model_name": "DescriptionStyleModel",
      "state": {
       "description_width": ""
      }
     },
     "59a4d836a65a48669e7a3f8521e6a883": {
      "model_module": "@jupyter-widgets/base",
      "model_module_version": "1.2.0",
      "model_name": "LayoutModel",
      "state": {
       "height": "25px",
       "padding": "0px",
       "width": "25px"
      }
     },
     "59da61954914465092d089b19ab07d17": {
      "model_module": "ipytree",
      "model_module_version": "0.1.8",
      "model_name": "NodeModel",
      "state": {
       "_id": "e354fe16-261d-430a-aa0d-595d3fb91192",
       "_model_module_version": "0.1.8",
       "_view_module_version": "0.1.8",
       "icon": "file",
       "name": "image_thumbnail.py"
      }
     },
     "5a44f1dc8bc7492f8c5e9db0459408a3": {
      "model_module": "@jupyter-widgets/base",
      "model_module_version": "1.2.0",
      "model_name": "LayoutModel",
      "state": {
       "width": "80px"
      }
     },
     "5a79f49f68024ffca2b6f303e8aec23b": {
      "model_module": "@jupyter-widgets/controls",
      "model_module_version": "1.5.0",
      "model_name": "LinkModel",
      "state": {
       "source": [
        "IPY_MODEL_db7bf0789269412c8dd499b25be56057",
        "value"
       ],
       "target": [
        "IPY_MODEL_77a76290eb7f4d2ea5cd24f714684a23",
        "visible"
       ]
      }
     },
     "5b1f3bb7153d4931a2c58bf7ffc70d53": {
      "model_module": "ipytree",
      "model_module_version": "0.1.8",
      "model_name": "NodeModel",
      "state": {
       "_id": "e426cf32-c3dd-42e6-aac9-4a3b63cd1c11",
       "_model_module_version": "0.1.8",
       "_view_module_version": "0.1.8",
       "icon": "file",
       "name": "find_image_by_path_row.py"
      }
     },
     "5b3f13ed500d46629dcf3f48b89b1e54": {
      "model_module": "@jupyter-widgets/controls",
      "model_module_version": "1.5.0",
      "model_name": "CheckboxModel",
      "state": {
       "description": "OpenTopoMap",
       "disabled": false,
       "indent": false,
       "layout": "IPY_MODEL_9345ff3762424a069172ad6e96f11c24",
       "style": "IPY_MODEL_9baf40a095454b23931a8cd9d73a4e31",
       "value": true
      }
     },
     "5bd81a641f75446695681e565f7da8c5": {
      "model_module": "ipytree",
      "model_module_version": "0.1.8",
      "model_name": "NodeModel",
      "state": {
       "_id": "30346555-6cd8-4a0f-8437-9f454efaefb2",
       "_model_module_version": "0.1.8",
       "_view_module_version": "0.1.8",
       "icon": "file",
       "name": "resolve_ecoregions.py"
      }
     },
     "5c06a717516c4241816a368b3e4ae1ca": {
      "model_module": "@jupyter-widgets/controls",
      "model_module_version": "1.5.0",
      "model_name": "ToggleButtonModel",
      "state": {
       "button_style": "primary",
       "icon": "cloud-download",
       "layout": "IPY_MODEL_a32024553036467b96f7920a368a4a8d",
       "style": "IPY_MODEL_0806066b1486446893b79772167bcbda",
       "tooltip": "Export Earth Engine data"
      }
     },
     "5c2bfc1e12be4e81b997ccb20a5d31ed": {
      "model_module": "jupyter-leaflet",
      "model_module_version": "^0.13.2",
      "model_name": "LeafletWidgetControlModel",
      "state": {
       "_model_module": "jupyter-leaflet",
       "_model_module_version": "^0.13.2",
       "_view_count": null,
       "_view_module": "jupyter-leaflet",
       "_view_module_version": "^0.13.2",
       "options": [
        "position"
       ],
       "position": "topright",
       "widget": "IPY_MODEL_18de97acf15948ce8f743b8eacb4c315"
      }
     },
     "5c85b9541e23403f995e873cb04fd185": {
      "model_module": "@jupyter-widgets/controls",
      "model_module_version": "1.5.0",
      "model_name": "ButtonStyleModel",
      "state": {}
     },
     "5c8ed7323c664036943cb268a9e21cd7": {
      "model_module": "ipytree",
      "model_module_version": "0.1.8",
      "model_name": "NodeModel",
      "state": {
       "_id": "156214cb-27a6-4336-85ee-add6d6dd166d",
       "_model_module_version": "0.1.8",
       "_view_module_version": "0.1.8",
       "icon": "file",
       "name": "from_name.py"
      }
     },
     "5ce0344f18324e18a21177119636d083": {
      "model_module": "@jupyter-widgets/controls",
      "model_module_version": "1.5.0",
      "model_name": "ButtonModel",
      "state": {
       "button_style": "primary",
       "description": "Save",
       "disabled": true,
       "layout": "IPY_MODEL_2742101dc96e4ce9a4bd463dd2103b1e",
       "style": "IPY_MODEL_8e5424d4b5874fbc99e8463bf5ee0015",
       "tooltip": "Save edits to file."
      }
     },
     "5d4565db97e04f5385348e3720aafb70": {
      "model_module": "@jupyter-widgets/controls",
      "model_module_version": "1.5.0",
      "model_name": "DescriptionStyleModel",
      "state": {
       "description_width": ""
      }
     },
     "5d51b2e8498f4ee8826cd61be1021820": {
      "model_module": "@jupyter-widgets/controls",
      "model_module_version": "1.5.0",
      "model_name": "DirectionalLinkModel",
      "state": {
       "source": [
        "IPY_MODEL_caa175a4e7f8417895511da1b28e133d",
        "value"
       ],
       "target": [
        "IPY_MODEL_e2f4097d83bc4212becb6aecabcc5a14",
        "opacity"
       ]
      }
     },
     "5d5dd0ee2d8046e8a3b2d3ff95fd1fcd": {
      "model_module": "ipytree",
      "model_module_version": "0.1.8",
      "model_name": "NodeModel",
      "state": {
       "_id": "afce612d-9772-41e6-8baf-d65a469ff0dc",
       "_model_module_version": "0.1.8",
       "_view_module_version": "0.1.8",
       "icon": "file",
       "name": "clipping.py"
      }
     },
     "5e11e660963e4a29a9e7b9a78a2b3892": {
      "model_module": "@jupyter-widgets/base",
      "model_module_version": "1.2.0",
      "model_name": "LayoutModel",
      "state": {
       "height": "18px",
       "width": "25ex"
      }
     },
     "5e6ca9b0ea2f49068297e7807b1f0d42": {
      "model_module": "ipytree",
      "model_module_version": "0.1.8",
      "model_name": "NodeModel",
      "state": {
       "_id": "e86b2d10-820d-4a34-9812-15d0da951b8c",
       "_model_module_version": "0.1.8",
       "_view_module_version": "0.1.8",
       "icon": "file",
       "name": "map_get_center.py"
      }
     },
     "5eb5ea82908e423ab5e56d9bb58d9c4f": {
      "model_module": "@jupyter-widgets/controls",
      "model_module_version": "1.5.0",
      "model_name": "FloatSliderModel",
      "state": {
       "layout": "IPY_MODEL_ae93c584aaf14a7f8c081cab2cb4c5d0",
       "max": 1,
       "readout": false,
       "step": 0.01,
       "style": "IPY_MODEL_05a733b32b79491ab8595e1f9942441f",
       "value": 1
      }
     },
     "5ef102b1b3c64980865e40a913d4dcc8": {
      "model_module": "ipytree",
      "model_module_version": "0.1.8",
      "model_name": "NodeModel",
      "state": {
       "_id": "94c3f76c-9187-4732-a21f-c37be4176352",
       "_model_module_version": "0.1.8",
       "_view_module_version": "0.1.8",
       "icon": "file",
       "name": "creating_feature_collection.py"
      }
     },
     "5ef1c277fb7e4fe38adfd0a9e4f6e493": {
      "model_module": "ipytree",
      "model_module_version": "0.1.8",
      "model_name": "NodeModel",
      "state": {
       "_id": "624ca0e1-c1ba-44d9-b175-b26f1091849e",
       "_model_module_version": "0.1.8",
       "_view_module_version": "0.1.8",
       "icon": "file",
       "name": "us_census_tracts.py"
      }
     },
     "5f1ba640853740468414b214ac36852f": {
      "model_module": "@jupyter-widgets/controls",
      "model_module_version": "1.5.0",
      "model_name": "HBoxModel",
      "state": {
       "children": [
        "IPY_MODEL_5b3f13ed500d46629dcf3f48b89b1e54",
        "IPY_MODEL_16456220b6304ce589667b3fb4586179",
        "IPY_MODEL_2c55398bee95457f829e29cf298e382c"
       ],
       "layout": "IPY_MODEL_d4fddefd89b24960b3b2105d2909ee1e"
      }
     },
     "5f45677a666a42d68984f1e7f8b65a23": {
      "model_module": "ipytree",
      "model_module_version": "0.1.8",
      "model_name": "NodeModel",
      "state": {
       "_id": "19b87bf8-8ddb-466d-a7f4-4b5ebeaa2a85",
       "_model_module_version": "0.1.8",
       "_view_module_version": "0.1.8",
       "icon": "file",
       "name": "image_rgb_composite.py"
      }
     },
     "5f521c7f158c4f95a1b45db66a6e446b": {
      "model_module": "@jupyter-widgets/controls",
      "model_module_version": "1.5.0",
      "model_name": "ButtonModel",
      "state": {
       "description": "Select",
       "layout": "IPY_MODEL_036054b2ffb243e8998ae561ef8b58f8",
       "style": "IPY_MODEL_c1f34f27733d4a5ba61995c54cd2b3f9"
      }
     },
     "5f8519f369e946959ba1988a11d4c207": {
      "model_module": "ipytree",
      "model_module_version": "0.1.8",
      "model_name": "NodeModel",
      "state": {
       "_id": "1a6c8a27-0e51-4039-920f-185e36e8c8c1",
       "_model_module_version": "0.1.8",
       "_view_module_version": "0.1.8",
       "icon": "file",
       "name": "export_ImageCollection.py"
      }
     },
     "5f9032221eb14b16832ec63f6508f373": {
      "model_module": "@jupyter-widgets/controls",
      "model_module_version": "1.5.0",
      "model_name": "ToggleButtonModel",
      "state": {
       "icon": "gear",
       "layout": "IPY_MODEL_6884f9638f4941b790d393e14060fc45",
       "style": "IPY_MODEL_1776c81306a149459f3eb9887d3b0ffd",
       "tooltip": "glims_polygons"
      }
     },
     "5fa5e146405c43d09e70c09b42cfa001": {
      "model_module": "@jupyter-widgets/controls",
      "model_module_version": "1.5.0",
      "model_name": "ToggleButtonModel",
      "state": {
       "icon": "gear",
       "layout": "IPY_MODEL_91dadf64aa0543d7a7af16c3bdb94698",
       "style": "IPY_MODEL_c2996b7524a84efbac3554c76195ce36",
       "tooltip": "Google Maps"
      }
     },
     "5fa9df552f71430fb19481563b120b4d": {
      "model_module": "ipytree",
      "model_module_version": "0.1.8",
      "model_name": "NodeModel",
      "state": {
       "_id": "4633eae5-f86d-43cb-8b5a-d924f0b1ffa0",
       "_model_module_version": "0.1.8",
       "_view_module_version": "0.1.8",
       "icon": "file",
       "name": "export_vector.py"
      }
     },
     "5fc5d7f51a2f4649ba93e19da02c0b55": {
      "model_module": "jupyter-leaflet",
      "model_module_version": "^0.13.2",
      "model_name": "LeafletTileLayerModel",
      "state": {
       "_model_module_version": "^0.13.2",
       "_view_module_version": "^0.13.2",
       "attribution": "Map data: &copy; <a href=\"http://www.openstreetmap.org/copyright\">OpenStreetMap</a>, <a href=\"http://viewfinderpanoramas.org\">SRTM</a> | Map style: &copy; <a href=\"https://opentopomap.org\">OpenTopoMap</a> (<a href=\"https://creativecommons.org/licenses/by-sa/3.0/\">CC-BY-SA</a>)",
       "max_native_zoom": 18,
       "max_zoom": 17,
       "min_native_zoom": 0,
       "min_zoom": 1,
       "name": "OpenTopoMap",
       "options": [
        "attribution",
        "detect_retina",
        "max_native_zoom",
        "max_zoom",
        "min_native_zoom",
        "min_zoom",
        "no_wrap",
        "tile_size",
        "tms"
       ],
       "url": "https://{s}.tile.opentopomap.org/{z}/{x}/{y}.png"
      }
     },
     "5ffa28e6f81040f1b84d5566004b8a3a": {
      "model_module": "jupyter-leaflet",
      "model_module_version": "^0.13.2",
      "model_name": "LeafletTileLayerModel",
      "state": {
       "_model_module_version": "^0.13.2",
       "_view_module_version": "^0.13.2",
       "attribution": "Esri",
       "max_native_zoom": 18,
       "min_native_zoom": 0,
       "name": "Esri Topo World",
       "options": [
        "attribution",
        "detect_retina",
        "max_native_zoom",
        "max_zoom",
        "min_native_zoom",
        "min_zoom",
        "no_wrap",
        "tile_size",
        "tms"
       ],
       "url": "https://services.arcgisonline.com/ArcGIS/rest/services/World_Topo_Map/MapServer/tile/{z}/{y}/{x}"
      }
     },
     "606f10a07ee84b9db26372f36cf5e4ed": {
      "model_module": "@jupyter-widgets/controls",
      "model_module_version": "1.5.0",
      "model_name": "ToggleButtonModel",
      "state": {
       "icon": "gear",
       "layout": "IPY_MODEL_fa039ea85d714a3f94f4b3b9f1da73fa",
       "style": "IPY_MODEL_c7870b1dad21452b8a609da794c6fafd",
       "tooltip": "glims_polygons"
      }
     },
     "6118545462cf4370aa1b693b4cc675cd": {
      "model_module": "@jupyter-widgets/base",
      "model_module_version": "1.2.0",
      "model_name": "LayoutModel",
      "state": {
       "width": "80px"
      }
     },
     "61829449929443499de4c94f94ee9d31": {
      "model_module": "ipytree",
      "model_module_version": "0.1.8",
      "model_name": "NodeModel",
      "state": {
       "_id": "b69d9b12-453a-44aa-8f0e-0564dd68a4fd",
       "_model_module_version": "0.1.8",
       "_view_module_version": "0.1.8",
       "icon": "file",
       "name": "stats_of_columns.py"
      }
     },
     "61bd260f56ce4e84bf9a523353a194f2": {
      "model_module": "ipytree",
      "model_module_version": "0.1.8",
      "model_name": "NodeModel",
      "state": {
       "_id": "c945e051-595e-4843-aa7c-d8dc74a0a315",
       "_model_module_version": "0.1.8",
       "_view_module_version": "0.1.8",
       "icon": "file",
       "name": "global_power_plant_database.py"
      }
     },
     "61d2a9189ee9448291652c595de2e40c": {
      "model_module": "ipytree",
      "model_module_version": "0.1.8",
      "model_name": "NodeModel",
      "state": {
       "_id": "1471e121-9923-48fc-8d59-59d5f67cd150",
       "_model_module_version": "0.1.8",
       "_view_module_version": "0.1.8",
       "icon": "file",
       "name": "rename_bands.py"
      }
     },
     "6222814cb484411b8d84160d4e920ec4": {
      "model_module": "jupyter-leaflet",
      "model_module_version": "^0.13.2",
      "model_name": "LeafletWMSLayerModel",
      "state": {
       "_model_module_version": "^0.13.2",
       "_view_module_version": "^0.13.2",
       "attribution": "MRLC",
       "crs": {
        "custom": false,
        "name": "EPSG3857"
       },
       "format": "image/png",
       "layers": "NLCD_2008_Land_Cover_L48",
       "max_native_zoom": 18,
       "min_native_zoom": 0,
       "name": "NLCD 2008 CONUS Land Cover",
       "options": [
        "attribution",
        "detect_retina",
        "format",
        "layers",
        "max_native_zoom",
        "max_zoom",
        "min_native_zoom",
        "min_zoom",
        "no_wrap",
        "styles",
        "tile_size",
        "tms",
        "transparent",
        "uppercase"
       ],
       "transparent": true,
       "url": "https://www.mrlc.gov/geoserver/mrlc_display/NLCD_2008_Land_Cover_L48/wms?"
      }
     },
     "6262a164ac9f4895ac6b884b9dd8c37b": {
      "model_module": "ipytree",
      "model_module_version": "0.1.8",
      "model_name": "NodeModel",
      "state": {
       "_id": "104886be-0147-4ade-8af0-feb52e736696",
       "_model_module_version": "0.1.8",
       "_view_module_version": "0.1.8",
       "icon": "file",
       "name": "DeferredExecution.py"
      }
     },
     "626b477e9e9046fbb0aec8f88f75164e": {
      "model_module": "@jupyter-widgets/controls",
      "model_module_version": "1.5.0",
      "model_name": "DescriptionStyleModel",
      "state": {
       "description_width": ""
      }
     },
     "62b50ea0c98b4dd3b6276f3e44bf63f0": {
      "model_module": "ipytree",
      "model_module_version": "0.1.8",
      "model_name": "NodeModel",
      "state": {
       "_id": "b6f7e65d-3559-4e04-90cc-a17c8dc261cf",
       "_model_module_version": "0.1.8",
       "_view_module_version": "0.1.8",
       "icon": "file",
       "name": "landsat_symbology.py"
      }
     },
     "64325e296ea64707a278d6ed8c21d712": {
      "model_module": "ipytree",
      "model_module_version": "0.1.8",
      "model_name": "NodeModel",
      "state": {
       "_id": "a8f73f5b-eba2-479a-bb9b-63f26a0886cd",
       "_model_module_version": "0.1.8",
       "_view_module_version": "0.1.8",
       "icon": "file",
       "name": "symbology.py"
      }
     },
     "6451853f5c144148a4cfa843daf3c0f0": {
      "model_module": "jupyter-leaflet",
      "model_module_version": "^0.13.2",
      "model_name": "LeafletTileLayerModel",
      "state": {
       "_model_module_version": "^0.13.2",
       "_view_module_version": "^0.13.2",
       "attribution": "&copy; <a href=\"http://www.openstreetmap.org/copyright\">OpenStreetMap</a> &copy; <a href=\"http://cartodb.com/attributions\">CartoDB</a>",
       "max_native_zoom": 18,
       "max_zoom": 20,
       "min_native_zoom": 0,
       "min_zoom": 1,
       "name": "CartoDB.DarkMatter",
       "options": [
        "attribution",
        "detect_retina",
        "max_native_zoom",
        "max_zoom",
        "min_native_zoom",
        "min_zoom",
        "no_wrap",
        "tile_size",
        "tms"
       ],
       "url": "http://c.basemaps.cartocdn.com/dark_all/{z}/{x}/{y}.png"
      }
     },
     "6473c9d2b1c74d129a199e4088493671": {
      "model_module": "ipytree",
      "model_module_version": "0.1.8",
      "model_name": "NodeModel",
      "state": {
       "_id": "027a53d7-90ba-4e5c-b23c-eabad6edcb40",
       "_model_module_version": "0.1.8",
       "_view_module_version": "0.1.8",
       "icon": "file",
       "name": "test_sentinel2.py"
      }
     },
     "648e841227d246ac97fd041bbf146174": {
      "model_module": "ipytree",
      "model_module_version": "0.1.8",
      "model_name": "NodeModel",
      "state": {
       "_id": "49dd04d0-dda9-4e4a-b2cc-a316cbb3cab4",
       "_model_module_version": "0.1.8",
       "_view_module_version": "0.1.8",
       "icon": "file",
       "name": "export_FeatureCollection.py"
      }
     },
     "64b3d9df85204e5cad332303cacd5021": {
      "model_module": "jupyter-leaflet",
      "model_module_version": "^0.13.2",
      "model_name": "LeafletWMSLayerModel",
      "state": {
       "_model_module_version": "^0.13.2",
       "_view_module_version": "^0.13.2",
       "attribution": "MRLC",
       "crs": {
        "custom": false,
        "name": "EPSG3857"
       },
       "format": "image/png",
       "layers": "NLCD_2011_Land_Cover_L48",
       "max_native_zoom": 18,
       "min_native_zoom": 0,
       "name": "NLCD 2011 CONUS Land Cover",
       "options": [
        "attribution",
        "detect_retina",
        "format",
        "layers",
        "max_native_zoom",
        "max_zoom",
        "min_native_zoom",
        "min_zoom",
        "no_wrap",
        "styles",
        "tile_size",
        "tms",
        "transparent",
        "uppercase"
       ],
       "transparent": true,
       "url": "https://www.mrlc.gov/geoserver/mrlc_display/NLCD_2011_Land_Cover_L48/wms?"
      }
     },
     "6513c6d92eab4dae825f95ab85fa0bc5": {
      "model_module": "ipytree",
      "model_module_version": "0.1.8",
      "model_name": "NodeModel",
      "state": {
       "_id": "669fe9ce-4e31-4c58-b83d-c216dfff9402",
       "_model_module_version": "0.1.8",
       "_view_module_version": "0.1.8",
       "icon": "file",
       "name": "metadata_aggregation.py"
      }
     },
     "65c3c2271e3f41ab881fba6a019ef299": {
      "model_module": "ipytree",
      "model_module_version": "0.1.8",
      "model_name": "NodeModel",
      "state": {
       "_id": "15d07f65-35ec-4803-a16e-ca93fd1f4477",
       "_model_module_version": "0.1.8",
       "_view_module_version": "0.1.8",
       "icon": "file",
       "name": "set_properties.py"
      }
     },
     "667d25f409474331b943241be209d710": {
      "model_module": "@jupyter-widgets/controls",
      "model_module_version": "1.5.0",
      "model_name": "FloatSliderModel",
      "state": {
       "layout": "IPY_MODEL_5729e47560ab4561889d046acd584417",
       "max": 1,
       "readout": false,
       "step": 0.01,
       "style": "IPY_MODEL_b00f2f44cde24b09a6898bc3f10145ab",
       "value": 1
      }
     },
     "6681bf466f44492b88a98bd84bd16323": {
      "model_module": "ipytree",
      "model_module_version": "0.1.8",
      "model_name": "NodeModel",
      "state": {
       "_id": "0b2156f4-e5a8-4c44-acd0-59d586df1c04",
       "_model_module_version": "0.1.8",
       "_view_module_version": "0.1.8",
       "icon": "file",
       "name": "segmentation_snic.py"
      }
     },
     "670946d7ada34b4a8c0a876bc01168f3": {
      "model_module": "@jupyter-widgets/base",
      "model_module_version": "1.2.0",
      "model_name": "LayoutModel",
      "state": {
       "height": "18px",
       "width": "25ex"
      }
     },
     "6711f93dadaa413faf7762f767dbbe64": {
      "model_module": "ipytree",
      "model_module_version": "0.1.8",
      "model_name": "NodeModel",
      "state": {
       "_id": "874b4433-aec2-4f3f-939f-2dcd5fe30105",
       "_model_module_version": "0.1.8",
       "_view_module_version": "0.1.8",
       "icon": "file",
       "name": "resampling2.py"
      }
     },
     "6766f9c26ea142ac861cb552a03a2df9": {
      "model_module": "@jupyter-widgets/controls",
      "model_module_version": "1.5.0",
      "model_name": "LinkModel",
      "state": {
       "source": [
        "IPY_MODEL_078c9d64f0d9400dac6656dcb3aed92f",
        "value"
       ],
       "target": [
        "IPY_MODEL_5fc5d7f51a2f4649ba93e19da02c0b55",
        "visible"
       ]
      }
     },
     "67a9df39d2e94d50bc42fd07d9571045": {
      "model_module": "@jupyter-widgets/controls",
      "model_module_version": "1.5.0",
      "model_name": "DirectionalLinkModel",
      "state": {
       "source": [
        "IPY_MODEL_2c55398bee95457f829e29cf298e382c",
        "value"
       ],
       "target": [
        "IPY_MODEL_5fc5d7f51a2f4649ba93e19da02c0b55",
        "opacity"
       ]
      }
     },
     "6826ea9f99414208b1c0d32735f15515": {
      "model_module": "@jupyter-widgets/controls",
      "model_module_version": "1.5.0",
      "model_name": "DirectionalLinkModel",
      "state": {
       "source": [
        "IPY_MODEL_8aa529f5d25f476eadcca40dcc1a418d",
        "value"
       ],
       "target": [
        "IPY_MODEL_3ddcaa6df6934a9286f82c79e67680b1",
        "opacity"
       ]
      }
     },
     "68604c60542347eba8308d03a74ff50c": {
      "model_module": "@jupyter-widgets/controls",
      "model_module_version": "1.5.0",
      "model_name": "HTMLModel",
      "state": {
       "layout": "IPY_MODEL_c963c54a29ee475db67a0b09eec71814",
       "placeholder": "",
       "style": "IPY_MODEL_3c84d36300684610a539233f09a2ee3b",
       "value": "<span style=\"margin-left:10px; color:black;\">No file selected</span>"
      }
     },
     "686c3e3e1f1e4ee18554353be862d572": {
      "model_module": "@jupyter-widgets/controls",
      "model_module_version": "1.5.0",
      "model_name": "LinkModel",
      "state": {
       "source": [
        "IPY_MODEL_3b541e16859e4c1d9024163d7b57b291",
        "value"
       ],
       "target": [
        "IPY_MODEL_e2f4097d83bc4212becb6aecabcc5a14",
        "visible"
       ]
      }
     },
     "6884f9638f4941b790d393e14060fc45": {
      "model_module": "@jupyter-widgets/base",
      "model_module_version": "1.2.0",
      "model_name": "LayoutModel",
      "state": {
       "height": "25px",
       "padding": "0px",
       "width": "25px"
      }
     },
     "68b1cdf26bbc49dfbe87d36039546a8d": {
      "model_module": "@jupyter-widgets/controls",
      "model_module_version": "1.5.0",
      "model_name": "HBoxModel",
      "state": {
       "children": [
        "IPY_MODEL_e41e3ce4510a40f1b053542c58bee5a5",
        "IPY_MODEL_46f2687d673946138a4b48bb795462e2",
        "IPY_MODEL_bbbe9d112c494d7c807a8276c6969753"
       ],
       "layout": "IPY_MODEL_973eddb10d5d460d804e04ea33489926"
      }
     },
     "699851a0c8104021a90022f4f0ac49f7": {
      "model_module": "ipytree",
      "model_module_version": "0.1.8",
      "model_name": "NodeModel",
      "state": {
       "_id": "18b0329e-9d06-4f26-8dff-8719141ba4d0",
       "_model_module_version": "0.1.8",
       "_view_module_version": "0.1.8",
       "name": "Array",
       "nodes": [
        "IPY_MODEL_cbb896bd9adb41a297d72aa6fe7b32dd",
        "IPY_MODEL_f9a562e4a50644deb613b329ea741abb",
        "IPY_MODEL_85f381f12d9f48ceac5322e5af621267",
        "IPY_MODEL_cb621ac97d51420cac6a6f46dfa6f78c",
        "IPY_MODEL_85e4d0c6674b4ee5a74bc6e3e233c1ac",
        "IPY_MODEL_b4ed289fbcc64ef1a6ab02454d9f110f",
        "IPY_MODEL_ec149aeffc994800a6d26e71f60cee88",
        "IPY_MODEL_dde33cddc63b45d7bcdcc4e425ffe232"
       ],
       "opened": false
      }
     },
     "69b3e3bbb6f24092aa5cace5b1495324": {
      "model_module": "ipytree",
      "model_module_version": "0.1.8",
      "model_name": "NodeModel",
      "state": {
       "_id": "f23d7aec-1c76-4398-94a0-908f7e5dd090",
       "_model_module_version": "0.1.8",
       "_view_module_version": "0.1.8",
       "icon": "file",
       "name": "reduce_region.py"
      }
     },
     "6a5d4a6ae3a8492e8da143ddd2bf027b": {
      "model_module": "@jupyter-widgets/controls",
      "model_module_version": "1.5.0",
      "model_name": "DirectionalLinkModel",
      "state": {
       "source": [
        "IPY_MODEL_89252a0e78184e6f970d84c5b70a72f1",
        "value"
       ],
       "target": [
        "IPY_MODEL_e2f4097d83bc4212becb6aecabcc5a14",
        "opacity"
       ]
      }
     },
     "6a6e5254d3f64f8db4b01c582e101835": {
      "model_module": "jupyter-leaflet",
      "model_module_version": "^0.13.2",
      "model_name": "LeafletTileLayerModel",
      "state": {
       "_model_module_version": "^0.13.2",
       "_view_module_version": "^0.13.2",
       "attribution": "Esri",
       "max_native_zoom": 18,
       "min_native_zoom": 0,
       "name": "Esri Ocean",
       "options": [
        "attribution",
        "detect_retina",
        "max_native_zoom",
        "max_zoom",
        "min_native_zoom",
        "min_zoom",
        "no_wrap",
        "tile_size",
        "tms"
       ],
       "url": "https://services.arcgisonline.com/ArcGIS/rest/services/Ocean/World_Ocean_Base/MapServer/tile/{z}/{y}/{x}"
      }
     },
     "6acae936a3f441a380bf8d8cf3489873": {
      "model_module": "@jupyter-widgets/controls",
      "model_module_version": "1.5.0",
      "model_name": "HBoxModel",
      "state": {
       "children": [
        "IPY_MODEL_33917b24e1ae4e8fbf3bc353691b3b12",
        "IPY_MODEL_855bceec634a4d13a1cb89db6e53fd5e",
        "IPY_MODEL_383069b837434d0aad815c7b3db8eee7"
       ],
       "layout": "IPY_MODEL_886cb699117e41709a17c16822788741"
      }
     },
     "6b03d2f0e1484db2a48bd130fe63f632": {
      "model_module": "ipytree",
      "model_module_version": "0.1.8",
      "model_name": "NodeModel",
      "state": {
       "_id": "f9320f1b-8440-49e5-a07a-ec0aa851fcb4",
       "_model_module_version": "0.1.8",
       "_view_module_version": "0.1.8",
       "name": "ImageCollection",
       "nodes": [
        "IPY_MODEL_ed28a26c11f24c44990fc14f1fc6f410",
        "IPY_MODEL_b7d855a7315f48a59912f832a6dfd55c",
        "IPY_MODEL_f587eb607c8c4c3ea44edfbf9a7d23f5",
        "IPY_MODEL_01bca897dc5d4c90aae7b58f7565cedc",
        "IPY_MODEL_f4cee5f7fe024fbfb04569f344ba108b",
        "IPY_MODEL_c6ecab66c1424b279e895281db9aca92",
        "IPY_MODEL_d88fe61b72c74a82a6ed09f586452b3e",
        "IPY_MODEL_93cb1058286c47c1b15e1a772b395654",
        "IPY_MODEL_cd45ab5e056d43888ba8621e432d6f93",
        "IPY_MODEL_dac8214919ec452e88573d58e17eaee2",
        "IPY_MODEL_91302aa2ae854e7eb5e381d64f16f00e",
        "IPY_MODEL_54a24f0f0dcb40f690549ac56b942278",
        "IPY_MODEL_a57f394adacc4a9494d9592954d28a5d",
        "IPY_MODEL_49bc0a95f99741e9960d341b3770e5a4",
        "IPY_MODEL_cce14eef78ef4440bdc5b1ffc22827f6",
        "IPY_MODEL_5528173e78e4471fae8331f8adc70b05",
        "IPY_MODEL_0e3bfc73574d48faac7a66894e0b2a24",
        "IPY_MODEL_5836dd47fd98413e8523979f6aaf0789",
        "IPY_MODEL_1692dc8a51e04cc2a3c886da90ff15ce",
        "IPY_MODEL_2f3f12ea69f641719c7b54a6dbcac4fa"
       ],
       "opened": false
      }
     },
     "6bcaa397c548498ea739c7a69b98e5dd": {
      "model_module": "ipytree",
      "model_module_version": "0.1.8",
      "model_name": "NodeModel",
      "state": {
       "_id": "27f86444-ec3c-432c-9ca9-ae2be4687d1b",
       "_model_module_version": "0.1.8",
       "_view_module_version": "0.1.8",
       "icon": "table",
       "name": "region"
      }
     },
     "6c108416b4134d8db0a467ae29d29010": {
      "model_module": "jupyter-leaflet",
      "model_module_version": "^0.13.2",
      "model_name": "LeafletWMSLayerModel",
      "state": {
       "_model_module_version": "^0.13.2",
       "_view_module_version": "^0.13.2",
       "attribution": "MRLC",
       "crs": {
        "custom": false,
        "name": "EPSG3857"
       },
       "format": "image/png",
       "layers": "NLCD_2013_Land_Cover_L48",
       "max_native_zoom": 18,
       "min_native_zoom": 0,
       "name": "NLCD 2013 CONUS Land Cover",
       "options": [
        "attribution",
        "detect_retina",
        "format",
        "layers",
        "max_native_zoom",
        "max_zoom",
        "min_native_zoom",
        "min_zoom",
        "no_wrap",
        "styles",
        "tile_size",
        "tms",
        "transparent",
        "uppercase"
       ],
       "transparent": true,
       "url": "https://www.mrlc.gov/geoserver/mrlc_display/NLCD_2013_Land_Cover_L48/wms?"
      }
     },
     "6c504ef310674f7c9b8b84c25889a2c8": {
      "model_module": "ipytree",
      "model_module_version": "0.1.8",
      "model_name": "NodeModel",
      "state": {
       "_id": "45f3135f-283b-44b2-9bc7-4591ccb87230",
       "_model_module_version": "0.1.8",
       "_view_module_version": "0.1.8",
       "icon": "file",
       "name": "spectral_unmixing.py"
      }
     },
     "6c9c9263954d45ccbb58c7a210f11f32": {
      "model_module": "ipytree",
      "model_module_version": "0.1.8",
      "model_name": "NodeModel",
      "state": {
       "_id": "5558f81e-1706-45b9-8687-2e6e978c33b2",
       "_model_module_version": "0.1.8",
       "_view_module_version": "0.1.8",
       "icon": "file",
       "name": "filter_string_contains.py"
      }
     },
     "6cb6ce5609de41d6a9d7db03d7d40c48": {
      "model_module": "@jupyter-widgets/controls",
      "model_module_version": "1.5.0",
      "model_name": "DescriptionStyleModel",
      "state": {
       "description_width": ""
      }
     },
     "6d03d14abf7a450f88216acb7ec97dc7": {
      "model_module": "ipytree",
      "model_module_version": "0.1.8",
      "model_name": "NodeModel",
      "state": {
       "_id": "a9b7237c-05c5-4884-8ba7-e960ec988866",
       "_model_module_version": "0.1.8",
       "_view_module_version": "0.1.8",
       "icon": "file",
       "name": "morphological_operations.py"
      }
     },
     "6dde600d04ef4df483d107dad90d22a0": {
      "model_module": "@jupyter-widgets/controls",
      "model_module_version": "1.5.0",
      "model_name": "DirectionalLinkModel",
      "state": {
       "source": [
        "IPY_MODEL_d4ad4d3e3d9a4b988032289e396abec5",
        "value"
       ],
       "target": [
        "IPY_MODEL_3ddcaa6df6934a9286f82c79e67680b1",
        "opacity"
       ]
      }
     },
     "6fb0788fd42a4c488b1841dd540e7acc": {
      "model_module": "ipytree",
      "model_module_version": "0.1.8",
      "model_name": "NodeModel",
      "state": {
       "_id": "09f70034-dc05-45c3-ae83-885a3ba33e84",
       "_model_module_version": "0.1.8",
       "_view_module_version": "0.1.8",
       "icon": "file",
       "name": "median_reducer.py"
      }
     },
     "6fb6adf6b4e84b1cb2b0633c8450df03": {
      "model_module": "ipytree",
      "model_module_version": "0.1.8",
      "model_name": "NodeModel",
      "state": {
       "_id": "a6f4cf25-648e-475a-8fd7-af820ffd3330",
       "_model_module_version": "0.1.8",
       "_view_module_version": "0.1.8",
       "icon": "file",
       "name": "inverted_joins.py"
      }
     },
     "7033f3496a404c7aabf36e48e6f2288d": {
      "model_module": "@jupyter-widgets/controls",
      "model_module_version": "1.5.0",
      "model_name": "HBoxModel",
      "state": {
       "children": [
        "IPY_MODEL_36fc7dca684c46698163644afac2c774",
        "IPY_MODEL_535cc60541ae433793943a3b4f714585"
       ],
       "layout": "IPY_MODEL_caf7b0f7087a42daa48ed7387f96e0ed"
      }
     },
     "71eb5f39ea734f0eb2b34203fb03d972": {
      "model_module": "@jupyter-widgets/base",
      "model_module_version": "1.2.0",
      "model_name": "LayoutModel",
      "state": {
       "height": "auto",
       "padding": "0px 0px 0px 4px",
       "width": "auto"
      }
     },
     "728b6edad9a3425f944fadfd500c8ded": {
      "model_module": "@jupyter-widgets/base",
      "model_module_version": "1.2.0",
      "model_name": "LayoutModel",
      "state": {}
     },
     "72ad578824df4256a60ce8bc814c01ff": {
      "model_module": "@jupyter-widgets/base",
      "model_module_version": "1.2.0",
      "model_name": "LayoutModel",
      "state": {
       "max_width": "650px"
      }
     },
     "73185c09f9f04511a939c1789a2a9480": {
      "model_module": "@jupyter-widgets/controls",
      "model_module_version": "1.5.0",
      "model_name": "ButtonStyleModel",
      "state": {}
     },
     "73395b1b2349482fb717a816a3a95d2d": {
      "model_module": "ipytree",
      "model_module_version": "0.1.8",
      "model_name": "NodeModel",
      "state": {
       "_id": "41cd1b38-8a8f-4209-988b-10de56a32566",
       "_model_module_version": "0.1.8",
       "_view_module_version": "0.1.8",
       "icon": "file",
       "name": "map_set_center.py"
      }
     },
     "73dbef70aa8c4331828739ff38cd90db": {
      "model_module": "@jupyter-widgets/controls",
      "model_module_version": "1.5.0",
      "model_name": "ToggleButtonModel",
      "state": {
       "icon": "server",
       "layout": "IPY_MODEL_96088044debf480faaee352a2c6db87d",
       "style": "IPY_MODEL_be444a34f42b4a168a121ea574b041c4",
       "tooltip": "Layers"
      }
     },
     "748c1bef0d3e48749cff9d31c9376c1d": {
      "model_module": "@jupyter-widgets/base",
      "model_module_version": "1.2.0",
      "model_name": "LayoutModel",
      "state": {
       "padding": "0px 8px 0px 8px"
      }
     },
     "74a0728acd2f462a87d9b3fc7f8e95a5": {
      "model_module": "ipytree",
      "model_module_version": "0.1.8",
      "model_name": "NodeModel",
      "state": {
       "_id": "6f1c04d5-fdd8-4b3f-9759-f7cf2f78e05a",
       "_model_module_version": "0.1.8",
       "_view_module_version": "0.1.8",
       "name": "Terrain",
       "nodes": [
        "IPY_MODEL_d5d696a72f6c4e6f903e89c3c95bc443",
        "IPY_MODEL_0f41c1eb73094b409ce63054f3f5b51a",
        "IPY_MODEL_0193599b838d46bb83f2a20cb304e111",
        "IPY_MODEL_7d756bf1a13e4297b1f05a053d90898e",
        "IPY_MODEL_e8f564456ac5477ca5c6d4ea44762f23",
        "IPY_MODEL_105e6b7c1ccf490088b7595eabd37c44",
        "IPY_MODEL_969d9b6a99084318934e2091e811a79f",
        "IPY_MODEL_87f422eef1e44df297ffa04ea6caf8e8",
        "IPY_MODEL_36cc32bb75a147c0b112fd9b45db9ec5",
        "IPY_MODEL_a17f1e0038a24589922031fcf98009b7",
        "IPY_MODEL_a65f034806dd457d87f7e4ca37699333",
        "IPY_MODEL_524be6405a9d45f786a74939d8c70165",
        "IPY_MODEL_355f01371cac459a8677f8dccd82c11e",
        "IPY_MODEL_85af785255734da59b4b8aaafddabf48",
        "IPY_MODEL_cbe314ed886645e3a432050c0f46063c",
        "IPY_MODEL_bf9aff4f5c154fd2aab50a14ef1b5a6d",
        "IPY_MODEL_bc25153d30064909a47d389a2ed05dc4",
        "IPY_MODEL_04d4d7ff329d4ea59796c1f3de3d8bd1",
        "IPY_MODEL_1af3c85b97dc4741a22301917df1ea0b",
        "IPY_MODEL_9b45f6862e114caa877da0f0cf7cd7e1"
       ],
       "opened": false
      }
     },
     "74ee304c8ff847319cf3fe9f93d4e024": {
      "model_module": "ipytree",
      "model_module_version": "0.1.8",
      "model_name": "NodeModel",
      "state": {
       "_id": "ae93dd9e-def8-4359-a54b-0d3b6c1814bb",
       "_model_module_version": "0.1.8",
       "_view_module_version": "0.1.8",
       "icon": "file",
       "name": "export_csv.py"
      }
     },
     "7567de824f9348a48b27ee8cd7b62249": {
      "model_module": "@jupyter-widgets/controls",
      "model_module_version": "1.5.0",
      "model_name": "DescriptionStyleModel",
      "state": {
       "description_width": ""
      }
     },
     "75ef84c93877434f95e3371d078f0749": {
      "model_module": "ipytree",
      "model_module_version": "0.1.8",
      "model_name": "NodeModel",
      "state": {
       "_id": "a8127b3c-e785-402c-a264-a42a6dcf54e4",
       "_model_module_version": "0.1.8",
       "_view_module_version": "0.1.8",
       "icon": "file",
       "name": "select_by_strings.py"
      }
     },
     "7703d32c4cbe4be298f2b6f6d29ad916": {
      "model_module": "@jupyter-widgets/base",
      "model_module_version": "1.2.0",
      "model_name": "LayoutModel",
      "state": {
       "padding": "0px 8px 0px 8px"
      }
     },
     "776254de41cf498bad4c1cf035d9f6d4": {
      "model_module": "ipytree",
      "model_module_version": "0.1.8",
      "model_name": "NodeModel",
      "state": {
       "_id": "54c7e962-5962-4d45-bbb4-e430ac80a947",
       "_model_module_version": "0.1.8",
       "_view_module_version": "0.1.8",
       "icon": "file",
       "name": "07_image_statistics.py"
      }
     },
     "77693cba9aa74e078b41f59a61d15cd4": {
      "model_module": "@jupyter-widgets/controls",
      "model_module_version": "1.5.0",
      "model_name": "VBoxModel",
      "state": {
       "children": [
        "IPY_MODEL_16018e8f75dc41eab20ef76e678cf964"
       ],
       "layout": "IPY_MODEL_e301edc244ab4aa5aacc34409b3b148c"
      }
     },
     "777fbda8da3f457cb0e21cd5d8bcc814": {
      "model_module": "@jupyter-widgets/output",
      "model_module_version": "1.0.0",
      "model_name": "OutputModel",
      "state": {
       "layout": "IPY_MODEL_72ad578824df4256a60ce8bc814c01ff"
      }
     },
     "77a76290eb7f4d2ea5cd24f714684a23": {
      "model_module": "jupyter-leaflet",
      "model_module_version": "^0.13.2",
      "model_name": "LeafletTileLayerModel",
      "state": {
       "_model_module_version": "^0.13.2",
       "_view_module_version": "^0.13.2",
       "attribution": "Google",
       "max_native_zoom": 18,
       "min_native_zoom": 0,
       "name": "Google Maps",
       "options": [
        "attribution",
        "detect_retina",
        "max_native_zoom",
        "max_zoom",
        "min_native_zoom",
        "min_zoom",
        "no_wrap",
        "tile_size",
        "tms"
       ],
       "url": "https://mt1.google.com/vt/lyrs=m&x={x}&y={y}&z={z}"
      }
     },
     "77b8bf33867d434cb92cec412e034f56": {
      "model_module": "@jupyter-widgets/base",
      "model_module_version": "1.2.0",
      "model_name": "LayoutModel",
      "state": {
       "display": "none",
       "width": "auto"
      }
     },
     "7833d6b21d984723b59f191c8b117959": {
      "model_module": "@jupyter-widgets/controls",
      "model_module_version": "1.5.0",
      "model_name": "ToggleButtonsStyleModel",
      "state": {
       "button_width": "",
       "description_width": ""
      }
     },
     "7913a4e1c9854f9195caa1e5e842cf46": {
      "model_module": "jupyter-leaflet",
      "model_module_version": "^0.13.2",
      "model_name": "LeafletTileLayerModel",
      "state": {
       "_model_module_version": "^0.13.2",
       "_view_module_version": "^0.13.2",
       "attribution": "&copy; <a href=\"http://www.openstreetmap.org/copyright\">OpenStreetMap</a>, Tiles courtesy of <a href=\"http://hot.openstreetmap.org/\" target=\"_blank\">Humanitarian OpenStreetMap Team</a>",
       "max_native_zoom": 18,
       "max_zoom": 19,
       "min_native_zoom": 0,
       "min_zoom": 1,
       "name": "OpenStreetMap.HOT",
       "options": [
        "attribution",
        "detect_retina",
        "max_native_zoom",
        "max_zoom",
        "min_native_zoom",
        "min_zoom",
        "no_wrap",
        "tile_size",
        "tms"
       ],
       "url": "http://{s}.tile.openstreetmap.fr/hot/{z}/{x}/{y}.png"
      }
     },
     "794dd26957a94d8d878e85ed25605628": {
      "model_module": "jupyter-leaflet",
      "model_module_version": "^0.13.2",
      "model_name": "LeafletTileLayerModel",
      "state": {
       "_model_module_version": "^0.13.2",
       "_view_module_version": "^0.13.2",
       "attribution": "Esri",
       "max_native_zoom": 18,
       "min_native_zoom": 0,
       "name": "Esri Physical Map",
       "options": [
        "attribution",
        "detect_retina",
        "max_native_zoom",
        "max_zoom",
        "min_native_zoom",
        "min_zoom",
        "no_wrap",
        "tile_size",
        "tms"
       ],
       "url": "https://services.arcgisonline.com/arcgis/rest/services/World_Physical_Map/MapServer/tile/{z}/{y}/{x}"
      }
     },
     "79841468a2c246209f69ae7d0c7d5600": {
      "model_module": "ipytree",
      "model_module_version": "0.1.8",
      "model_name": "NodeModel",
      "state": {
       "_id": "2c68ed7b-81be-461a-807b-7de02a9b398b",
       "_model_module_version": "0.1.8",
       "_view_module_version": "0.1.8",
       "name": "Reducer",
       "nodes": [
        "IPY_MODEL_fd22bcd34965442098dec75f9bd42bfa",
        "IPY_MODEL_986aca44061941ad869ba9b19c792d31",
        "IPY_MODEL_8d3dca70a72140f8884372f8b5e68ee4",
        "IPY_MODEL_0d8fde3c7a9b4fcb89b1d4e7f8f02b9b",
        "IPY_MODEL_28f7291e937d45389466f1c5e4cbfb0b",
        "IPY_MODEL_0a0c714817cf4b608872ed498e17571f",
        "IPY_MODEL_6fb0788fd42a4c488b1841dd540e7acc",
        "IPY_MODEL_318b67a69c8c485294cf6fb3c35b16b3",
        "IPY_MODEL_e75180465f694021b52bcd07cc6cbbad",
        "IPY_MODEL_fcafb1fc8c454afd939926aa2f02d91c",
        "IPY_MODEL_61829449929443499de4c94f94ee9d31",
        "IPY_MODEL_041ce5ca83654468a756b5c45e38eabb",
        "IPY_MODEL_db67e67e790542d4ac07d8d6818eba3c",
        "IPY_MODEL_11acb3184a204c5689ac7327bd5137c5",
        "IPY_MODEL_2f71ca42dc63434891100f63996055c1",
        "IPY_MODEL_bf9ff8fc69bf49a4b427e35a408e17d8"
       ],
       "opened": false
      }
     },
     "79e7deb81ede43a5944618b464411488": {
      "model_module": "@jupyter-widgets/base",
      "model_module_version": "1.2.0",
      "model_name": "LayoutModel",
      "state": {}
     },
     "7a35d9ebc643432b8a095857478b7cf7": {
      "model_module": "@jupyter-widgets/controls",
      "model_module_version": "1.5.0",
      "model_name": "DirectionalLinkModel",
      "state": {
       "source": [
        "IPY_MODEL_87512d0b7c0a4e9ea2020fa4b1ca1b81",
        "value"
       ],
       "target": [
        "IPY_MODEL_5fc5d7f51a2f4649ba93e19da02c0b55",
        "opacity"
       ]
      }
     },
     "7ab731f492af4fa6905773987e0c2870": {
      "model_module": "ipytree",
      "model_module_version": "0.1.8",
      "model_name": "NodeModel",
      "state": {
       "_id": "064bb453-27f8-4d97-be88-468e41bd0018",
       "_model_module_version": "0.1.8",
       "_view_module_version": "0.1.8",
       "icon": "file",
       "name": "glad_alert.py"
      }
     },
     "7ae191eaf9014d23aa88e25eed3a604f": {
      "model_module": "jupyter-leaflet",
      "model_module_version": "^0.13.2",
      "model_name": "LeafletTileLayerModel",
      "state": {
       "_model_module_version": "^0.13.2",
       "_view_module_version": "^0.13.2",
       "attribution": "Google",
       "max_native_zoom": 18,
       "min_native_zoom": 0,
       "name": "Google Terrain",
       "options": [
        "attribution",
        "detect_retina",
        "max_native_zoom",
        "max_zoom",
        "min_native_zoom",
        "min_zoom",
        "no_wrap",
        "tile_size",
        "tms"
       ],
       "url": "https://mt1.google.com/vt/lyrs=p&x={x}&y={y}&z={z}"
      }
     },
     "7aeffd096afd43ae8313f1035edd89d9": {
      "model_module": "@jupyter-widgets/controls",
      "model_module_version": "1.5.0",
      "model_name": "SliderStyleModel",
      "state": {
       "description_width": ""
      }
     },
     "7b55e5fb33b84c8696cbf1dd6bc5aa68": {
      "model_module": "jupyter-leaflet",
      "model_module_version": "^0.13.2",
      "model_name": "LeafletTileLayerModel",
      "state": {
       "_model_module_version": "^0.13.2",
       "_view_module_version": "^0.13.2",
       "attribution": "Map tiles by <a href=\"http://stamen.com/\">Stamen Design</a>, under <a href=\"http://creativecommons.org/licenses/by/3.0\">CC BY 3.0</a>. Data by <a href=\"http://openstreetmap.org/\">OpenStreetMap</a>, under <a href=\"http://creativecommons.org/licenses/by-sa/3.0\">CC BY SA</a>.",
       "max_native_zoom": 18,
       "min_native_zoom": 0,
       "min_zoom": 1,
       "name": "Stamen.Watercolor",
       "options": [
        "attribution",
        "detect_retina",
        "max_native_zoom",
        "max_zoom",
        "min_native_zoom",
        "min_zoom",
        "no_wrap",
        "tile_size",
        "tms"
       ],
       "url": "https://stamen-tiles-a.a.ssl.fastly.net/watercolor/{z}/{x}/{y}.png"
      }
     },
     "7c157760b64c4802b7a36b7ae28fa816": {
      "model_module": "@jupyter-widgets/controls",
      "model_module_version": "1.5.0",
      "model_name": "HBoxModel",
      "state": {
       "children": [
        "IPY_MODEL_0bcf738084154b3499b624840f018f3d",
        "IPY_MODEL_4cd3db86bfe54e0d9a9b22a1f4220fe6",
        "IPY_MODEL_83f0179c0d4d4a8bbb85f3c86892a529"
       ],
       "layout": "IPY_MODEL_c6c262eb373c43f68502bdd971c21702"
      }
     },
     "7cee31f537d5438d951b8421f451e54a": {
      "model_module": "ipytree",
      "model_module_version": "0.1.8",
      "model_name": "NodeModel",
      "state": {
       "_id": "c5f26618-da13-442d-bf62-52a71bf4470a",
       "_model_module_version": "0.1.8",
       "_view_module_version": "0.1.8",
       "icon": "file",
       "name": "idw_interpolation.py"
      }
     },
     "7d03a38e62414566ba2522432b2c77cb": {
      "model_module": "ipytree",
      "model_module_version": "0.1.8",
      "model_name": "NodeModel",
      "state": {
       "_id": "131ce9fa-e0e4-4f72-883c-d3026c3d193f",
       "_model_module_version": "0.1.8",
       "_view_module_version": "0.1.8",
       "icon": "file",
       "name": "gradients.py"
      }
     },
     "7d1c4dc0ca7e440f8496a75deea5c913": {
      "model_module": "ipytree",
      "model_module_version": "0.1.8",
      "model_name": "NodeModel",
      "state": {
       "_id": "4c0dd095-6381-48db-a311-09f5062547fc",
       "_model_module_version": "0.1.8",
       "_view_module_version": "0.1.8",
       "icon": "file",
       "name": "column_statistics_by_group.py"
      }
     },
     "7d61b88177614bba8d9ec92d3b60f538": {
      "model_module": "ipytree",
      "model_module_version": "0.1.8",
      "model_name": "NodeModel",
      "state": {
       "_id": "740f3018-8820-4faa-b21d-8ae774179293",
       "_model_module_version": "0.1.8",
       "_view_module_version": "0.1.8",
       "icon": "table",
       "name": "glims_points"
      }
     },
     "7d756bf1a13e4297b1f05a053d90898e": {
      "model_module": "ipytree",
      "model_module_version": "0.1.8",
      "model_name": "NodeModel",
      "state": {
       "_id": "499d3db7-5075-47d8-9fd5-72febfc29824",
       "_model_module_version": "0.1.8",
       "_view_module_version": "0.1.8",
       "icon": "file",
       "name": "alos_mtpi.py"
      }
     },
     "7dba369dde4b468e9a10d569a234af87": {
      "model_module": "ipytree",
      "model_module_version": "0.1.8",
      "model_name": "NodeModel",
      "state": {
       "_id": "dede1e6a-c126-4b03-adc8-004e00b19184",
       "_model_module_version": "0.1.8",
       "_view_module_version": "0.1.8",
       "icon": "file",
       "name": "jrc_monthly_history.py"
      }
     },
     "7e8ef295cede44ef89b5a4a5a980347f": {
      "model_module": "ipytree",
      "model_module_version": "0.1.8",
      "model_name": "NodeModel",
      "state": {
       "_id": "9bf0abbb-244d-45ae-b671-0a63908ca01d",
       "_model_module_version": "0.1.8",
       "_view_module_version": "0.1.8",
       "icon": "file",
       "name": "palettes-test-crameri-dem.py"
      }
     },
     "7eb436ac87a74c37acea9def4e428fe1": {
      "model_module": "ipytree",
      "model_module_version": "0.1.8",
      "model_name": "NodeModel",
      "state": {
       "_id": "26e053c8-a374-479c-ba9c-08fbee26ceb8",
       "_model_module_version": "0.1.8",
       "_view_module_version": "0.1.8",
       "icon": "file",
       "name": "image_color_ramp.py"
      }
     },
     "7edc50dc7d5b4aabbf5937ae6eade09b": {
      "model_module": "ipytree",
      "model_module_version": "0.1.8",
      "model_name": "NodeModel",
      "state": {
       "_id": "2816521a-9eae-45c0-80bf-640f7363f01e",
       "_model_module_version": "0.1.8",
       "_view_module_version": "0.1.8",
       "icon": "file",
       "name": "svm_classifier.py"
      }
     },
     "7f8371987ae642898c16a7b5ba13b480": {
      "model_module": "@jupyter-widgets/controls",
      "model_module_version": "1.5.0",
      "model_name": "SliderStyleModel",
      "state": {
       "description_width": ""
      }
     },
     "80498daf7b2d46b3a5d3782045206a05": {
      "model_module": "jupyter-leaflet",
      "model_module_version": "^0.13.2",
      "model_name": "LeafletTileLayerModel",
      "state": {
       "_model_module_version": "^0.13.2",
       "_view_module_version": "^0.13.2",
       "attribution": "Map tiles by <a href=\"https://labs.strava.com/heatmap\">Strava 2017</a>",
       "max_native_zoom": 18,
       "max_zoom": 15,
       "min_native_zoom": 0,
       "min_zoom": 1,
       "name": "Strava.Water",
       "options": [
        "attribution",
        "detect_retina",
        "max_native_zoom",
        "max_zoom",
        "min_native_zoom",
        "min_zoom",
        "no_wrap",
        "tile_size",
        "tms"
       ],
       "url": "https://heatmap-external-a.strava.com//tiles/water/blue/{z}/{x}/{y}.png?v=19"
      }
     },
     "806f1641312548fca3a728750fa63930": {
      "model_module": "@jupyter-widgets/base",
      "model_module_version": "1.2.0",
      "model_name": "LayoutModel",
      "state": {
       "width": "80px"
      }
     },
     "80985cd0bfa04fef95b57fb994e9925b": {
      "model_module": "@jupyter-widgets/controls",
      "model_module_version": "1.5.0",
      "model_name": "ToggleButtonModel",
      "state": {
       "button_style": "primary",
       "icon": "folder-open",
       "layout": "IPY_MODEL_b596101e06114749a46a31e6d4604185",
       "style": "IPY_MODEL_2ddca6e49f7f4beba66b2b4b2b2bd258",
       "tooltip": "Open local vector/raster data"
      }
     },
     "81ca87d8c5b84fdd88e9621f138881b6": {
      "model_module": "ipytree",
      "model_module_version": "0.1.8",
      "model_name": "NodeModel",
      "state": {
       "_id": "2df0aa43-a189-43ba-8c5b-4c7487c9af92",
       "_model_module_version": "0.1.8",
       "_view_module_version": "0.1.8",
       "name": "Image",
       "nodes": [
        "IPY_MODEL_33b4ec2ada5e45e2a9fef8f6d23f67f4",
        "IPY_MODEL_0cba1127f0f045f8aaff64268995152b",
        "IPY_MODEL_9485ea695d834538ab413914e4841729",
        "IPY_MODEL_01e82ef84c1649aebd6c6c2419493e8f",
        "IPY_MODEL_3141e6e8c83a480f8a75da8ed95aa15e",
        "IPY_MODEL_51a5a3350edf47b9ba510f58078aed59",
        "IPY_MODEL_eb39596d42934a6fb364ec5a02539a7e",
        "IPY_MODEL_d28ea55b112e406198671b7ec22ffe7b",
        "IPY_MODEL_2dfd5ab1cc754c978f6dd58419658558",
        "IPY_MODEL_e93f7104999f4be988e9ab63c44a8b19",
        "IPY_MODEL_a3f0e813c45f44e7ba50cf04a8062559",
        "IPY_MODEL_880a62419e64485c864310c237d91c9b",
        "IPY_MODEL_f0428182a458452289c4aa77e523e6ad",
        "IPY_MODEL_2c68e2a517d14ca5adbd7a062db0e625",
        "IPY_MODEL_13a6dbdf8c21456b87211700ea393ed8",
        "IPY_MODEL_579160b1585841adad30523574bff7c6",
        "IPY_MODEL_9fec0cd464ee40ad8c77f272ebd3aaf3",
        "IPY_MODEL_5b1f3bb7153d4931a2c58bf7ffc70d53",
        "IPY_MODEL_5c8ed7323c664036943cb268a9e21cd7",
        "IPY_MODEL_de1a54c120c741e08551cfe0898596da",
        "IPY_MODEL_4ecd76e280d7497a92344cec2877c768",
        "IPY_MODEL_3edcc2b57348459db9a37cba1672744c",
        "IPY_MODEL_28f455d227554f9496bcc936353556e1",
        "IPY_MODEL_7d03a38e62414566ba2522432b2c77cb",
        "IPY_MODEL_a5cd4629597f4c6693767b762d47233c",
        "IPY_MODEL_2bdcd1074d804577bad6b1bcac7accec",
        "IPY_MODEL_a5ac633e5822460da84b66218fa9fade",
        "IPY_MODEL_89a19a5a5b024400be9cdad851ce6568",
        "IPY_MODEL_e4ceab7221614de78d0def7f64064d6a",
        "IPY_MODEL_c7e1c298115c495ab55b73ebe1e37fa7",
        "IPY_MODEL_92264357be8945e497423c25f7afbd90",
        "IPY_MODEL_f7cb017f0c35418bb7ac88a4832cca15",
        "IPY_MODEL_982f6b0431a2458baeeedee447436d53",
        "IPY_MODEL_e2a89afd82ab467ab1626c70e226606f",
        "IPY_MODEL_8251a44c23f44debb4c2bb650934ee18",
        "IPY_MODEL_cc29c2536d984d4f84d48db8b256c7df",
        "IPY_MODEL_6d03d14abf7a450f88216acb7ec97dc7",
        "IPY_MODEL_9003f10e1e11410f8e7d8c65793a8027",
        "IPY_MODEL_41e6487e080045d98415361e8bd1039d",
        "IPY_MODEL_0df321d775714856b2fbc47cbdc7775d",
        "IPY_MODEL_14f18dd3eb574339af9c862782ba2cdb",
        "IPY_MODEL_3405e00fe6b74f5abd095fc18bf9e917",
        "IPY_MODEL_403d109a1c7a476b898399ea4f906cc3",
        "IPY_MODEL_be9b0f8cff624dadb53487f9e850d96b",
        "IPY_MODEL_69b3e3bbb6f24092aa5cace5b1495324",
        "IPY_MODEL_2719886f2f3f45d4bfc5f9f0bd82b996",
        "IPY_MODEL_61d2a9189ee9448291652c595de2e40c",
        "IPY_MODEL_17bab6e9aaa943a3af53d1430b65ca87",
        "IPY_MODEL_dfbd8e9eed43420694b6ed341ebb4e24",
        "IPY_MODEL_6c504ef310674f7c9b8b84c25889a2c8",
        "IPY_MODEL_64325e296ea64707a278d6ed8c21d712",
        "IPY_MODEL_41fac5be1cd047368c064e31979eab7e",
        "IPY_MODEL_a20a6b7169184e74b3251d07057a6532",
        "IPY_MODEL_bf3b9886442a47f9a596676702cdff9e",
        "IPY_MODEL_595ac6cad84e4437aad33ad2cf936b1a"
       ],
       "opened": false
      }
     },
     "824f7f96d02e450ebe91ea8223d5b8a3": {
      "model_module": "@jupyter-widgets/controls",
      "model_module_version": "1.5.0",
      "model_name": "LinkModel",
      "state": {
       "source": [
        "IPY_MODEL_fe16d4d8a93149f9835628a6de62c5eb",
        "value"
       ],
       "target": [
        "IPY_MODEL_3ddcaa6df6934a9286f82c79e67680b1",
        "visible"
       ]
      }
     },
     "8251a44c23f44debb4c2bb650934ee18": {
      "model_module": "ipytree",
      "model_module_version": "0.1.8",
      "model_name": "NodeModel",
      "state": {
       "_id": "a75e814f-71d3-4c13-b63f-edbbd197dea9",
       "_model_module_version": "0.1.8",
       "_view_module_version": "0.1.8",
       "icon": "file",
       "name": "image_vis.py"
      }
     },
     "83cfb7bb7fd14393aee8ad2a033e0c89": {
      "model_module": "ipytree",
      "model_module_version": "0.1.8",
      "model_name": "NodeModel",
      "state": {
       "_id": "5af8c046-3a7a-43ed-af7e-d69bd9bfc8c5",
       "_model_module_version": "0.1.8",
       "_view_module_version": "0.1.8",
       "icon": "file",
       "name": "loop_FeatureCollection.py"
      }
     },
     "83f0179c0d4d4a8bbb85f3c86892a529": {
      "model_module": "@jupyter-widgets/controls",
      "model_module_version": "1.5.0",
      "model_name": "FloatSliderModel",
      "state": {
       "layout": "IPY_MODEL_93c40e829e054149a4cfd5653bedbc5b",
       "max": 1,
       "readout": false,
       "step": 0.01,
       "style": "IPY_MODEL_c2196a142a2a4c3d8acc346437390572",
       "value": 1
      }
     },
     "8423d751b80b4be5a12fdf1df7e841ca": {
      "model_module": "ipytree",
      "model_module_version": "0.1.8",
      "model_name": "NodeModel",
      "state": {
       "_id": "4e696678-8391-4938-8e9d-8e127bf03c0d",
       "_model_module_version": "0.1.8",
       "_view_module_version": "0.1.8",
       "icon": "file",
       "name": "terrain_visualization.py"
      }
     },
     "8495e01281244b76b46a3e3ad4df21ba": {
      "model_module": "@jupyter-widgets/controls",
      "model_module_version": "1.5.0",
      "model_name": "SliderStyleModel",
      "state": {
       "description_width": ""
      }
     },
     "84f4432c0eb542c78370dbc3e89d8a04": {
      "model_module": "@jupyter-widgets/controls",
      "model_module_version": "1.5.0",
      "model_name": "ToggleButtonModel",
      "state": {
       "icon": "gear",
       "layout": "IPY_MODEL_4aab84c00a3b474e8d3e393d4def536f",
       "style": "IPY_MODEL_57abd19cd17544dca693796ded0734e6",
       "tooltip": "kz"
      }
     },
     "85229398ed29426e9c86be025c56d539": {
      "model_module": "ipytree",
      "model_module_version": "0.1.8",
      "model_name": "NodeModel",
      "state": {
       "_id": "3ddea420-4493-4ef6-8916-c499aaa07eb3",
       "_model_module_version": "0.1.8",
       "_view_module_version": "0.1.8",
       "name": "JavaScripts",
       "nodes": [
        "IPY_MODEL_f86a2a453416413d9dbed66e86535e52",
        "IPY_MODEL_2a631abf23114dd5872344f29297de99",
        "IPY_MODEL_fdc766291023434e9734cbe6e9ee3622"
       ],
       "opened": false
      }
     },
     "853f188e22b34865802fe191d81a4ac9": {
      "model_module": "@jupyter-widgets/controls",
      "model_module_version": "1.5.0",
      "model_name": "DescriptionStyleModel",
      "state": {
       "description_width": ""
      }
     },
     "855bceec634a4d13a1cb89db6e53fd5e": {
      "model_module": "@jupyter-widgets/controls",
      "model_module_version": "1.5.0",
      "model_name": "ToggleButtonModel",
      "state": {
       "icon": "gear",
       "layout": "IPY_MODEL_46dd060b81544afd8331a7792ed29727",
       "style": "IPY_MODEL_079fc56c0f154f50a8a0a40c8fc155bc",
       "tooltip": "OpenTopoMap"
      }
     },
     "8588770995ff4477974a926834872fda": {
      "model_module": "@jupyter-widgets/controls",
      "model_module_version": "1.5.0",
      "model_name": "DirectionalLinkModel",
      "state": {
       "source": [
        "IPY_MODEL_2c21e39412344904b1369a3e8ee13707",
        "value"
       ],
       "target": [
        "IPY_MODEL_5fc5d7f51a2f4649ba93e19da02c0b55",
        "opacity"
       ]
      }
     },
     "85af785255734da59b4b8aaafddabf48": {
      "model_module": "ipytree",
      "model_module_version": "0.1.8",
      "model_name": "NodeModel",
      "state": {
       "_id": "471b0a1b-d9fd-4690-893e-964c6cb5eb2e",
       "_model_module_version": "0.1.8",
       "_view_module_version": "0.1.8",
       "icon": "file",
       "name": "us_ned.py"
      }
     },
     "85e4d0c6674b4ee5a74bc6e3e233c1ac": {
      "model_module": "ipytree",
      "model_module_version": "0.1.8",
      "model_name": "NodeModel",
      "state": {
       "_id": "eedf1520-8c4e-43f7-b05b-9be67270647c",
       "_model_module_version": "0.1.8",
       "_view_module_version": "0.1.8",
       "icon": "file",
       "name": "eigen_analysis.py"
      }
     },
     "85f381f12d9f48ceac5322e5af621267": {
      "model_module": "ipytree",
      "model_module_version": "0.1.8",
      "model_name": "NodeModel",
      "state": {
       "_id": "8b2b6192-c795-459d-b737-3c9f4800b8c7",
       "_model_module_version": "0.1.8",
       "_view_module_version": "0.1.8",
       "icon": "file",
       "name": "array_transformations.py"
      }
     },
     "8644d4fe4ef249bb93e1ad621fd1b9d2": {
      "model_module": "ipytree",
      "model_module_version": "0.1.8",
      "model_name": "NodeModel",
      "state": {
       "_id": "d4a458cc-de20-422e-a4e6-98f3f7795a20",
       "_model_module_version": "0.1.8",
       "_view_module_version": "0.1.8",
       "icon": "file",
       "name": "sentinel-2.py"
      }
     },
     "87512d0b7c0a4e9ea2020fa4b1ca1b81": {
      "model_module": "@jupyter-widgets/controls",
      "model_module_version": "1.5.0",
      "model_name": "FloatSliderModel",
      "state": {
       "layout": "IPY_MODEL_3088d9c867d6401aa90e6b467bcbd080",
       "max": 1,
       "readout": false,
       "step": 0.01,
       "style": "IPY_MODEL_8495e01281244b76b46a3e3ad4df21ba",
       "value": 1
      }
     },
     "87f422eef1e44df297ffa04ea6caf8e8": {
      "model_module": "ipytree",
      "model_module_version": "0.1.8",
      "model_name": "NodeModel",
      "state": {
       "_id": "fdf2e360-3e25-4c4a-b1d1-7bfbf063d727",
       "_model_module_version": "0.1.8",
       "_view_module_version": "0.1.8",
       "icon": "file",
       "name": "srtm.py"
      }
     },
     "880a62419e64485c864310c237d91c9b": {
      "model_module": "ipytree",
      "model_module_version": "0.1.8",
      "model_name": "NodeModel",
      "state": {
       "_id": "bac49d04-c98d-44e4-99cc-9e139802f03b",
       "_model_module_version": "0.1.8",
       "_view_module_version": "0.1.8",
       "icon": "file",
       "name": "convolutions.py"
      }
     },
     "886535ea859b467097326406e5f69005": {
      "model_module": "@jupyter-widgets/controls",
      "model_module_version": "1.5.0",
      "model_name": "ToggleButtonModel",
      "state": {
       "icon": "gear",
       "layout": "IPY_MODEL_f0de4eaace044dc1ae04e30c1e91fb67",
       "style": "IPY_MODEL_15338d8c920048fcbc3ca4e93522fe40",
       "tooltip": "Google Maps"
      }
     },
     "886cb699117e41709a17c16822788741": {
      "model_module": "@jupyter-widgets/base",
      "model_module_version": "1.2.0",
      "model_name": "LayoutModel",
      "state": {
       "padding": "0px 8px 0px 8px"
      }
     },
     "89252a0e78184e6f970d84c5b70a72f1": {
      "model_module": "@jupyter-widgets/controls",
      "model_module_version": "1.5.0",
      "model_name": "FloatSliderModel",
      "state": {
       "layout": "IPY_MODEL_a81d92226c164e75b2743978b7afc6db",
       "max": 1,
       "readout": false,
       "step": 0.01,
       "style": "IPY_MODEL_39e0935b84304c6a8379f3f0adf880e1",
       "value": 1
      }
     },
     "8926140c54554209b11c5060f581590d": {
      "model_module": "ipytree",
      "model_module_version": "0.1.8",
      "model_name": "NodeModel",
      "state": {
       "_id": "d7e9dd89-287e-41c6-a340-f023797870a1",
       "_model_module_version": "0.1.8",
       "_view_module_version": "0.1.8",
       "icon": "file",
       "name": "map_function.py"
      }
     },
     "89a19a5a5b024400be9cdad851ce6568": {
      "model_module": "ipytree",
      "model_module_version": "0.1.8",
      "model_name": "NodeModel",
      "state": {
       "_id": "67df8620-6456-4a07-91a8-4134c833789e",
       "_model_module_version": "0.1.8",
       "_view_module_version": "0.1.8",
       "icon": "file",
       "name": "hsv_pan_sharpen.py"
      }
     },
     "8aa529f5d25f476eadcca40dcc1a418d": {
      "model_module": "@jupyter-widgets/controls",
      "model_module_version": "1.5.0",
      "model_name": "FloatSliderModel",
      "state": {
       "layout": "IPY_MODEL_c5dd54fe36e7400b9a2fca13b7ed8cf0",
       "max": 1,
       "readout": false,
       "step": 0.01,
       "style": "IPY_MODEL_a4cf725673d1420596044633eead57f2",
       "value": 1
      }
     },
     "8adb4afff9b94de6a6621395eddd6a34": {
      "model_module": "@jupyter-widgets/controls",
      "model_module_version": "1.5.0",
      "model_name": "DescriptionStyleModel",
      "state": {
       "description_width": ""
      }
     },
     "8b1fd798f4c74e21af741129c7ff8ee1": {
      "model_module": "ipytree",
      "model_module_version": "0.1.8",
      "model_name": "NodeModel",
      "state": {
       "_id": "3dd1dc58-aad4-4668-9201-7b91b308059d",
       "_model_module_version": "0.1.8",
       "_view_module_version": "0.1.8",
       "icon": "file",
       "name": "README.md"
      }
     },
     "8b28aaa4ce90458b9803649cf7e3b6e3": {
      "model_module": "@jupyter-widgets/base",
      "model_module_version": "1.2.0",
      "model_name": "LayoutModel",
      "state": {
       "height": "18px",
       "width": "25ex"
      }
     },
     "8b6955bdb9984b518f47d3291f6948ca": {
      "model_module": "ipytree",
      "model_module_version": "0.1.8",
      "model_name": "NodeModel",
      "state": {
       "_id": "b8028488-418a-45cc-ac05-80c1e0046e9c",
       "_model_module_version": "0.1.8",
       "_view_module_version": "0.1.8",
       "icon": "file",
       "name": "export_raster.py"
      }
     },
     "8bc6ffdfcf4142948a7e53a1043943b6": {
      "model_module": "ipytree",
      "model_module_version": "0.1.8",
      "model_name": "NodeModel",
      "state": {
       "_id": "c5425573-f04f-453d-99e2-f8f2f413ad19",
       "_model_module_version": "0.1.8",
       "_view_module_version": "0.1.8",
       "icon": "file",
       "name": "02_adding_data_to_qgis.py"
      }
     },
     "8c0a4944d71f4ca5add100cde5dc7bc7": {
      "model_module": "jupyter-leaflet",
      "model_module_version": "^0.13.2",
      "model_name": "LeafletTileLayerModel",
      "state": {
       "_model_module_version": "^0.13.2",
       "_view_module_version": "^0.13.2",
       "attribution": "\nImagery provided by services from the Global Imagery Browse Services (GIBS), operated by the NASA/GSFC/Earth Science Data and Information System (<a href=\"https://earthdata.nasa.gov\">ESDIS</a>) with funding provided by NASA/HQ.\n",
       "max_native_zoom": 18,
       "max_zoom": 9,
       "min_native_zoom": 0,
       "min_zoom": 1,
       "name": "NASAGIBS.ModisTerraTrueColorCR",
       "options": [
        "attribution",
        "detect_retina",
        "max_native_zoom",
        "max_zoom",
        "min_native_zoom",
        "min_zoom",
        "no_wrap",
        "tile_size",
        "tms"
       ],
       "url": "https://gibs.earthdata.nasa.gov/wmts/epsg3857/best/MODIS_Terra_CorrectedReflectance_TrueColor/default/2021-04-27/GoogleMapsCompatible_Level9/{z}/{y}/{x}.jpg"
      }
     },
     "8c3e48dfd51b416d9f8c373e1f796fc9": {
      "model_module": "@jupyter-widgets/base",
      "model_module_version": "1.2.0",
      "model_name": "LayoutModel",
      "state": {
       "height": "auto",
       "padding": "0px 0px 0px 4px",
       "width": "auto"
      }
     },
     "8ca0afbc176f4cc48828907ed0343552": {
      "model_module": "jupyter-leaflet",
      "model_module_version": "^0.13.2",
      "model_name": "LeafletMapModel",
      "state": {
       "_model_module_version": "^0.13.2",
       "_view_module_version": "^0.13.2",
       "bottom": 770735,
       "center": [
        43.020337084571004,
        77.04488754272462
       ],
       "controls": [
        "IPY_MODEL_b1ab24a965064c24812dab8cf43f21ae",
        "IPY_MODEL_2363e6ac7d75480485ad5d923a0cc8cd",
        "IPY_MODEL_bf821e7ef4404eb7a262327d2a33ad77",
        "IPY_MODEL_a76c9abe578e46aea75fd58edf761020",
        "IPY_MODEL_0dc031dd3726450e9ce680912a0febf0",
        "IPY_MODEL_a2231d68760d493da1ac084fdb21d51f",
        "IPY_MODEL_4723047632b54ef09fdfddd6e16d6ec3",
        "IPY_MODEL_5c2bfc1e12be4e81b997ccb20a5d31ed"
       ],
       "default_style": "IPY_MODEL_13d4037cb0c94f27b320427dc933f390",
       "dragging_style": "IPY_MODEL_00ff9f7482ad4b1682ce6683e16ec6c2",
       "east": 77.12900161743165,
       "fullscreen": false,
       "interpolation": "bilinear",
       "layers": [
        "IPY_MODEL_9f1eedcd325e4a08a7b683fd9150093e",
        "IPY_MODEL_77a76290eb7f4d2ea5cd24f714684a23",
        "IPY_MODEL_5fc5d7f51a2f4649ba93e19da02c0b55",
        "IPY_MODEL_3ddcaa6df6934a9286f82c79e67680b1",
        "IPY_MODEL_2439ff2df8b84200bc1a61d3c4bbb264",
        "IPY_MODEL_e2f4097d83bc4212becb6aecabcc5a14"
       ],
       "layout": "IPY_MODEL_08e66dc7e9124ef1a84312a9576d095b",
       "left": 1496905,
       "modisdate": "yesterday",
       "north": 43.05797662613352,
       "options": [
        "bounce_at_zoom_limits",
        "box_zoom",
        "center",
        "close_popup_on_click",
        "double_click_zoom",
        "dragging",
        "fullscreen",
        "inertia",
        "inertia_deceleration",
        "inertia_max_speed",
        "interpolation",
        "keyboard",
        "keyboard_pan_offset",
        "keyboard_zoom_offset",
        "max_zoom",
        "min_zoom",
        "scroll_wheel_zoom",
        "tap",
        "tap_tolerance",
        "touch_zoom",
        "world_copy_jump",
        "zoom",
        "zoom_animation_threshold",
        "zoom_delta",
        "zoom_snap",
        "zoom_start"
       ],
       "right": 1497885,
       "scroll_wheel_zoom": true,
       "south": 42.98267445442769,
       "style": "IPY_MODEL_13d4037cb0c94f27b320427dc933f390",
       "top": 770135,
       "west": 76.96077346801759,
       "window_url": "http://localhost:8888/notebooks/GEE/gl.ipynb",
       "zoom": 13
      }
     },
     "8d07caf6b86b46a394c3c22d42f84744": {
      "model_module": "ipytree",
      "model_module_version": "0.1.8",
      "model_name": "NodeModel",
      "state": {
       "_id": "345878cc-9e31-41b0-adf8-52303d744d85",
       "_model_module_version": "0.1.8",
       "_view_module_version": "0.1.8",
       "icon": "file",
       "name": "us_census_roads.py"
      }
     },
     "8d3dca70a72140f8884372f8b5e68ee4": {
      "model_module": "ipytree",
      "model_module_version": "0.1.8",
      "model_name": "NodeModel",
      "state": {
       "_id": "5c174980-0331-44d7-9480-5afa9cd7ab71",
       "_model_module_version": "0.1.8",
       "_view_module_version": "0.1.8",
       "icon": "file",
       "name": "image_reductions.py"
      }
     },
     "8d7436a00dbd482fb988fbc4a2dc0e29": {
      "model_module": "@jupyter-widgets/controls",
      "model_module_version": "1.5.0",
      "model_name": "DirectionalLinkModel",
      "state": {
       "source": [
        "IPY_MODEL_667d25f409474331b943241be209d710",
        "value"
       ],
       "target": [
        "IPY_MODEL_77a76290eb7f4d2ea5cd24f714684a23",
        "opacity"
       ]
      }
     },
     "8d8cd9b936dd4b64903450c4201ea4ac": {
      "model_module": "@jupyter-widgets/controls",
      "model_module_version": "1.5.0",
      "model_name": "ToggleButtonsModel",
      "state": {
       "_options_labels": [
        "OK",
        "Cancel"
       ],
       "button_style": "primary",
       "icons": [],
       "index": null,
       "layout": "IPY_MODEL_b7007922dab149f8812bd6d638f4f84e",
       "style": "IPY_MODEL_7833d6b21d984723b59f191c8b117959",
       "tooltips": [
        "OK",
        "Cancel"
       ]
      }
     },
     "8d96bb5b0bd64e2795bdd90e2e206d10": {
      "model_module": "jupyter-leaflet",
      "model_module_version": "^0.13.2",
      "model_name": "LeafletTileLayerModel",
      "state": {
       "_model_module_version": "^0.13.2",
       "_view_module_version": "^0.13.2",
       "attribution": "\nImagery provided by services from the Global Imagery Browse Services (GIBS), operated by the NASA/GSFC/Earth Science Data and Information System (<a href=\"https://earthdata.nasa.gov\">ESDIS</a>) with funding provided by NASA/HQ.\n",
       "max_native_zoom": 18,
       "max_zoom": 8,
       "min_native_zoom": 0,
       "min_zoom": 1,
       "name": "NASAGIBS.ViirsEarthAtNight2012",
       "options": [
        "attribution",
        "detect_retina",
        "max_native_zoom",
        "max_zoom",
        "min_native_zoom",
        "min_zoom",
        "no_wrap",
        "tile_size",
        "tms"
       ],
       "url": "http://gibs.earthdata.nasa.gov/wmts/epsg3857/best/VIIRS_Black_Marble/default/2012-01-01/GoogleMapsCompatible_Level8/{z}/{y}/{x}.png"
      }
     },
     "8dd79b9c7b4941c891890fb2569fb0ba": {
      "model_module": "ipytree",
      "model_module_version": "0.1.8",
      "model_name": "NodeModel",
      "state": {
       "_id": "0de82c54-f1d8-4bb2-aa54-547ebb64fa6c",
       "_model_module_version": "0.1.8",
       "_view_module_version": "0.1.8",
       "name": "Filter",
       "nodes": [
        "IPY_MODEL_2e9fb3a73f5d465fba8e853b5989dc52",
        "IPY_MODEL_3e9ebc12680b4c96ba7e11f6a0592c99",
        "IPY_MODEL_aad367384cd347d6a99861419fe1accf",
        "IPY_MODEL_073af4c094e3453fa525d88a8f56c14d",
        "IPY_MODEL_6c9c9263954d45ccbb58c7a210f11f32",
        "IPY_MODEL_1e5148bbf3be42129a198c7cf0de18a0",
        "IPY_MODEL_57d925451cb34767a97255f6a38f0561"
       ],
       "opened": false
      }
     },
     "8e22ffc170a244849aeaaa9de9780bc3": {
      "model_module": "@jupyter-widgets/base",
      "model_module_version": "1.2.0",
      "model_name": "LayoutModel",
      "state": {
       "height": "25px",
       "padding": "0px",
       "width": "25px"
      }
     },
     "8e5424d4b5874fbc99e8463bf5ee0015": {
      "model_module": "@jupyter-widgets/controls",
      "model_module_version": "1.5.0",
      "model_name": "ButtonStyleModel",
      "state": {}
     },
     "8ef1a0f46d914cfbbeab10fbc40231cf": {
      "model_module": "@jupyter-widgets/controls",
      "model_module_version": "1.5.0",
      "model_name": "ButtonModel",
      "state": {
       "button_style": "primary",
       "description": "Clone",
       "layout": "IPY_MODEL_457d3aaedbd64f76bade87fd8a418281",
       "style": "IPY_MODEL_5c85b9541e23403f995e873cb04fd185",
       "tooltip": "Clone the repository to folder."
      }
     },
     "8f32a58fed2a46d6bba9bdc6aedf835e": {
      "model_module": "@jupyter-widgets/base",
      "model_module_version": "1.2.0",
      "model_name": "LayoutModel",
      "state": {
       "width": "70px"
      }
     },
     "8f7775529acd467c9a1a5a6f8e75842c": {
      "model_module": "@jupyter-widgets/controls",
      "model_module_version": "1.5.0",
      "model_name": "SliderStyleModel",
      "state": {
       "description_width": ""
      }
     },
     "8fd7649c4ed94fc29afb985da0499af1": {
      "model_module": "ipytree",
      "model_module_version": "0.1.8",
      "model_name": "NodeModel",
      "state": {
       "_id": "466549cb-f150-4425-b5d0-5c157afc9fb6",
       "_model_module_version": "0.1.8",
       "_view_module_version": "0.1.8",
       "icon": "file",
       "name": "export_TimeSeries.py"
      }
     },
     "8feed33a322c4ba4bcddf7e57070a000": {
      "model_module": "jupyter-leaflet",
      "model_module_version": "^0.13.2",
      "model_name": "LeafletTileLayerModel",
      "state": {
       "_model_module_version": "^0.13.2",
       "_view_module_version": "^0.13.2",
       "attribution": "Google",
       "max_native_zoom": 18,
       "min_native_zoom": 0,
       "name": "Google Satellite",
       "options": [
        "attribution",
        "detect_retina",
        "max_native_zoom",
        "max_zoom",
        "min_native_zoom",
        "min_zoom",
        "no_wrap",
        "tile_size",
        "tms"
       ],
       "url": "https://mt1.google.com/vt/lyrs=y&x={x}&y={y}&z={z}"
      }
     },
     "9003f10e1e11410f8e7d8c65793a8027": {
      "model_module": "ipytree",
      "model_module_version": "0.1.8",
      "model_name": "NodeModel",
      "state": {
       "_id": "ba9dece7-fab2-4e18-89c1-caad1383f239",
       "_model_module_version": "0.1.8",
       "_view_module_version": "0.1.8",
       "icon": "file",
       "name": "normalized_difference.py"
      }
     },
     "906f3d1129ba4ce8834c0d50be5883c2": {
      "model_module": "@jupyter-widgets/controls",
      "model_module_version": "1.5.0",
      "model_name": "DescriptionStyleModel",
      "state": {
       "description_width": ""
      }
     },
     "90bc4a28c30d48c899d22b4c8c1d97a8": {
      "model_module": "@jupyter-widgets/controls",
      "model_module_version": "1.5.0",
      "model_name": "ToggleButtonsStyleModel",
      "state": {
       "button_width": "110px",
       "description_width": ""
      }
     },
     "91302aa2ae854e7eb5e381d64f16f00e": {
      "model_module": "ipytree",
      "model_module_version": "0.1.8",
      "model_name": "NodeModel",
      "state": {
       "_id": "9b38951a-e072-41f7-b6ac-7c8cfb04b19f",
       "_model_module_version": "0.1.8",
       "_view_module_version": "0.1.8",
       "icon": "file",
       "name": "landsat_filtering.py"
      }
     },
     "914a4da535444ac4b6be686aaeeb20ca": {
      "model_module": "ipytree",
      "model_module_version": "0.1.8",
      "model_name": "NodeModel",
      "state": {
       "_id": "9432c2ec-99af-4ef8-ae3c-a686e3b6f42a",
       "_model_module_version": "0.1.8",
       "_view_module_version": "0.1.8",
       "icon": "file",
       "name": "04_band_math.py"
      }
     },
     "9150ca76d2e84f9c8734a4f525f9a703": {
      "model_module": "ipytree",
      "model_module_version": "0.1.8",
      "model_name": "NodeModel",
      "state": {
       "_id": "e5e71115-1e56-4bbf-ad74-d57c599fa736",
       "_model_module_version": "0.1.8",
       "_view_module_version": "0.1.8",
       "icon": "file",
       "name": "merge_feature_collections.py"
      }
     },
     "91ba8fd63e7d4f3e8e79b538999ffb28": {
      "model_module": "@jupyter-widgets/output",
      "model_module_version": "1.0.0",
      "model_name": "OutputModel",
      "state": {
       "layout": "IPY_MODEL_ec6e27a4266d468d8eda5844d67b4cb2",
       "outputs": [
        {
         "data": {
          "application/vnd.jupyter.widget-view+json": {
           "model_id": "583a5275b586449482a38570d9c453a8",
           "version_major": 2,
           "version_minor": 0
          },
          "text/plain": "Tree(multiple_selection=False, nodes=(Node(name='Archive', opened=False), Node(name='Examples', nodes=(Node(na…"
         },
         "metadata": {},
         "output_type": "display_data"
        }
       ]
      }
     },
     "91dadf64aa0543d7a7af16c3bdb94698": {
      "model_module": "@jupyter-widgets/base",
      "model_module_version": "1.2.0",
      "model_name": "LayoutModel",
      "state": {
       "height": "25px",
       "padding": "0px",
       "width": "25px"
      }
     },
     "92264357be8945e497423c25f7afbd90": {
      "model_module": "ipytree",
      "model_module_version": "0.1.8",
      "model_name": "NodeModel",
      "state": {
       "_id": "0dee46cc-06b4-4fad-ac03-d14426e8a3ff",
       "_model_module_version": "0.1.8",
       "_view_module_version": "0.1.8",
       "icon": "file",
       "name": "image_overview.py"
      }
     },
     "927cd34297ae4437b95e034690c248cc": {
      "model_module": "ipytree",
      "model_module_version": "0.1.8",
      "model_name": "NodeModel",
      "state": {
       "_id": "85bcba86-d06f-479b-8322-72999fb5e85a",
       "_model_module_version": "0.1.8",
       "_view_module_version": "0.1.8",
       "icon": "file",
       "name": "export_TimeSeries2.py"
      }
     },
     "92902fb7ccb641b9ba6fe2d9bf902785": {
      "model_module": "@jupyter-widgets/controls",
      "model_module_version": "1.5.0",
      "model_name": "ToggleButtonModel",
      "state": {
       "icon": "gear",
       "layout": "IPY_MODEL_1185ca8be94940d4be19bd11557cebb9",
       "style": "IPY_MODEL_d6ada7884b6a48afbe0afefc9e8c8062",
       "tooltip": "Google Maps"
      }
     },
     "930a1249d2914ce996ce936cce7610d6": {
      "model_module": "@jupyter-widgets/base",
      "model_module_version": "1.2.0",
      "model_name": "LayoutModel",
      "state": {
       "height": "18px",
       "width": "25ex"
      }
     },
     "9345ff3762424a069172ad6e96f11c24": {
      "model_module": "@jupyter-widgets/base",
      "model_module_version": "1.2.0",
      "model_name": "LayoutModel",
      "state": {
       "height": "18px",
       "width": "25ex"
      }
     },
     "9358444953254e38b09b5bb56bff5364": {
      "model_module": "ipytree",
      "model_module_version": "0.1.8",
      "model_name": "NodeModel",
      "state": {
       "_id": "77534172-af94-4a5b-bd9a-6ffbca9dc2a0",
       "_model_module_version": "0.1.8",
       "_view_module_version": "0.1.8",
       "name": "Algorithms",
       "nodes": [
        "IPY_MODEL_3286f442592741c68bc09141b55d4cce",
        "IPY_MODEL_eb96902bf8fe4cb781ae0efe93d08398",
        "IPY_MODEL_4b5b07c5e3cb47f7946d8238c9d197dd",
        "IPY_MODEL_dcde89619a2c46419347e7ae2e478c04",
        "IPY_MODEL_e3607a521f1b481ca6c6ae87234089a8",
        "IPY_MODEL_d1993f993c684c77a6067ad87b7cb71c",
        "IPY_MODEL_0768f31adb7844b2841e75ba42689686",
        "IPY_MODEL_cbe2218a1f5d4450bd9c7be8a8d63d54",
        "IPY_MODEL_a297d608aec4440086d60a38ebb165ec",
        "IPY_MODEL_6711f93dadaa413faf7762f767dbbe64",
        "IPY_MODEL_3ab2066921b6448ca5ab64e8bafeb8b1",
        "IPY_MODEL_39b7d7a810f44fc98147ff08f7edb3f1",
        "IPY_MODEL_e290f0a63791421a9fa0babdafe7f158"
       ],
       "opened": false
      }
     },
     "93840011f34d42808c22a53982d8fd2a": {
      "model_module": "@jupyter-widgets/base",
      "model_module_version": "1.2.0",
      "model_name": "LayoutModel",
      "state": {
       "height": "18px",
       "padding": "0px 8px 25px 8px",
       "width": "30ex"
      }
     },
     "93c40e829e054149a4cfd5653bedbc5b": {
      "model_module": "@jupyter-widgets/base",
      "model_module_version": "1.2.0",
      "model_name": "LayoutModel",
      "state": {
       "width": "80px"
      }
     },
     "93cb1058286c47c1b15e1a772b395654": {
      "model_module": "ipytree",
      "model_module_version": "0.1.8",
      "model_name": "NodeModel",
      "state": {
       "_id": "9167b951-ce40-4c60-afd1-ae3cdbb87572",
       "_model_module_version": "0.1.8",
       "_view_module_version": "0.1.8",
       "icon": "file",
       "name": "filtering_by_metadata.py"
      }
     },
     "93d3fc2ff47e4351a610e34300a268f6": {
      "model_module": "jupyter-leaflet",
      "model_module_version": "^0.13.2",
      "model_name": "LeafletTileLayerModel",
      "state": {
       "_model_module_version": "^0.13.2",
       "_view_module_version": "^0.13.2",
       "attribution": "Esri",
       "max_native_zoom": 18,
       "min_native_zoom": 0,
       "name": "Esri Terrain",
       "options": [
        "attribution",
        "detect_retina",
        "max_native_zoom",
        "max_zoom",
        "min_native_zoom",
        "min_zoom",
        "no_wrap",
        "tile_size",
        "tms"
       ],
       "url": "https://server.arcgisonline.com/ArcGIS/rest/services/World_Terrain_Base/MapServer/tile/{z}/{y}/{x}"
      }
     },
     "9422feb4689642c685a1a4b00f51a3bf": {
      "model_module": "@jupyter-widgets/controls",
      "model_module_version": "1.5.0",
      "model_name": "HBoxModel",
      "state": {
       "children": [
        "IPY_MODEL_3b541e16859e4c1d9024163d7b57b291",
        "IPY_MODEL_52e47cf760f043d8b73e9e1b3896d6fe",
        "IPY_MODEL_89252a0e78184e6f970d84c5b70a72f1"
       ],
       "layout": "IPY_MODEL_7703d32c4cbe4be298f2b6f6d29ad916"
      }
     },
     "942aac21f7a743339d039a6edba029aa": {
      "model_module": "@jupyter-widgets/controls",
      "model_module_version": "1.5.0",
      "model_name": "DescriptionStyleModel",
      "state": {
       "description_width": ""
      }
     },
     "9485ea695d834538ab413914e4841729": {
      "model_module": "ipytree",
      "model_module_version": "0.1.8",
      "model_name": "NodeModel",
      "state": {
       "_id": "db695ced-f94f-4f2c-8c01-a3a60d2ac534",
       "_model_module_version": "0.1.8",
       "_view_module_version": "0.1.8",
       "icon": "file",
       "name": "canny_edge_detector.py"
      }
     },
     "9489fab45ddf41d695c237172b538f5e": {
      "model_module": "@jupyter-widgets/controls",
      "model_module_version": "1.5.0",
      "model_name": "HBoxModel",
      "state": {
       "children": [
        "IPY_MODEL_1550c065e8d647cc926707a4e8e7ddd9"
       ],
       "layout": "IPY_MODEL_79e7deb81ede43a5944618b464411488"
      }
     },
     "94a4a01082bf4f6f8e5d555198d3b5c5": {
      "model_module": "jupyter-leaflet",
      "model_module_version": "^0.13.2",
      "model_name": "LeafletTileLayerModel",
      "state": {
       "_model_module_version": "^0.13.2",
       "_view_module_version": "^0.13.2",
       "attribution": "Tiles &copy; Esri &mdash; Copyright: &copy;2012 DeLorme",
       "max_native_zoom": 18,
       "max_zoom": 11,
       "min_native_zoom": 0,
       "min_zoom": 1,
       "name": "Esri.DeLorme",
       "options": [
        "attribution",
        "detect_retina",
        "max_native_zoom",
        "max_zoom",
        "min_native_zoom",
        "min_zoom",
        "no_wrap",
        "tile_size",
        "tms"
       ],
       "url": "http://server.arcgisonline.com/ArcGIS/rest/services/Specialty/DeLorme_World_Base_Map/MapServer/tile/{z}/{y}/{x}"
      }
     },
     "95267532650f486a952a06a6b1e294b9": {
      "model_module": "@jupyter-widgets/base",
      "model_module_version": "1.2.0",
      "model_name": "LayoutModel",
      "state": {
       "height": "25px",
       "padding": "0px",
       "width": "25px"
      }
     },
     "958685ca6a904bc0ac4d97c76fd55d5b": {
      "model_module": "@jupyter-widgets/base",
      "model_module_version": "1.2.0",
      "model_name": "LayoutModel",
      "state": {}
     },
     "95956eaf71a74ea6ad7140e0fa4cc580": {
      "model_module": "@jupyter-widgets/controls",
      "model_module_version": "1.5.0",
      "model_name": "DescriptionStyleModel",
      "state": {
       "description_width": ""
      }
     },
     "95b4f2e686b642d08560783132a801b0": {
      "model_module": "@jupyter-widgets/controls",
      "model_module_version": "1.5.0",
      "model_name": "DescriptionStyleModel",
      "state": {
       "description_width": ""
      }
     },
     "95d0d285b61f477080d2f3289683128f": {
      "model_module": "@jupyter-widgets/controls",
      "model_module_version": "1.5.0",
      "model_name": "CheckboxModel",
      "state": {
       "description": "Google Maps",
       "disabled": false,
       "indent": false,
       "layout": "IPY_MODEL_4551b2e173544d8eaf75fce41148ea04",
       "style": "IPY_MODEL_243fc2a4352b4721a4c07f3484f0bb28",
       "value": true
      }
     },
     "96088044debf480faaee352a2c6db87d": {
      "model_module": "@jupyter-widgets/base",
      "model_module_version": "1.2.0",
      "model_name": "LayoutModel",
      "state": {
       "height": "28px",
       "width": "38px"
      }
     },
     "9657da6ed4144fc69ab5ad6232493b78": {
      "model_module": "@jupyter-widgets/controls",
      "model_module_version": "1.5.0",
      "model_name": "DescriptionStyleModel",
      "state": {
       "description_width": ""
      }
     },
     "969d9b6a99084318934e2091e811a79f": {
      "model_module": "ipytree",
      "model_module_version": "0.1.8",
      "model_name": "NodeModel",
      "state": {
       "_id": "32de40b3-a65a-4aa3-a1cd-2cc953169564",
       "_model_module_version": "0.1.8",
       "_view_module_version": "0.1.8",
       "icon": "file",
       "name": "hydrosheds_dem.py"
      }
     },
     "96f16bcd5f0f4cacb3905dc8ef083cc8": {
      "model_module": "jupyter-leaflet",
      "model_module_version": "^0.13.2",
      "model_name": "LeafletTileLayerModel",
      "state": {
       "_model_module_version": "^0.13.2",
       "_view_module_version": "^0.13.2",
       "attribution": "Esri",
       "max_native_zoom": 18,
       "min_native_zoom": 0,
       "name": "Esri Satellite",
       "options": [
        "attribution",
        "detect_retina",
        "max_native_zoom",
        "max_zoom",
        "min_native_zoom",
        "min_zoom",
        "no_wrap",
        "tile_size",
        "tms"
       ],
       "url": "https://server.arcgisonline.com/ArcGIS/rest/services/World_Imagery/MapServer/tile/{z}/{y}/{x}"
      }
     },
     "973eddb10d5d460d804e04ea33489926": {
      "model_module": "@jupyter-widgets/base",
      "model_module_version": "1.2.0",
      "model_name": "LayoutModel",
      "state": {
       "padding": "0px 8px 0px 8px"
      }
     },
     "982f6b0431a2458baeeedee447436d53": {
      "model_module": "ipytree",
      "model_module_version": "0.1.8",
      "model_name": "NodeModel",
      "state": {
       "_id": "77ab70c8-eb00-415b-894e-6bca3768dcbe",
       "_model_module_version": "0.1.8",
       "_view_module_version": "0.1.8",
       "icon": "file",
       "name": "image_smoothing.py"
      }
     },
     "986aca44061941ad869ba9b19c792d31": {
      "model_module": "ipytree",
      "model_module_version": "0.1.8",
      "model_name": "NodeModel",
      "state": {
       "_id": "e4bb1aa5-c6b3-40c1-855a-0ce618cea989",
       "_model_module_version": "0.1.8",
       "_view_module_version": "0.1.8",
       "icon": "file",
       "name": "convert_vector_to_raster.py"
      }
     },
     "98bf5794aa354e32bf1cc7636885c4bb": {
      "model_module": "ipytree",
      "model_module_version": "0.1.8",
      "model_name": "NodeModel",
      "state": {
       "_id": "91f534c6-99b2-41f7-b914-8fd8be5bc514",
       "_model_module_version": "0.1.8",
       "_view_module_version": "0.1.8",
       "icon": "file",
       "name": "map_center_object_no_zoom.py"
      }
     },
     "98ee68c909394c0f832d59a8141dd96b": {
      "model_module": "ipytree",
      "model_module_version": "0.1.8",
      "model_name": "NodeModel",
      "state": {
       "_id": "739377cf-d191-41d8-a121-69eb866860cc",
       "_model_module_version": "0.1.8",
       "_view_module_version": "0.1.8",
       "icon": "file",
       "name": "creating_feature.py"
      }
     },
     "997de7d987834a3bb9d195e0b4d906f4": {
      "model_module": "jupyter-leaflet",
      "model_module_version": "^0.13.2",
      "model_name": "LeafletTileLayerModel",
      "state": {
       "_model_module_version": "^0.13.2",
       "_view_module_version": "^0.13.2",
       "attribution": "&copy; <a href=\"http://www.openstreetmap.org/copyright\">OpenStreetMap</a> &amp; USGS",
       "max_native_zoom": 18,
       "max_zoom": 20,
       "min_native_zoom": 0,
       "min_zoom": 1,
       "name": "MtbMap",
       "options": [
        "attribution",
        "detect_retina",
        "max_native_zoom",
        "max_zoom",
        "min_native_zoom",
        "min_zoom",
        "no_wrap",
        "tile_size",
        "tms"
       ],
       "url": "http://tile.mtbmap.cz/mtbmap_tiles/{z}/{x}/{y}.png"
      }
     },
     "9983405bc5634c84911f1fee8eec07a2": {
      "model_module": "jupyter-leaflet",
      "model_module_version": "^0.13.2",
      "model_name": "LeafletWidgetControlModel",
      "state": {
       "_model_module": "jupyter-leaflet",
       "_model_module_version": "^0.13.2",
       "_view_count": null,
       "_view_module": "jupyter-leaflet",
       "_view_module_version": "^0.13.2",
       "options": [
        "position"
       ],
       "position": "topright",
       "widget": "IPY_MODEL_ed2c44bf9ec64100ab783a49da9cc33c"
      }
     },
     "99847aa14be54f909df68172a43a6e38": {
      "model_module": "@jupyter-widgets/controls",
      "model_module_version": "1.5.0",
      "model_name": "ToggleButtonsStyleModel",
      "state": {
       "button_width": "100px",
       "description_width": ""
      }
     },
     "9a8d41536ae342b5bd8fa60cd4b008d1": {
      "model_module": "ipytree",
      "model_module_version": "0.1.8",
      "model_name": "NodeModel",
      "state": {
       "_id": "a4325fd6-bdff-4563-9dc8-9d389a6a160a",
       "_model_module_version": "0.1.8",
       "_view_module_version": "0.1.8",
       "icon": "file",
       "name": "jrc_monthly_recurrence.py"
      }
     },
     "9b060432bb794f5fb5ef49d6df68a2e1": {
      "model_module": "@jupyter-widgets/controls",
      "model_module_version": "1.5.0",
      "model_name": "TextModel",
      "state": {
       "layout": "IPY_MODEL_38534143a1c840b2baf5bbcfc1fe608d",
       "placeholder": "Enter the link to a Git repository here...",
       "style": "IPY_MODEL_0b33aad3ba4e4639bc84cdbf5201c577"
      }
     },
     "9b1b7d1629624963acc1ee505c3d33f5": {
      "model_module": "ipytree",
      "model_module_version": "0.1.8",
      "model_name": "NodeModel",
      "state": {
       "_id": "8201a516-1b9b-4831-a792-37c0003a3d04",
       "_model_module_version": "0.1.8",
       "_view_module_version": "0.1.8",
       "icon": "file",
       "name": "column_info.py"
      }
     },
     "9b45f6862e114caa877da0f0cf7cd7e1": {
      "model_module": "ipytree",
      "model_module_version": "0.1.8",
      "model_name": "NodeModel",
      "state": {
       "_id": "a1f8d70e-2eca-40d8-8648-042e80b6514c",
       "_model_module_version": "0.1.8",
       "_view_module_version": "0.1.8",
       "icon": "file",
       "name": "us_physiography.py"
      }
     },
     "9b8eac7880954df1a9cb6e9cd24cfb9a": {
      "model_module": "jupyter-leaflet",
      "model_module_version": "^0.13.2",
      "model_name": "LeafletWMSLayerModel",
      "state": {
       "_model_module_version": "^0.13.2",
       "_view_module_version": "^0.13.2",
       "attribution": "MRLC",
       "crs": {
        "custom": false,
        "name": "EPSG3857"
       },
       "format": "image/png",
       "layers": "NLCD_2006_Land_Cover_L48",
       "max_native_zoom": 18,
       "min_native_zoom": 0,
       "name": "NLCD 2006 CONUS Land Cover",
       "options": [
        "attribution",
        "detect_retina",
        "format",
        "layers",
        "max_native_zoom",
        "max_zoom",
        "min_native_zoom",
        "min_zoom",
        "no_wrap",
        "styles",
        "tile_size",
        "tms",
        "transparent",
        "uppercase"
       ],
       "transparent": true,
       "url": "https://www.mrlc.gov/geoserver/mrlc_display/NLCD_2006_Land_Cover_L48/wms?"
      }
     },
     "9baa1ff2eeb74c47bd5b176bcaac33fe": {
      "model_module": "ipytree",
      "model_module_version": "0.1.8",
      "model_name": "NodeModel",
      "state": {
       "_id": "700fa6b0-baed-4126-ba7d-a2da94a0951f",
       "_model_module_version": "0.1.8",
       "_view_module_version": "0.1.8",
       "icon": "file",
       "name": "select_by_location.py"
      }
     },
     "9baf40a095454b23931a8cd9d73a4e31": {
      "model_module": "@jupyter-widgets/controls",
      "model_module_version": "1.5.0",
      "model_name": "DescriptionStyleModel",
      "state": {
       "description_width": ""
      }
     },
     "9bbe93ee5a4d4e8aae4c31af37dc524f": {
      "model_module": "@jupyter-widgets/base",
      "model_module_version": "1.2.0",
      "model_name": "LayoutModel",
      "state": {
       "width": "80px"
      }
     },
     "9bfde9d53a5a4e65a34e30703e02bfdc": {
      "model_module": "@jupyter-widgets/base",
      "model_module_version": "1.2.0",
      "model_name": "LayoutModel",
      "state": {
       "height": "18px",
       "width": "25ex"
      }
     },
     "9c1fc6d40629429192d90d6678bbf451": {
      "model_module": "jupyter-leaflet",
      "model_module_version": "^0.13.2",
      "model_name": "LeafletTileLayerModel",
      "state": {
       "_model_module_version": "^0.13.2",
       "_view_module_version": "^0.13.2",
       "attribution": "\nImagery provided by services from the Global Imagery Browse Services (GIBS), operated by the NASA/GSFC/Earth Science Data and Information System (<a href=\"https://earthdata.nasa.gov\">ESDIS</a>) with funding provided by NASA/HQ.\n",
       "max_native_zoom": 18,
       "max_zoom": 9,
       "min_native_zoom": 0,
       "min_zoom": 1,
       "name": "NASAGIBS.ModisAquaTrueColorCR",
       "options": [
        "attribution",
        "detect_retina",
        "max_native_zoom",
        "max_zoom",
        "min_native_zoom",
        "min_zoom",
        "no_wrap",
        "tile_size",
        "tms"
       ],
       "url": "https://gibs.earthdata.nasa.gov/wmts/epsg3857/best/MODIS_Aqua_CorrectedReflectance_TrueColor/default/2021-04-27/GoogleMapsCompatible_Level9/{z}/{y}/{x}.jpg"
      }
     },
     "9c69de3c3e0c4fea8a7e335f9b3f0a05": {
      "model_module": "ipytree",
      "model_module_version": "0.1.8",
      "model_name": "NodeModel",
      "state": {
       "_id": "2eeeb503-b286-4f77-ad75-773390be932f",
       "_model_module_version": "0.1.8",
       "_view_module_version": "0.1.8",
       "icon": "file",
       "name": "reverse_mask.py"
      }
     },
     "9c91eda634684f8fa10264c2055f2026": {
      "model_module": "@jupyter-widgets/controls",
      "model_module_version": "1.5.0",
      "model_name": "DescriptionStyleModel",
      "state": {
       "description_width": ""
      }
     },
     "9d72cdfc0417468a860d750b03c49783": {
      "model_module": "@jupyter-widgets/base",
      "model_module_version": "1.2.0",
      "model_name": "LayoutModel",
      "state": {
       "height": "28px",
       "padding": "0px 0px 0px 4px",
       "width": "28px"
      }
     },
     "9de7c190fd074fdeb39ac11fd32d83f3": {
      "model_module": "@jupyter-widgets/controls",
      "model_module_version": "1.5.0",
      "model_name": "ToggleButtonsModel",
      "state": {
       "_options_labels": [
        "name/address",
        "lat-lon",
        "data"
       ],
       "button_style": "",
       "icons": [],
       "index": 0,
       "layout": "IPY_MODEL_c26449b9119a4eb68298795c5ae7bbdf",
       "style": "IPY_MODEL_90bc4a28c30d48c899d22b4c8c1d97a8",
       "tooltips": [
        "Search by place name or address",
        "Search by lat-lon coordinates",
        "Search Earth Engine data catalog"
       ]
      }
     },
     "9e79ee8448c9406bacb304353d0d0d5a": {
      "model_module": "@jupyter-widgets/controls",
      "model_module_version": "1.5.0",
      "model_name": "CheckboxModel",
      "state": {
       "description": "Google Satellite",
       "disabled": false,
       "indent": false,
       "layout": "IPY_MODEL_b736d47a1d434775b835027e7aa6c723",
       "style": "IPY_MODEL_6cb6ce5609de41d6a9d7db03d7d40c48",
       "value": true
      }
     },
     "9f1eedcd325e4a08a7b683fd9150093e": {
      "model_module": "jupyter-leaflet",
      "model_module_version": "^0.13.2",
      "model_name": "LeafletTileLayerModel",
      "state": {
       "_model_module_version": "^0.13.2",
       "_view_module_version": "^0.13.2",
       "base": true,
       "max_native_zoom": 18,
       "max_zoom": 19,
       "min_native_zoom": 0,
       "min_zoom": 1,
       "options": [
        "attribution",
        "detect_retina",
        "max_native_zoom",
        "max_zoom",
        "min_native_zoom",
        "min_zoom",
        "no_wrap",
        "tile_size",
        "tms"
       ]
      }
     },
     "9f5d114bfda4449db2632919c50fc822": {
      "model_module": "@jupyter-widgets/controls",
      "model_module_version": "1.5.0",
      "model_name": "HTMLModel",
      "state": {
       "layout": "IPY_MODEL_b840f992f70a4901bdf260d800fae3b2",
       "style": "IPY_MODEL_4857cf77dc9d42d19baddd96ab7aa32b"
      }
     },
     "9fb216713a694b1597a37593e91c4a6d": {
      "model_module": "ipytree",
      "model_module_version": "0.1.8",
      "model_name": "NodeModel",
      "state": {
       "_id": "7a61471d-7af5-466f-99a3-3be62a92d29d",
       "_model_module_version": "0.1.8",
       "_view_module_version": "0.1.8",
       "icon": "file",
       "name": "buffer.py"
      }
     },
     "9fec0cd464ee40ad8c77f272ebd3aaf3": {
      "model_module": "ipytree",
      "model_module_version": "0.1.8",
      "model_name": "NodeModel",
      "state": {
       "_id": "e5044269-2997-4309-93b8-5b4264d7460d",
       "_model_module_version": "0.1.8",
       "_view_module_version": "0.1.8",
       "icon": "file",
       "name": "extract_value_to_points.py"
      }
     },
     "9ff2219f11b84433819bfcc11e431ffb": {
      "model_module": "@jupyter-widgets/controls",
      "model_module_version": "1.5.0",
      "model_name": "HBoxModel",
      "state": {
       "children": [
        "IPY_MODEL_2fef220ec786430aa6a07e9864ede8d2"
       ],
       "layout": "IPY_MODEL_1b5e4791590f4408a0ceecc4c4e62548"
      }
     },
     "a02e31b243bc42a5bafcede7522fa1be": {
      "model_module": "@jupyter-widgets/controls",
      "model_module_version": "1.5.0",
      "model_name": "DescriptionStyleModel",
      "state": {
       "description_width": ""
      }
     },
     "a040832b83e94f8dba97385ee495a723": {
      "model_module": "jupyter-leaflet",
      "model_module_version": "^0.13.2",
      "model_name": "LeafletWMSLayerModel",
      "state": {
       "_model_module_version": "^0.13.2",
       "_view_module_version": "^0.13.2",
       "attribution": "FWS",
       "crs": {
        "custom": false,
        "name": "EPSG3857"
       },
       "format": "image/png",
       "layers": "0",
       "max_native_zoom": 18,
       "min_native_zoom": 0,
       "name": "FWS NWI Wetlands Raster",
       "options": [
        "attribution",
        "detect_retina",
        "format",
        "layers",
        "max_native_zoom",
        "max_zoom",
        "min_native_zoom",
        "min_zoom",
        "no_wrap",
        "styles",
        "tile_size",
        "tms",
        "transparent",
        "uppercase"
       ],
       "transparent": true,
       "url": "https://www.fws.gov/wetlands/arcgis/services/Wetlands_Raster/ImageServer/WMSServer?"
      }
     },
     "a0704d97ba084cf6a56930c38a1a56c7": {
      "model_module": "@jupyter-widgets/controls",
      "model_module_version": "1.5.0",
      "model_name": "DescriptionStyleModel",
      "state": {
       "description_width": ""
      }
     },
     "a1176f2eefa2400b9c19aa7e2d423ea8": {
      "model_module": "ipytree",
      "model_module_version": "0.1.8",
      "model_name": "NodeModel",
      "state": {
       "_id": "50905108-a6a5-47f4-bd66-729dd347754f",
       "_model_module_version": "0.1.8",
       "_view_module_version": "0.1.8",
       "name": "Archive",
       "opened": false
      }
     },
     "a17f1e0038a24589922031fcf98009b7": {
      "model_module": "ipytree",
      "model_module_version": "0.1.8",
      "model_name": "NodeModel",
      "state": {
       "_id": "cabe1b0a-5dde-4483-9f10-91ba5a25dc99",
       "_model_module_version": "0.1.8",
       "_view_module_version": "0.1.8",
       "icon": "file",
       "name": "srtm_landforms.py"
      }
     },
     "a20a6b7169184e74b3251d07057a6532": {
      "model_module": "ipytree",
      "model_module_version": "0.1.8",
      "model_name": "NodeModel",
      "state": {
       "_id": "68563311-b7bf-46d1-9d87-fca8d1c62b93",
       "_model_module_version": "0.1.8",
       "_view_module_version": "0.1.8",
       "icon": "file",
       "name": "where.py"
      }
     },
     "a2231d68760d493da1ac084fdb21d51f": {
      "model_module": "jupyter-leaflet",
      "model_module_version": "^0.13.2",
      "model_name": "LeafletAttributionControlModel",
      "state": {
       "_model_module_version": "^0.13.2",
       "_view_module_version": "^0.13.2",
       "options": [
        "position",
        "prefix"
       ],
       "position": "bottomright",
       "prefix": "ipyleaflet"
      }
     },
     "a289645ac1f54105b3b70cda96c89e43": {
      "model_module": "@jupyter-widgets/base",
      "model_module_version": "1.2.0",
      "model_name": "LayoutModel",
      "state": {}
     },
     "a297d608aec4440086d60a38ebb165ec": {
      "model_module": "ipytree",
      "model_module_version": "0.1.8",
      "model_name": "NodeModel",
      "state": {
       "_id": "ed127784-9093-419b-94c1-b8201bafde38",
       "_model_module_version": "0.1.8",
       "_view_module_version": "0.1.8",
       "icon": "file",
       "name": "resampling.py"
      }
     },
     "a32024553036467b96f7920a368a4a8d": {
      "model_module": "@jupyter-widgets/base",
      "model_module_version": "1.2.0",
      "model_name": "LayoutModel",
      "state": {
       "height": "auto",
       "padding": "0px 0px 0px 4px",
       "width": "auto"
      }
     },
     "a364a68395494ecbaceb1f51363a35bc": {
      "model_module": "ipytree",
      "model_module_version": "0.1.8",
      "model_name": "NodeModel",
      "state": {
       "_id": "60e95ffe-a49c-4d5c-87f6-8af96f7b9d66",
       "_model_module_version": "0.1.8",
       "_view_module_version": "0.1.8",
       "icon": "file",
       "name": "random_samples.py"
      }
     },
     "a3e42eff7a4741c98c8f537a8e2e7bf0": {
      "model_module": "@jupyter-widgets/controls",
      "model_module_version": "1.5.0",
      "model_name": "DirectionalLinkModel",
      "state": {
       "source": [
        "IPY_MODEL_5eb5ea82908e423ab5e56d9bb58d9c4f",
        "value"
       ],
       "target": [
        "IPY_MODEL_3ddcaa6df6934a9286f82c79e67680b1",
        "opacity"
       ]
      }
     },
     "a3e83e924bdc47688b7089b5bd16df42": {
      "model_module": "jupyter-leaflet",
      "model_module_version": "^0.13.2",
      "model_name": "LeafletTileLayerModel",
      "state": {
       "_model_module_version": "^0.13.2",
       "_view_module_version": "^0.13.2",
       "attribution": "Google",
       "max_native_zoom": 18,
       "min_native_zoom": 0,
       "name": "Google Satellite",
       "options": [
        "attribution",
        "detect_retina",
        "max_native_zoom",
        "max_zoom",
        "min_native_zoom",
        "min_zoom",
        "no_wrap",
        "tile_size",
        "tms"
       ],
       "url": "https://mt1.google.com/vt/lyrs=y&x={x}&y={y}&z={z}"
      }
     },
     "a3ef3fc070e143bb9d61adbc4da0c9ff": {
      "model_module": "@jupyter-widgets/base",
      "model_module_version": "1.2.0",
      "model_name": "LayoutModel",
      "state": {
       "min_width": "500px"
      }
     },
     "a3f0e813c45f44e7ba50cf04a8062559": {
      "model_module": "ipytree",
      "model_module_version": "0.1.8",
      "model_name": "NodeModel",
      "state": {
       "_id": "edc5e40f-825d-4005-b412-2648868d95f9",
       "_model_module_version": "0.1.8",
       "_view_module_version": "0.1.8",
       "icon": "file",
       "name": "convert_bands_to_image_collection.py"
      }
     },
     "a41df302e346434ab67896d380c7b472": {
      "model_module": "@jupyter-widgets/controls",
      "model_module_version": "1.5.0",
      "model_name": "DescriptionStyleModel",
      "state": {
       "description_width": ""
      }
     },
     "a4cf725673d1420596044633eead57f2": {
      "model_module": "@jupyter-widgets/controls",
      "model_module_version": "1.5.0",
      "model_name": "SliderStyleModel",
      "state": {
       "description_width": ""
      }
     },
     "a4f4d40e0e8a4aa79b5aab7737a6b3e2": {
      "model_module": "@jupyter-widgets/base",
      "model_module_version": "1.2.0",
      "model_name": "LayoutModel",
      "state": {
       "height": "25px",
       "padding": "0px",
       "width": "25px"
      }
     },
     "a574ccc217214f2bbe2d07f19936d3a8": {
      "model_module": "ipytree",
      "model_module_version": "0.1.8",
      "model_name": "NodeModel",
      "state": {
       "_id": "400701a8-f113-4f94-9161-837612d0b9e9",
       "_model_module_version": "0.1.8",
       "_view_module_version": "0.1.8",
       "icon": "file",
       "name": "us_census_states.py"
      }
     },
     "a579162b6552483e9a42e0fa3b5c4e3b": {
      "model_module": "ipytree",
      "model_module_version": "0.1.8",
      "model_name": "NodeModel",
      "state": {
       "_id": "215de3d8-3da1-4500-af2f-1f0371018856",
       "_model_module_version": "0.1.8",
       "_view_module_version": "0.1.8",
       "icon": "file",
       "name": "filtering_feature_collection.py"
      }
     },
     "a57f394adacc4a9494d9592954d28a5d": {
      "model_module": "ipytree",
      "model_module_version": "0.1.8",
      "model_name": "NodeModel",
      "state": {
       "_id": "93d1cbe6-72ac-43b3-9f7a-9145f41f7762",
       "_model_module_version": "0.1.8",
       "_view_module_version": "0.1.8",
       "icon": "file",
       "name": "linear_fit.py"
      }
     },
     "a5ac633e5822460da84b66218fa9fade": {
      "model_module": "ipytree",
      "model_module_version": "0.1.8",
      "model_name": "NodeModel",
      "state": {
       "_id": "1b078929-dc0d-4f1e-8c3e-f6ec058ba0b2",
       "_model_module_version": "0.1.8",
       "_view_module_version": "0.1.8",
       "icon": "file",
       "name": "hough_transform.py"
      }
     },
     "a5bca1e9d59449338646ecccb65dc435": {
      "model_module": "@jupyter-widgets/base",
      "model_module_version": "1.2.0",
      "model_name": "LayoutModel",
      "state": {
       "max_width": "57px",
       "min_width": "57px"
      }
     },
     "a5cd4629597f4c6693767b762d47233c": {
      "model_module": "ipytree",
      "model_module_version": "0.1.8",
      "model_name": "NodeModel",
      "state": {
       "_id": "0557bff4-2fca-48de-a711-7a3adef98f76",
       "_model_module_version": "0.1.8",
       "_view_module_version": "0.1.8",
       "icon": "file",
       "name": "hdr_landsat.py"
      }
     },
     "a652203c4e0944bb80872fce49da0d51": {
      "model_module": "jupyter-leaflet",
      "model_module_version": "^0.13.2",
      "model_name": "LeafletMarkerModel",
      "state": {
       "_model_module_version": "^0.13.2",
       "_view_module_version": "^0.13.2",
       "icon": "IPY_MODEL_4da5c71aa2794ed887a7d755602164a5",
       "options": [
        "alt",
        "draggable",
        "keyboard",
        "rise_offset",
        "rise_on_hover",
        "rotation_angle",
        "rotation_origin",
        "title",
        "z_index_offset"
       ]
      }
     },
     "a65f034806dd457d87f7e4ca37699333": {
      "model_module": "ipytree",
      "model_module_version": "0.1.8",
      "model_name": "NodeModel",
      "state": {
       "_id": "6bf5b03c-6c18-4bbb-8717-2dcf3a58e208",
       "_model_module_version": "0.1.8",
       "_view_module_version": "0.1.8",
       "icon": "file",
       "name": "srtm_mtpi.py"
      }
     },
     "a71777b739e7473ca00ce237a81cc507": {
      "model_module": "jupyter-leaflet",
      "model_module_version": "^0.13.2",
      "model_name": "LeafletWMSLayerModel",
      "state": {
       "_model_module_version": "^0.13.2",
       "_view_module_version": "^0.13.2",
       "attribution": "MRLC",
       "crs": {
        "custom": false,
        "name": "EPSG3857"
       },
       "format": "image/png",
       "layers": "NLCD_2004_Land_Cover_L48",
       "max_native_zoom": 18,
       "min_native_zoom": 0,
       "name": "NLCD 2004 CONUS Land Cover",
       "options": [
        "attribution",
        "detect_retina",
        "format",
        "layers",
        "max_native_zoom",
        "max_zoom",
        "min_native_zoom",
        "min_zoom",
        "no_wrap",
        "styles",
        "tile_size",
        "tms",
        "transparent",
        "uppercase"
       ],
       "transparent": true,
       "url": "https://www.mrlc.gov/geoserver/mrlc_display/NLCD_2004_Land_Cover_L48/wms?"
      }
     },
     "a73d3c0f118d4319b6db76be58259f3c": {
      "model_module": "@jupyter-widgets/base",
      "model_module_version": "1.2.0",
      "model_name": "LayoutModel",
      "state": {
       "grid_area": "filename",
       "width": "auto"
      }
     },
     "a76c9abe578e46aea75fd58edf761020": {
      "model_module": "jupyter-leaflet",
      "model_module_version": "^0.13.2",
      "model_name": "LeafletFullScreenControlModel",
      "state": {
       "_model_module_version": "^0.13.2",
       "_view_module_version": "^0.13.2",
       "options": [
        "position"
       ]
      }
     },
     "a7aac80802f74cb18228018f4d2387ee": {
      "model_module": "ipytree",
      "model_module_version": "0.1.8",
      "model_name": "NodeModel",
      "state": {
       "_id": "73b01e0b-ac60-4405-92a0-432a9b2de885",
       "_model_module_version": "0.1.8",
       "_view_module_version": "0.1.8",
       "icon": "file",
       "name": "select_columns.py"
      }
     },
     "a81d92226c164e75b2743978b7afc6db": {
      "model_module": "@jupyter-widgets/base",
      "model_module_version": "1.2.0",
      "model_name": "LayoutModel",
      "state": {
       "width": "80px"
      }
     },
     "a8c62f72b7b8483cb84977720688ca80": {
      "model_module": "ipytree",
      "model_module_version": "0.1.8",
      "model_name": "NodeModel",
      "state": {
       "_id": "bfa472d5-4ba1-431f-8488-ff5d08aa1136",
       "_model_module_version": "0.1.8",
       "_view_module_version": "0.1.8",
       "name": "MachineLearning",
       "nodes": [
        "IPY_MODEL_1e3a8ad5d5ef4d81b8fe18b2a4e52447",
        "IPY_MODEL_446ec445cb87433db07124cf756c2e8a",
        "IPY_MODEL_14319746ef6247efa0a8bb6eff340daa",
        "IPY_MODEL_7edc50dc7d5b4aabbf5937ae6eade09b"
       ],
       "opened": false
      }
     },
     "aa2035c2207d4346b853b429c7bd3927": {
      "model_module": "@jupyter-widgets/controls",
      "model_module_version": "1.5.0",
      "model_name": "DescriptionStyleModel",
      "state": {
       "description_width": ""
      }
     },
     "aa2875d3e37842ce92ba2ddf2ef1e92c": {
      "model_module": "@jupyter-widgets/controls",
      "model_module_version": "1.5.0",
      "model_name": "CheckboxModel",
      "state": {
       "description": "glims_polygons",
       "disabled": false,
       "indent": false,
       "layout": "IPY_MODEL_eff2647b06004a2db27a190aaefb78c4",
       "style": "IPY_MODEL_4041703831834c388f1a897557fc8b19",
       "value": true
      }
     },
     "aad367384cd347d6a99861419fe1accf": {
      "model_module": "ipytree",
      "model_module_version": "0.1.8",
      "model_name": "NodeModel",
      "state": {
       "_id": "80b7cc4f-fa41-4f9f-8d1f-9e43ef247f54",
       "_model_module_version": "0.1.8",
       "_view_module_version": "0.1.8",
       "icon": "file",
       "name": "filter_neq.py"
      }
     },
     "aae50b1bca964f11afbf9be0223d8980": {
      "model_module": "@jupyter-widgets/controls",
      "model_module_version": "1.5.0",
      "model_name": "LinkModel",
      "state": {
       "source": [
        "IPY_MODEL_1a069da0aac8454ea30b1de9de594a4b",
        "value"
       ],
       "target": [
        "IPY_MODEL_77a76290eb7f4d2ea5cd24f714684a23",
        "visible"
       ]
      }
     },
     "aafc47e038fc41038a5a4edc6848180c": {
      "model_module": "@jupyter-widgets/controls",
      "model_module_version": "1.5.0",
      "model_name": "ToggleButtonModel",
      "state": {
       "icon": "gear",
       "layout": "IPY_MODEL_4d4b707cb2834585ba0a52ec962574fc",
       "style": "IPY_MODEL_906f3d1129ba4ce8834c0d50be5883c2",
       "tooltip": "OpenTopoMap"
      }
     },
     "ab89e6d4db9a46df811915cfce0bbf36": {
      "model_module": "ipytree",
      "model_module_version": "0.1.8",
      "model_name": "NodeModel",
      "state": {
       "_id": "b9bca0e6-018b-4dc5-8980-82dce73577eb",
       "_model_module_version": "0.1.8",
       "_view_module_version": "0.1.8",
       "icon": "file",
       "name": "reduce_to_image.py"
      }
     },
     "abf80694689545be954380afaa662146": {
      "model_module": "@jupyter-widgets/controls",
      "model_module_version": "1.5.0",
      "model_name": "RadioButtonsModel",
      "state": {
       "index": null,
       "layout": "IPY_MODEL_24e037db2d304bab9349ec6dd50c6a95",
       "style": "IPY_MODEL_5925b76785204b01a059c7cbe58ae977"
      }
     },
     "ac277a23b06f48dfa56908dd5f6745ff": {
      "model_module": "@jupyter-widgets/base",
      "model_module_version": "1.2.0",
      "model_name": "LayoutModel",
      "state": {
       "height": "auto",
       "padding": "0px 0px 0px 4px",
       "width": "auto"
      }
     },
     "ac77b203bfa449f7ab02efc6004da893": {
      "model_module": "jupyter-leaflet",
      "model_module_version": "^0.13.2",
      "model_name": "LeafletTileLayerModel",
      "state": {
       "_model_module_version": "^0.13.2",
       "_view_module_version": "^0.13.2",
       "attribution": "\nImagery provided by services from the Global Imagery Browse Services (GIBS), operated by the NASA/GSFC/Earth Science Data and Information System (<a href=\"https://earthdata.nasa.gov\">ESDIS</a>) with funding provided by NASA/HQ.\n",
       "max_native_zoom": 18,
       "max_zoom": 9,
       "min_native_zoom": 0,
       "min_zoom": 1,
       "name": "NASAGIBS.ViirsTrueColorCR",
       "options": [
        "attribution",
        "detect_retina",
        "max_native_zoom",
        "max_zoom",
        "min_native_zoom",
        "min_zoom",
        "no_wrap",
        "tile_size",
        "tms"
       ],
       "url": "https://gibs.earthdata.nasa.gov/wmts/epsg3857/best/VIIRS_SNPP_CorrectedReflectance_TrueColor/default/2021-04-27/GoogleMapsCompatible_Level9/{z}/{y}/{x}.jpg"
      }
     },
     "ad6a231df8aa4d02aaeade3eed743d6f": {
      "model_module": "@jupyter-widgets/controls",
      "model_module_version": "1.5.0",
      "model_name": "FloatSliderModel",
      "state": {
       "layout": "IPY_MODEL_ca9b498c75804f118bc06fb6ca93641d",
       "max": 1,
       "readout": false,
       "step": 0.01,
       "style": "IPY_MODEL_8f7775529acd467c9a1a5a6f8e75842c",
       "value": 1
      }
     },
     "ae6ece89be9b4dd997ce8f16fcc04341": {
      "model_module": "@jupyter-widgets/controls",
      "model_module_version": "1.5.0",
      "model_name": "HBoxModel",
      "state": {
       "children": [
        "IPY_MODEL_4693940595b94c71b172e0c5016b6026",
        "IPY_MODEL_1334f276f29a48c7bb975ff61d9d84a6",
        "IPY_MODEL_ad6a231df8aa4d02aaeade3eed743d6f"
       ],
       "layout": "IPY_MODEL_075132d374c64049a57e6ee8be6a55b5"
      }
     },
     "ae93c584aaf14a7f8c081cab2cb4c5d0": {
      "model_module": "@jupyter-widgets/base",
      "model_module_version": "1.2.0",
      "model_name": "LayoutModel",
      "state": {
       "width": "80px"
      }
     },
     "aed4d4588edf413285f7e966e7d83c30": {
      "model_module": "@jupyter-widgets/controls",
      "model_module_version": "1.5.0",
      "model_name": "ToggleButtonsModel",
      "state": {
       "_options_labels": [
        "HTML",
        "PNG",
        "JPG"
       ],
       "button_style": "",
       "icons": [],
       "index": 0,
       "layout": "IPY_MODEL_a289645ac1f54105b3b70cda96c89e43",
       "style": "IPY_MODEL_b85eddd894ea41ca9ad69249632f7fa7",
       "tooltips": [
        "Save the map as an HTML file",
        "Take a screenshot and save as a PNG file",
        "Take a screenshot and save as a JPG file"
       ]
      }
     },
     "af5f6dc7c1de4c4ab000e5055562dd74": {
      "model_module": "@jupyter-widgets/controls",
      "model_module_version": "1.5.0",
      "model_name": "TextModel",
      "state": {
       "layout": "IPY_MODEL_01e800c44177412ab8f21f73ef0a1dfb",
       "placeholder": "Filter assets...",
       "style": "IPY_MODEL_626b477e9e9046fbb0aec8f88f75164e"
      }
     },
     "af667c97a44141a8a2718abd38344d51": {
      "model_module": "ipytree",
      "model_module_version": "0.1.8",
      "model_name": "NodeModel",
      "state": {
       "_id": "78066f53-80a8-4f50-b940-e180e00e4847",
       "_model_module_version": "0.1.8",
       "_view_module_version": "0.1.8",
       "icon": "file",
       "name": "international_boundary.py"
      }
     },
     "b00f2f44cde24b09a6898bc3f10145ab": {
      "model_module": "@jupyter-widgets/controls",
      "model_module_version": "1.5.0",
      "model_name": "SliderStyleModel",
      "state": {
       "description_width": ""
      }
     },
     "b0170a87f1d742fdbc1250d27f464b8d": {
      "model_module": "ipytree",
      "model_module_version": "0.1.8",
      "model_name": "NodeModel",
      "state": {
       "_id": "1d6ab85b-4e9c-4b08-8d12-2041476e7f93",
       "_model_module_version": "0.1.8",
       "_view_module_version": "0.1.8",
       "icon": "file",
       "name": "map_set_zoom.py"
      }
     },
     "b06c81991d52449f970e3f862ded0460": {
      "model_module": "jupyter-leaflet",
      "model_module_version": "^0.13.2",
      "model_name": "LeafletTileLayerModel",
      "state": {
       "_model_module_version": "^0.13.2",
       "_view_module_version": "^0.13.2",
       "attribution": "\nImagery provided by services from the Global Imagery Browse Services (GIBS), operated by the NASA/GSFC/Earth Science Data and Information System (<a href=\"https://earthdata.nasa.gov\">ESDIS</a>) with funding provided by NASA/HQ.\n",
       "max_native_zoom": 18,
       "max_zoom": 9,
       "min_native_zoom": 0,
       "min_zoom": 1,
       "name": "NASAGIBS.ModisAquaBands721CR",
       "options": [
        "attribution",
        "detect_retina",
        "max_native_zoom",
        "max_zoom",
        "min_native_zoom",
        "min_zoom",
        "no_wrap",
        "tile_size",
        "tms"
       ],
       "url": "https://gibs.earthdata.nasa.gov/wmts/epsg3857/best/MODIS_Aqua_CorrectedReflectance_Bands721/default/2021-04-27/GoogleMapsCompatible_Level9/{z}/{y}/{x}.jpg"
      }
     },
     "b0f82f4a1f914d6ea5b202e259730598": {
      "model_module": "@jupyter-widgets/base",
      "model_module_version": "1.2.0",
      "model_name": "LayoutModel",
      "state": {
       "height": "auto",
       "padding": "0px 0px 0px 4px",
       "width": "auto"
      }
     },
     "b12842e8f04244cc8864d6a59ed2a25a": {
      "model_module": "@jupyter-widgets/controls",
      "model_module_version": "1.5.0",
      "model_name": "HBoxModel",
      "state": {
       "children": [
        "IPY_MODEL_f7aa1c37f26d414398c13c8b865cc381",
        "IPY_MODEL_11c2f7e4474d41a98b5ad396d87f484e",
        "IPY_MODEL_d4ad4d3e3d9a4b988032289e396abec5"
       ],
       "layout": "IPY_MODEL_bda2f0751050481a9b5095be2c6ff3a9"
      }
     },
     "b1538f97d07e404aac9c3ab964173d8d": {
      "model_module": "@jupyter-widgets/controls",
      "model_module_version": "1.5.0",
      "model_name": "ToggleButtonModel",
      "state": {
       "icon": "gear",
       "layout": "IPY_MODEL_8e22ffc170a244849aeaaa9de9780bc3",
       "style": "IPY_MODEL_7567de824f9348a48b27ee8cd7b62249",
       "tooltip": "Google Satellite"
      }
     },
     "b1ab24a965064c24812dab8cf43f21ae": {
      "model_module": "jupyter-leaflet",
      "model_module_version": "^0.13.2",
      "model_name": "LeafletWidgetControlModel",
      "state": {
       "_model_module": "jupyter-leaflet",
       "_model_module_version": "^0.13.2",
       "_view_count": null,
       "_view_module": "jupyter-leaflet",
       "_view_module_version": "^0.13.2",
       "options": [
        "position"
       ],
       "position": "topleft",
       "widget": "IPY_MODEL_501eba69cd5e4af9abae502f05ac2cbf"
      }
     },
     "b1cb6c70fb18468b8b35699267cc70f1": {
      "model_module": "ipytree",
      "model_module_version": "0.1.8",
      "model_name": "NodeModel",
      "state": {
       "_id": "39d930da-b56c-4c3b-af57-7ca8579de713",
       "_model_module_version": "0.1.8",
       "_view_module_version": "0.1.8",
       "icon": "file",
       "name": "export_table.py"
      }
     },
     "b240e1d9866347e8bb6d66a8bfa8670b": {
      "model_module": "@jupyter-widgets/controls",
      "model_module_version": "1.5.0",
      "model_name": "CheckboxModel",
      "state": {
       "description": "kz",
       "disabled": false,
       "indent": false,
       "layout": "IPY_MODEL_d51c97223b514d2a875425dfa55a913c",
       "style": "IPY_MODEL_ffa6b41578f848779a083c294bab3a6f",
       "value": false
      }
     },
     "b27d7bfca17f4114a3d4049452eccc85": {
      "model_module": "ipytree",
      "model_module_version": "0.1.8",
      "model_name": "NodeModel",
      "state": {
       "_id": "0e0c7238-1ecb-4f63-8b1b-372552658d65",
       "_model_module_version": "0.1.8",
       "_view_module_version": "0.1.8",
       "icon": "file",
       "name": "08_masking.py"
      }
     },
     "b30127141207424d9e1740a4e6a6c222": {
      "model_module": "@jupyter-widgets/controls",
      "model_module_version": "1.5.0",
      "model_name": "DescriptionStyleModel",
      "state": {
       "description_width": ""
      }
     },
     "b3f77e58445048c4bcc4c25e7aa10e3f": {
      "model_module": "@jupyter-widgets/controls",
      "model_module_version": "1.5.0",
      "model_name": "DescriptionStyleModel",
      "state": {
       "description_width": ""
      }
     },
     "b441683cc1a04228bceebaf3af0e64c7": {
      "model_module": "@jupyter-widgets/controls",
      "model_module_version": "1.5.0",
      "model_name": "DescriptionStyleModel",
      "state": {
       "description_width": ""
      }
     },
     "b4663eb6d53146d6bf3fb154c461f2e4": {
      "model_module": "ipytree",
      "model_module_version": "0.1.8",
      "model_name": "NodeModel",
      "state": {
       "_id": "594003b6-91c6-4c6e-a03f-f17fe131aac9",
       "_model_module_version": "0.1.8",
       "_view_module_version": "0.1.8",
       "icon": "file",
       "name": "extract_image_by_polygon.py"
      }
     },
     "b4ed289fbcc64ef1a6ab02454d9f110f": {
      "model_module": "ipytree",
      "model_module_version": "0.1.8",
      "model_name": "NodeModel",
      "state": {
       "_id": "9d5ceb25-fa50-40b8-bdf0-26248b0ea817",
       "_model_module_version": "0.1.8",
       "_view_module_version": "0.1.8",
       "icon": "file",
       "name": "linear_regression.py"
      }
     },
     "b51ab0e496d24411a29a41a814b9eadc": {
      "model_module": "@jupyter-widgets/controls",
      "model_module_version": "1.5.0",
      "model_name": "VBoxModel",
      "state": {
       "children": [
        "IPY_MODEL_bb5d3f11bb7b4db2a42693e0c7080506",
        "IPY_MODEL_af5f6dc7c1de4c4ab000e5055562dd74",
        "IPY_MODEL_59537d0d698c4fa4a8cec62a51e69ffb"
       ],
       "layout": "IPY_MODEL_eb226247436143d58d393d21d5cddecd"
      }
     },
     "b596101e06114749a46a31e6d4604185": {
      "model_module": "@jupyter-widgets/base",
      "model_module_version": "1.2.0",
      "model_name": "LayoutModel",
      "state": {
       "height": "auto",
       "padding": "0px 0px 0px 4px",
       "width": "auto"
      }
     },
     "b6817b1baaff4a72a0c9b109ea731eca": {
      "model_module": "@jupyter-widgets/base",
      "model_module_version": "1.2.0",
      "model_name": "LayoutModel",
      "state": {
       "padding": "0px 8px 0px 8px"
      }
     },
     "b7007922dab149f8812bd6d638f4f84e": {
      "model_module": "@jupyter-widgets/base",
      "model_module_version": "1.2.0",
      "model_name": "LayoutModel",
      "state": {}
     },
     "b736d47a1d434775b835027e7aa6c723": {
      "model_module": "@jupyter-widgets/base",
      "model_module_version": "1.2.0",
      "model_name": "LayoutModel",
      "state": {
       "height": "18px",
       "width": "25ex"
      }
     },
     "b77d9ac1f2684eb884c9ae8ba794a7f8": {
      "model_module": "ipytree",
      "model_module_version": "0.1.8",
      "model_name": "NodeModel",
      "state": {
       "_id": "bb1b7fd1-10a5-450c-a112-1fced7d99920",
       "_model_module_version": "0.1.8",
       "_view_module_version": "0.1.8",
       "icon": "file",
       "name": "usgs_watershed_boundary.py"
      }
     },
     "b7d855a7315f48a59912f832a6dfd55c": {
      "model_module": "ipytree",
      "model_module_version": "0.1.8",
      "model_name": "NodeModel",
      "state": {
       "_id": "80b20e85-e9cb-4492-9885-bd50a778cdde",
       "_model_module_version": "0.1.8",
       "_view_module_version": "0.1.8",
       "icon": "file",
       "name": "convert_imagecollection_to_image.py"
      }
     },
     "b840f992f70a4901bdf260d800fae3b2": {
      "model_module": "@jupyter-widgets/base",
      "model_module_version": "1.2.0",
      "model_name": "LayoutModel",
      "state": {
       "display": "none"
      }
     },
     "b85bb332bfa94c36ace947a92b42a8c0": {
      "model_module": "ipytree",
      "model_module_version": "0.1.8",
      "model_name": "NodeModel",
      "state": {
       "_id": "258ac2b0-e558-43ca-95ae-45eb0a879aef",
       "_model_module_version": "0.1.8",
       "_view_module_version": "0.1.8",
       "icon": "file",
       "name": "image_color_palettes.py"
      }
     },
     "b85eddd894ea41ca9ad69249632f7fa7": {
      "model_module": "@jupyter-widgets/controls",
      "model_module_version": "1.5.0",
      "model_name": "ToggleButtonsStyleModel",
      "state": {
       "button_width": "",
       "description_width": ""
      }
     },
     "b864f05f20564111ab98b1cd8e96852d": {
      "model_module": "jupyter-leaflet",
      "model_module_version": "^0.13.2",
      "model_name": "LeafletTileLayerModel",
      "state": {
       "_model_module_version": "^0.13.2",
       "_view_module_version": "^0.13.2",
       "attribution": "Map tiles by <a href=\"https://labs.strava.com/heatmap\">Strava 2017</a>",
       "max_native_zoom": 18,
       "max_zoom": 15,
       "min_native_zoom": 0,
       "min_zoom": 1,
       "name": "Strava.All",
       "options": [
        "attribution",
        "detect_retina",
        "max_native_zoom",
        "max_zoom",
        "min_native_zoom",
        "min_zoom",
        "no_wrap",
        "tile_size",
        "tms"
       ],
       "url": "https://heatmap-external-a.strava.com//tiles/all/hot/{z}/{x}/{y}.png?v=19"
      }
     },
     "b8c12f01478b4937a3f6d0116ed3c730": {
      "model_module": "@jupyter-widgets/controls",
      "model_module_version": "1.5.0",
      "model_name": "TextareaModel",
      "state": {
       "layout": "IPY_MODEL_2b8cd2707ed64c448bd4c4757a46408d",
       "style": "IPY_MODEL_95b4f2e686b642d08560783132a801b0"
      }
     },
     "b8f967b0d14148bd9863792cfae05287": {
      "model_module": "ipytree",
      "model_module_version": "0.1.8",
      "model_name": "NodeModel",
      "state": {
       "_id": "06868581-9dd7-4999-abc8-fcc96457a6a6",
       "_model_module_version": "0.1.8",
       "_view_module_version": "0.1.8",
       "icon": "file",
       "name": "fire_australia.py"
      }
     },
     "b981cb33e76d44be9011160a99146e64": {
      "model_module": "@jupyter-widgets/base",
      "model_module_version": "1.2.0",
      "model_name": "LayoutModel",
      "state": {}
     },
     "b9fc7b003c9e419f8943d18afe087ee2": {
      "model_module": "ipytree",
      "model_module_version": "0.1.8",
      "model_name": "NodeModel",
      "state": {
       "_id": "b69277d3-4b1e-4f5d-80f0-0718689306cc",
       "_model_module_version": "0.1.8",
       "_view_module_version": "0.1.8",
       "icon": "file",
       "name": "get_properties.py"
      }
     },
     "ba09cda0cc414629abbb7a527235a124": {
      "model_module": "ipytree",
      "model_module_version": "0.1.8",
      "model_name": "NodeModel",
      "state": {
       "_id": "23be1cee-9fd4-4d5e-88f2-bd2a1fde8692",
       "_model_module_version": "0.1.8",
       "_view_module_version": "0.1.8",
       "icon": "file",
       "name": "ndwi_single.py"
      }
     },
     "ba8dff6b37264c9aacff8a30df18ee00": {
      "model_module": "@jupyter-widgets/base",
      "model_module_version": "1.2.0",
      "model_name": "LayoutModel",
      "state": {
       "height": "18px",
       "padding": "0px 8px 25px 8px",
       "width": "30ex"
      }
     },
     "bada4c801d0240a4a075e8812eb3de36": {
      "model_module": "jupyter-leaflet",
      "model_module_version": "^0.13.2",
      "model_name": "LeafletTileLayerModel",
      "state": {
       "_model_module_version": "^0.13.2",
       "_view_module_version": "^0.13.2",
       "attribution": "Map tiles by <a href=\"https://labs.strava.com/heatmap\">Strava 2017</a>",
       "max_native_zoom": 18,
       "max_zoom": 15,
       "min_native_zoom": 0,
       "min_zoom": 1,
       "name": "Strava.Run",
       "options": [
        "attribution",
        "detect_retina",
        "max_native_zoom",
        "max_zoom",
        "min_native_zoom",
        "min_zoom",
        "no_wrap",
        "tile_size",
        "tms"
       ],
       "url": "https://heatmap-external-a.strava.com//tiles/run/bluered/{z}/{x}/{y}.png?v=19"
      }
     },
     "bb2e52bebecd44b298bf0e2d93192ae3": {
      "model_module": "ipytree",
      "model_module_version": "0.1.8",
      "model_name": "NodeModel",
      "state": {
       "_id": "8e4aecf5-62e6-4dba-b5db-16e6486ef077",
       "_model_module_version": "0.1.8",
       "_view_module_version": "0.1.8",
       "name": "Water",
       "nodes": [
        "IPY_MODEL_4ea2fa83482e4048bebc637953cc7351",
        "IPY_MODEL_581a7b56e8ed48c79c60e8caab290653",
        "IPY_MODEL_cecd4e03a04849a580faad00257a5f77",
        "IPY_MODEL_7dba369dde4b468e9a10d569a234af87",
        "IPY_MODEL_9a8d41536ae342b5bd8fa60cd4b008d1",
        "IPY_MODEL_c0dd35d47e394d3880ad524089cd7eb3",
        "IPY_MODEL_f81808c2fc5d4dfda7552bde0b5e3366"
       ],
       "opened": false
      }
     },
     "bb52b910eb9a405c9f74dfa48e46bbb0": {
      "model_module": "@jupyter-widgets/controls",
      "model_module_version": "1.5.0",
      "model_name": "LinkModel",
      "state": {
       "source": [
        "IPY_MODEL_5b3f13ed500d46629dcf3f48b89b1e54",
        "value"
       ],
       "target": [
        "IPY_MODEL_5fc5d7f51a2f4649ba93e19da02c0b55",
        "visible"
       ]
      }
     },
     "bb5d3f11bb7b4db2a42693e0c7080506": {
      "model_module": "@jupyter-widgets/controls",
      "model_module_version": "1.5.0",
      "model_name": "ToggleButtonsModel",
      "state": {
       "_options_labels": [
        "Scripts",
        "Docs",
        "Assets"
       ],
       "button_style": "primary",
       "icons": [],
       "index": 2,
       "layout": "IPY_MODEL_225f0f3e2ad64d8699a3fb838bc2eda3",
       "style": "IPY_MODEL_99847aa14be54f909df68172a43a6e38",
       "tooltips": [
        "Search Earth Engine Scripts",
        "Search Earth Engine API",
        "Search Earth Engine Assets"
       ]
      }
     },
     "bb956cac1e2549d9a7c68c67357b5e40": {
      "model_module": "@jupyter-widgets/controls",
      "model_module_version": "1.5.0",
      "model_name": "LinkModel",
      "state": {
       "source": [
        "IPY_MODEL_234ae2bc8b71465fba36d1d2bcdc9f21",
        "value"
       ],
       "target": [
        "IPY_MODEL_e2f4097d83bc4212becb6aecabcc5a14",
        "visible"
       ]
      }
     },
     "bbb45214838e4899ba97e787afbe51db": {
      "model_module": "ipytree",
      "model_module_version": "0.1.8",
      "model_name": "NodeModel",
      "state": {
       "_id": "92dbca52-7552-438b-973b-08c4a0eaa354",
       "_model_module_version": "0.1.8",
       "_view_module_version": "0.1.8",
       "icon": "file",
       "name": "filter_poly.py"
      }
     },
     "bbbe9d112c494d7c807a8276c6969753": {
      "model_module": "@jupyter-widgets/controls",
      "model_module_version": "1.5.0",
      "model_name": "FloatSliderModel",
      "state": {
       "layout": "IPY_MODEL_c0ad5f7d7e6d48fb8f02ba936dc07ab5",
       "max": 1,
       "readout": false,
       "step": 0.01,
       "style": "IPY_MODEL_7aeffd096afd43ae8313f1035edd89d9",
       "value": 1
      }
     },
     "bbf856c20cbd4826a1a75deed3a6cae2": {
      "model_module": "ipytree",
      "model_module_version": "0.1.8",
      "model_name": "NodeModel",
      "state": {
       "_id": "7f46a212-5ada-4159-bda7-173db0f10811",
       "_model_module_version": "0.1.8",
       "_view_module_version": "0.1.8",
       "icon": "file",
       "name": "count_features.py"
      }
     },
     "bc25153d30064909a47d389a2ed05dc4": {
      "model_module": "ipytree",
      "model_module_version": "0.1.8",
      "model_name": "NodeModel",
      "state": {
       "_id": "119479f9-1208-4112-83d1-031c19f9731b",
       "_model_module_version": "0.1.8",
       "_view_module_version": "0.1.8",
       "icon": "file",
       "name": "us_ned_mtpi.py"
      }
     },
     "bc3356f738f844539aeb86e85984f9d2": {
      "model_module": "@jupyter-widgets/controls",
      "model_module_version": "1.5.0",
      "model_name": "DropdownModel",
      "state": {
       "_options_labels": [
        "D:\\Users\\Daniyar\\GEE",
        "D:\\Users\\Daniyar",
        "D:\\Users",
        "D:\\",
        "C:\\",
        "G:\\"
       ],
       "index": 0,
       "layout": "IPY_MODEL_01ae18515b954aa7adbecf65c0ea6a0d",
       "style": "IPY_MODEL_a0704d97ba084cf6a56930c38a1a56c7"
      }
     },
     "bcc33efe778346b6906e7918ff448cc9": {
      "model_module": "@jupyter-widgets/controls",
      "model_module_version": "1.5.0",
      "model_name": "DescriptionStyleModel",
      "state": {
       "description_width": ""
      }
     },
     "bcd3ae64ce98422a8a3a215fa648b77e": {
      "model_module": "@jupyter-widgets/base",
      "model_module_version": "1.2.0",
      "model_name": "LayoutModel",
      "state": {}
     },
     "bcf7ad2cb1664333b9d066d5fabd7fb9": {
      "model_module": "ipytree",
      "model_module_version": "0.1.8",
      "model_name": "NodeModel",
      "state": {
       "_id": "f5775626-e81f-4da6-98c1-b29de995270e",
       "_model_module_version": "0.1.8",
       "_view_module_version": "0.1.8",
       "icon": "file",
       "name": "save_all_joins.py"
      }
     },
     "bda2f0751050481a9b5095be2c6ff3a9": {
      "model_module": "@jupyter-widgets/base",
      "model_module_version": "1.2.0",
      "model_name": "LayoutModel",
      "state": {
       "padding": "0px 8px 0px 8px"
      }
     },
     "be444a34f42b4a168a121ea574b041c4": {
      "model_module": "@jupyter-widgets/controls",
      "model_module_version": "1.5.0",
      "model_name": "DescriptionStyleModel",
      "state": {
       "description_width": ""
      }
     },
     "be87686109ed4982a2231e3ae0bb4656": {
      "model_module": "@jupyter-widgets/controls",
      "model_module_version": "1.5.0",
      "model_name": "HBoxModel",
      "state": {
       "children": [
        "IPY_MODEL_b51ab0e496d24411a29a41a814b9eadc",
        "IPY_MODEL_f1a4e0e4c3104d7db23229abfe4e7e6f"
       ],
       "layout": "IPY_MODEL_b981cb33e76d44be9011160a99146e64"
      }
     },
     "be9b0f8cff624dadb53487f9e850d96b": {
      "model_module": "ipytree",
      "model_module_version": "0.1.8",
      "model_name": "NodeModel",
      "state": {
       "_id": "4f8aab68-05af-4cc0-98ab-4acce72a611a",
       "_model_module_version": "0.1.8",
       "_view_module_version": "0.1.8",
       "icon": "file",
       "name": "reclassify.py"
      }
     },
     "bf2dece04df44090a521918f681b747d": {
      "model_module": "jupyter-leaflet",
      "model_module_version": "^0.13.2",
      "model_name": "LeafletWMSLayerModel",
      "state": {
       "_model_module_version": "^0.13.2",
       "_view_module_version": "^0.13.2",
       "attribution": "MRLC",
       "crs": {
        "custom": false,
        "name": "EPSG3857"
       },
       "format": "image/png",
       "layers": "NLCD_2001_Land_Cover_L48",
       "max_native_zoom": 18,
       "min_native_zoom": 0,
       "name": "NLCD 2001 CONUS Land Cover",
       "options": [
        "attribution",
        "detect_retina",
        "format",
        "layers",
        "max_native_zoom",
        "max_zoom",
        "min_native_zoom",
        "min_zoom",
        "no_wrap",
        "styles",
        "tile_size",
        "tms",
        "transparent",
        "uppercase"
       ],
       "transparent": true,
       "url": "https://www.mrlc.gov/geoserver/mrlc_display/NLCD_2001_Land_Cover_L48/wms?"
      }
     },
     "bf3b9886442a47f9a596676702cdff9e": {
      "model_module": "ipytree",
      "model_module_version": "0.1.8",
      "model_name": "NodeModel",
      "state": {
       "_id": "2ccc3bc8-a076-432d-9c10-e1f2056ed85a",
       "_model_module_version": "0.1.8",
       "_view_module_version": "0.1.8",
       "icon": "file",
       "name": "where_operators.py"
      }
     },
     "bf562feb4da548f5a5692e0c07d0d7d3": {
      "model_module": "ipytree",
      "model_module_version": "0.1.8",
      "model_name": "NodeModel",
      "state": {
       "_id": "7fcfa726-8535-499b-825b-ebdff719cacb",
       "_model_module_version": "0.1.8",
       "_view_module_version": "0.1.8",
       "icon": "file",
       "name": "palettes_crameri_oleron_dem.py"
      }
     },
     "bf821e7ef4404eb7a262327d2a33ad77": {
      "model_module": "jupyter-leaflet",
      "model_module_version": "^0.13.2",
      "model_name": "LeafletScaleControlModel",
      "state": {
       "_model_module_version": "^0.13.2",
       "_view_module_version": "^0.13.2",
       "imperial": true,
       "max_width": 100,
       "metric": true,
       "options": [
        "imperial",
        "max_width",
        "metric",
        "position",
        "update_when_idle"
       ],
       "position": "bottomleft",
       "update_when_idle": false
      }
     },
     "bf9aff4f5c154fd2aab50a14ef1b5a6d": {
      "model_module": "ipytree",
      "model_module_version": "0.1.8",
      "model_name": "NodeModel",
      "state": {
       "_id": "9e632b2b-2a96-442b-9a82-11e2d02faf60",
       "_model_module_version": "0.1.8",
       "_view_module_version": "0.1.8",
       "icon": "file",
       "name": "us_ned_landforms.py"
      }
     },
     "bf9ff8fc69bf49a4b427e35a408e17d8": {
      "model_module": "ipytree",
      "model_module_version": "0.1.8",
      "model_name": "NodeModel",
      "state": {
       "_id": "093fd416-1b32-4916-b494-799ca92c69f8",
       "_model_module_version": "0.1.8",
       "_view_module_version": "0.1.8",
       "icon": "file",
       "name": "zonal_statistics.py"
      }
     },
     "bfe0a27ae80549d0b234812bbe9ab870": {
      "model_module": "ipytree",
      "model_module_version": "0.1.8",
      "model_name": "NodeModel",
      "state": {
       "_id": "87c931dc-306f-4a72-93f1-5563e341cadf",
       "_model_module_version": "0.1.8",
       "_view_module_version": "0.1.8",
       "icon": "file",
       "name": "world_database_on_protected_areas.py"
      }
     },
     "c0ad5f7d7e6d48fb8f02ba936dc07ab5": {
      "model_module": "@jupyter-widgets/base",
      "model_module_version": "1.2.0",
      "model_name": "LayoutModel",
      "state": {
       "width": "80px"
      }
     },
     "c0dd35d47e394d3880ad524089cd7eb3": {
      "model_module": "ipytree",
      "model_module_version": "0.1.8",
      "model_name": "NodeModel",
      "state": {
       "_id": "7561957e-5940-40fb-ad84-5b7b59a3489f",
       "_model_module_version": "0.1.8",
       "_view_module_version": "0.1.8",
       "icon": "file",
       "name": "jrc_yearly_history.py"
      }
     },
     "c0f2f7a3171b482abef5cc5034745ce7": {
      "model_module": "@jupyter-widgets/controls",
      "model_module_version": "1.5.0",
      "model_name": "VBoxModel",
      "state": {
       "children": [
        "IPY_MODEL_9de7c190fd074fdeb39ac11fd32d83f3",
        "IPY_MODEL_0ce5273e86ce41f599e193f1411cc56a"
       ],
       "layout": "IPY_MODEL_24904db9abdb4167af30b0d18ae3e316"
      }
     },
     "c1c47005fc5b4254a7046402bbb0d81e": {
      "model_module": "ipytree",
      "model_module_version": "0.1.8",
      "model_name": "NodeModel",
      "state": {
       "_id": "a3f91315-2564-4b9e-8bf1-ee00121d3416",
       "_model_module_version": "0.1.8",
       "_view_module_version": "0.1.8",
       "icon": "file",
       "name": "geometric_operations.py"
      }
     },
     "c1f34f27733d4a5ba61995c54cd2b3f9": {
      "model_module": "@jupyter-widgets/controls",
      "model_module_version": "1.5.0",
      "model_name": "ButtonStyleModel",
      "state": {}
     },
     "c2196a142a2a4c3d8acc346437390572": {
      "model_module": "@jupyter-widgets/controls",
      "model_module_version": "1.5.0",
      "model_name": "SliderStyleModel",
      "state": {
       "description_width": ""
      }
     },
     "c23e39d71bb34aca82f94c5c9b6ff3df": {
      "model_module": "ipytree",
      "model_module_version": "0.1.8",
      "model_name": "NodeModel",
      "state": {
       "_id": "990bb6e3-3b44-45f3-b41c-d38ce8c3ab93",
       "_model_module_version": "0.1.8",
       "_view_module_version": "0.1.8",
       "icon": "table",
       "name": "glims_images"
      }
     },
     "c2506d97a63343f3a9791d733c39472d": {
      "model_module": "@jupyter-widgets/controls",
      "model_module_version": "1.5.0",
      "model_name": "DescriptionStyleModel",
      "state": {
       "description_width": ""
      }
     },
     "c26449b9119a4eb68298795c5ae7bbdf": {
      "model_module": "@jupyter-widgets/base",
      "model_module_version": "1.2.0",
      "model_name": "LayoutModel",
      "state": {}
     },
     "c27a25afe9254f108f1662118579e26e": {
      "model_module": "ipytree",
      "model_module_version": "0.1.8",
      "model_name": "NodeModel",
      "state": {
       "_id": "72468281-73ec-4029-a22b-ae4de9d1a1fa",
       "_model_module_version": "0.1.8",
       "_view_module_version": "0.1.8",
       "icon": "file",
       "name": "simplify_polygons.py"
      }
     },
     "c2996b7524a84efbac3554c76195ce36": {
      "model_module": "@jupyter-widgets/controls",
      "model_module_version": "1.5.0",
      "model_name": "DescriptionStyleModel",
      "state": {
       "description_width": ""
      }
     },
     "c29f416aad314b5b8bb403ed43fb4ad0": {
      "model_module": "@jupyter-widgets/controls",
      "model_module_version": "1.5.0",
      "model_name": "HBoxModel",
      "state": {
       "children": [
        "IPY_MODEL_73dbef70aa8c4331828739ff38cd90db",
        "IPY_MODEL_3fe6fd3e20da47f680dd1c6670609402"
       ],
       "layout": "IPY_MODEL_ceec0371d3434e36a3f42b9c2a4669e5"
      }
     },
     "c2e2f7abf5d74509868dab4bdb6d4e5d": {
      "model_module": "ipytree",
      "model_module_version": "0.1.8",
      "model_name": "NodeModel",
      "state": {
       "_id": "ad0cc18a-277d-49dc-aee4-390586f81441",
       "_model_module_version": "0.1.8",
       "_view_module_version": "0.1.8",
       "icon": "file",
       "name": "ndwi_timeseries.py"
      }
     },
     "c2eedf8815ae4a08a989d5f107d3dd0a": {
      "model_module": "ipytree",
      "model_module_version": "0.1.8",
      "model_name": "NodeModel",
      "state": {
       "_id": "947e4533-af44-4b14-ab42-1ba77f16a8d8",
       "_model_module_version": "0.1.8",
       "_view_module_version": "0.1.8",
       "name": "Datasets",
       "nodes": [
        "IPY_MODEL_3dc0b404d86c456192269671cdb6abe2",
        "IPY_MODEL_e1852ed9bd7c4bc59f09c151ef6735d2",
        "IPY_MODEL_0f9e09b01da94a369bd3d1f9cb146b99",
        "IPY_MODEL_438b2dff47454bcea146e5be6de0118c",
        "IPY_MODEL_36287e8322704d009ee668f3d2e6b2bf",
        "IPY_MODEL_74a0728acd2f462a87d9b3fc7f8e95a5",
        "IPY_MODEL_eef5151e0aca4d9880a161c3b7f9559e",
        "IPY_MODEL_bb2e52bebecd44b298bf0e2d93192ae3"
       ],
       "opened": false
      }
     },
     "c3f250837edc4684bf29a041bb588e81": {
      "model_module": "ipytree",
      "model_module_version": "0.1.8",
      "model_name": "NodeModel",
      "state": {
       "_id": "654f3c3e-dc92-46b5-8861-5d44999c8832",
       "_model_module_version": "0.1.8",
       "_view_module_version": "0.1.8",
       "icon": "file",
       "name": "column_statistics.py"
      }
     },
     "c43fd76beb6244a493a68474bbb79b4b": {
      "model_module": "ipytree",
      "model_module_version": "0.1.8",
      "model_name": "NodeModel",
      "state": {
       "_id": "a0f71174-6fb5-400c-b4cb-5a3bf1a1e985",
       "_model_module_version": "0.1.8",
       "_view_module_version": "0.1.8",
       "icon": "file",
       "name": "landsat_wrs2_grid.py"
      }
     },
     "c4b607f121b84a26800d9528c15ff214": {
      "model_module": "@jupyter-widgets/base",
      "model_module_version": "1.2.0",
      "model_name": "LayoutModel",
      "state": {
       "height": "18px",
       "width": "25ex"
      }
     },
     "c52449bb6f7844ca9b0a334c17c5aec0": {
      "model_module": "@jupyter-widgets/controls",
      "model_module_version": "1.5.0",
      "model_name": "DescriptionStyleModel",
      "state": {
       "description_width": ""
      }
     },
     "c54078b3eb694e19bcfa04ab80c30062": {
      "model_module": "@jupyter-widgets/base",
      "model_module_version": "1.2.0",
      "model_name": "LayoutModel",
      "state": {
       "height": "18px",
       "width": "25ex"
      }
     },
     "c5cf5dd6c8e049a9a0cf2740a79ea717": {
      "model_module": "ipytree",
      "model_module_version": "0.1.8",
      "model_name": "NodeModel",
      "state": {
       "_id": "609711d7-ef51-4af3-a7cf-ae5926f1ead4",
       "_model_module_version": "0.1.8",
       "_view_module_version": "0.1.8",
       "icon": "file",
       "name": "landsat_median.py"
      }
     },
     "c5dd54fe36e7400b9a2fca13b7ed8cf0": {
      "model_module": "@jupyter-widgets/base",
      "model_module_version": "1.2.0",
      "model_name": "LayoutModel",
      "state": {
       "width": "80px"
      }
     },
     "c5ef8c2cc87540858044eacc4baf7085": {
      "model_module": "@jupyter-widgets/controls",
      "model_module_version": "1.5.0",
      "model_name": "DescriptionStyleModel",
      "state": {
       "description_width": ""
      }
     },
     "c68b1430c4694614bf912eae0fc132a3": {
      "model_module": "ipytree",
      "model_module_version": "0.1.8",
      "model_name": "NodeModel",
      "state": {
       "_id": "1a5f48df-616b-43ec-9775-be3c701b15a2",
       "_model_module_version": "0.1.8",
       "_view_module_version": "0.1.8",
       "icon": "file",
       "name": "nlcd_land_cover.py"
      }
     },
     "c6c262eb373c43f68502bdd971c21702": {
      "model_module": "@jupyter-widgets/base",
      "model_module_version": "1.2.0",
      "model_name": "LayoutModel",
      "state": {
       "padding": "0px 8px 0px 8px"
      }
     },
     "c6d6a8b8e9ac4a5bab340feb1ca2f39c": {
      "model_module": "@jupyter-widgets/controls",
      "model_module_version": "1.5.0",
      "model_name": "DirectionalLinkModel",
      "state": {
       "source": [
        "IPY_MODEL_ad6a231df8aa4d02aaeade3eed743d6f",
        "value"
       ],
       "target": [
        "IPY_MODEL_2439ff2df8b84200bc1a61d3c4bbb264",
        "opacity"
       ]
      }
     },
     "c6ecab66c1424b279e895281db9aca92": {
      "model_module": "ipytree",
      "model_module_version": "0.1.8",
      "model_name": "NodeModel",
      "state": {
       "_id": "be9eaa39-c6a7-4fa6-b688-445e46546eb7",
       "_model_module_version": "0.1.8",
       "_view_module_version": "0.1.8",
       "icon": "file",
       "name": "filtering_by_band_names.py"
      }
     },
     "c7870b1dad21452b8a609da794c6fafd": {
      "model_module": "@jupyter-widgets/controls",
      "model_module_version": "1.5.0",
      "model_name": "DescriptionStyleModel",
      "state": {
       "description_width": ""
      }
     },
     "c7dd26a4a4444f8aa347b2fd155b9a14": {
      "model_module": "@jupyter-widgets/controls",
      "model_module_version": "1.5.0",
      "model_name": "LinkModel",
      "state": {
       "source": [
        "IPY_MODEL_9e79ee8448c9406bacb304353d0d0d5a",
        "value"
       ],
       "target": [
        "IPY_MODEL_3ddcaa6df6934a9286f82c79e67680b1",
        "visible"
       ]
      }
     },
     "c7e1c298115c495ab55b73ebe1e37fa7": {
      "model_module": "ipytree",
      "model_module_version": "0.1.8",
      "model_name": "NodeModel",
      "state": {
       "_id": "40cf0cf3-f006-49ae-b0d7-00ee027a8ff5",
       "_model_module_version": "0.1.8",
       "_view_module_version": "0.1.8",
       "icon": "file",
       "name": "image_metadata.py"
      }
     },
     "c9076fbf300140f7a4cbe97bd6818eaa": {
      "model_module": "jupyter-leaflet",
      "model_module_version": "^0.13.2",
      "model_name": "LeafletMapStyleModel",
      "state": {
       "_model_module_version": "^0.13.2"
      }
     },
     "c949790550744d8ea239d2709ae6e1a4": {
      "model_module": "@jupyter-widgets/controls",
      "model_module_version": "1.5.0",
      "model_name": "SliderStyleModel",
      "state": {
       "description_width": ""
      }
     },
     "c963c54a29ee475db67a0b09eec71814": {
      "model_module": "@jupyter-widgets/base",
      "model_module_version": "1.2.0",
      "model_name": "LayoutModel",
      "state": {}
     },
     "ca9b498c75804f118bc06fb6ca93641d": {
      "model_module": "@jupyter-widgets/base",
      "model_module_version": "1.2.0",
      "model_name": "LayoutModel",
      "state": {
       "width": "80px"
      }
     },
     "caa175a4e7f8417895511da1b28e133d": {
      "model_module": "@jupyter-widgets/controls",
      "model_module_version": "1.5.0",
      "model_name": "FloatSliderModel",
      "state": {
       "layout": "IPY_MODEL_6118545462cf4370aa1b693b4cc675cd",
       "max": 1,
       "readout": false,
       "step": 0.01,
       "style": "IPY_MODEL_f59f241b3f0e4f6ca54ccd8de952d7fc",
       "value": 1
      }
     },
     "caf7b0f7087a42daa48ed7387f96e0ed": {
      "model_module": "@jupyter-widgets/base",
      "model_module_version": "1.2.0",
      "model_name": "LayoutModel",
      "state": {}
     },
     "cb033cc2cbef4fdd82b89006704ed13b": {
      "model_module": "@jupyter-widgets/controls",
      "model_module_version": "1.5.0",
      "model_name": "TextModel",
      "state": {
       "layout": "IPY_MODEL_d522e0a45c3349da9e37e7379854880b",
       "placeholder": "Filter scripts...",
       "style": "IPY_MODEL_597b0012ab724f3f88671cb2bd768608"
      }
     },
     "cb621ac97d51420cac6a6f46dfa6f78c": {
      "model_module": "ipytree",
      "model_module_version": "0.1.8",
      "model_name": "NodeModel",
      "state": {
       "_id": "c5830fdf-3391-421e-b5b3-6fcb83e49860",
       "_model_module_version": "0.1.8",
       "_view_module_version": "0.1.8",
       "icon": "file",
       "name": "decorrelation_stretch.py"
      }
     },
     "cbb896bd9adb41a297d72aa6fe7b32dd": {
      "model_module": "ipytree",
      "model_module_version": "0.1.8",
      "model_name": "NodeModel",
      "state": {
       "_id": "59ce005f-5267-4581-8814-675f1bfb19b9",
       "_model_module_version": "0.1.8",
       "_view_module_version": "0.1.8",
       "icon": "file",
       "name": "array_images.py"
      }
     },
     "cbc9610b3eaf43c18cab3bd71d008810": {
      "model_module": "@jupyter-widgets/controls",
      "model_module_version": "1.5.0",
      "model_name": "LinkModel",
      "state": {
       "source": [
        "IPY_MODEL_33917b24e1ae4e8fbf3bc353691b3b12",
        "value"
       ],
       "target": [
        "IPY_MODEL_5fc5d7f51a2f4649ba93e19da02c0b55",
        "visible"
       ]
      }
     },
     "cbde2d565d0240679d09fc2f40da2acd": {
      "model_module": "jupyter-leaflet",
      "model_module_version": "^0.13.2",
      "model_name": "LeafletAttributionControlModel",
      "state": {
       "_model_module_version": "^0.13.2",
       "_view_module_version": "^0.13.2",
       "options": [
        "position",
        "prefix"
       ],
       "position": "bottomright",
       "prefix": "ipyleaflet"
      }
     },
     "cbe2218a1f5d4450bd9c7be8a8d63d54": {
      "model_module": "ipytree",
      "model_module_version": "0.1.8",
      "model_name": "NodeModel",
      "state": {
       "_id": "0cd1e573-9bdc-4203-9876-3101c74bda24",
       "_model_module_version": "0.1.8",
       "_view_module_version": "0.1.8",
       "icon": "file",
       "name": "reduce_resolution.py"
      }
     },
     "cbe314ed886645e3a432050c0f46063c": {
      "model_module": "ipytree",
      "model_module_version": "0.1.8",
      "model_name": "NodeModel",
      "state": {
       "_id": "1d6a184f-6963-4e80-836c-daa09ffb0ab8",
       "_model_module_version": "0.1.8",
       "_view_module_version": "0.1.8",
       "icon": "file",
       "name": "us_ned_chili.py"
      }
     },
     "cc29c2536d984d4f84d48db8b256c7df": {
      "model_module": "ipytree",
      "model_module_version": "0.1.8",
      "model_name": "NodeModel",
      "state": {
       "_id": "51937f23-1a73-4c25-b6e1-2284977333b8",
       "_model_module_version": "0.1.8",
       "_view_module_version": "0.1.8",
       "icon": "file",
       "name": "landcover_cleanup.py"
      }
     },
     "cc2b6f17b6c4492cb41c66892f6248cb": {
      "model_module": "jupyter-leaflet",
      "model_module_version": "^0.13.2",
      "model_name": "LeafletTileLayerModel",
      "state": {
       "_model_module_version": "^0.13.2",
       "_view_module_version": "^0.13.2",
       "attribution": "&copy; <a href=\"http://www.openstreetmap.org/copyright\">OpenStreetMap</a>",
       "max_native_zoom": 18,
       "max_zoom": 19,
       "min_native_zoom": 0,
       "min_zoom": 1,
       "name": "HikeBike.HikeBike",
       "options": [
        "attribution",
        "detect_retina",
        "max_native_zoom",
        "max_zoom",
        "min_native_zoom",
        "min_zoom",
        "no_wrap",
        "tile_size",
        "tms"
       ],
       "url": "http://{s}.tiles.wmflabs.org/hikebike/{z}/{x}/{y}.png"
      }
     },
     "cce14eef78ef4440bdc5b1ffc22827f6": {
      "model_module": "ipytree",
      "model_module_version": "0.1.8",
      "model_name": "NodeModel",
      "state": {
       "_id": "586422bb-c930-4b0a-92d4-288e9a8e3234",
       "_model_module_version": "0.1.8",
       "_view_module_version": "0.1.8",
       "icon": "file",
       "name": "metadata.py"
      }
     },
     "cd45ab5e056d43888ba8621e432d6f93": {
      "model_module": "ipytree",
      "model_module_version": "0.1.8",
      "model_name": "NodeModel",
      "state": {
       "_id": "2a1dac33-78ee-44b7-83fa-4936ea1ad49f",
       "_model_module_version": "0.1.8",
       "_view_module_version": "0.1.8",
       "icon": "file",
       "name": "filtering_collection.py"
      }
     },
     "cd5e11a141844812b8f8beaf38af5604": {
      "model_module": "ipytree",
      "model_module_version": "0.1.8",
      "model_name": "NodeModel",
      "state": {
       "_id": "1f32a9cb-1d98-44ba-a911-bd8e69fa6da2",
       "_model_module_version": "0.1.8",
       "_view_module_version": "0.1.8",
       "icon": "file",
       "name": "add_new_attribute.py"
      }
     },
     "cd9f83c6e4a848108fd75024489906d7": {
      "model_module": "ipytree",
      "model_module_version": "0.1.8",
      "model_name": "NodeModel",
      "state": {
       "_id": "a13cfdc6-8c87-424f-ab28-7701fac08d1e",
       "_model_module_version": "0.1.8",
       "_view_module_version": "0.1.8",
       "icon": "file",
       "name": "minimum_bounding_geometry.py"
      }
     },
     "cdeba21430714e38b7b9fd25a8c772fb": {
      "model_module": "ipytree",
      "model_module_version": "0.1.8",
      "model_name": "NodeModel",
      "state": {
       "_id": "07662863-e598-4db6-81e8-bed9bc9d7f70",
       "_model_module_version": "0.1.8",
       "_view_module_version": "0.1.8",
       "icon": "file",
       "name": "us_census_datasets.py"
      }
     },
     "cecd4e03a04849a580faad00257a5f77": {
      "model_module": "ipytree",
      "model_module_version": "0.1.8",
      "model_name": "NodeModel",
      "state": {
       "_id": "1d8ae5e9-160e-430e-9108-ade971a9b0a9",
       "_model_module_version": "0.1.8",
       "_view_module_version": "0.1.8",
       "icon": "file",
       "name": "jrc_metadata.py"
      }
     },
     "ceec0371d3434e36a3f42b9c2a4669e5": {
      "model_module": "@jupyter-widgets/base",
      "model_module_version": "1.2.0",
      "model_name": "LayoutModel",
      "state": {}
     },
     "cf4440724e93423f9ca4675628f5699b": {
      "model_module": "ipytree",
      "model_module_version": "0.1.8",
      "model_name": "NodeModel",
      "state": {
       "_id": "f9010cac-e7aa-438a-896b-12b1ed4ea40f",
       "_model_module_version": "0.1.8",
       "_view_module_version": "0.1.8",
       "icon": "file",
       "name": "add_random_value_column.py"
      }
     },
     "cfa5e31b87e3459cbe590b249704147d": {
      "model_module": "@jupyter-widgets/controls",
      "model_module_version": "1.5.0",
      "model_name": "DescriptionStyleModel",
      "state": {
       "description_width": ""
      }
     },
     "d08c1911e40e4caca1f7ff8573fb68c2": {
      "model_module": "ipytree",
      "model_module_version": "0.1.8",
      "model_name": "NodeModel",
      "state": {
       "_id": "6b1f523e-db05-4bd8-a9e2-c15809413e86",
       "_model_module_version": "0.1.8",
       "_view_module_version": "0.1.8",
       "icon": "file",
       "name": "styled_layer_descriptors.py"
      }
     },
     "d093e2f8d57d4d1797f199739868fb1f": {
      "model_module": "ipytree",
      "model_module_version": "0.1.8",
      "model_name": "NodeModel",
      "state": {
       "_id": "195d9d15-6678-4861-9a7f-7df6fb88c686",
       "_model_module_version": "0.1.8",
       "_view_module_version": "0.1.8",
       "name": "users/doni",
       "nodes": [
        "IPY_MODEL_c23e39d71bb34aca82f94c5c9b6ff3df",
        "IPY_MODEL_edd082534b26443a941b67841e59c009",
        "IPY_MODEL_7d61b88177614bba8d9ec92d3b60f538",
        "IPY_MODEL_0f55780f4f1c4fac92dc9157096c43c2",
        "IPY_MODEL_23c470233adc49a6b023255c7e7523f2",
        "IPY_MODEL_6bcaa397c548498ea739c7a69b98e5dd"
       ]
      }
     },
     "d0ce1e5a64a545078470376bd011b758": {
      "model_module": "ipytree",
      "model_module_version": "0.1.8",
      "model_name": "NodeModel",
      "state": {
       "_id": "6f649039-f19e-49c4-bb37-9cd40df7e60a",
       "_model_module_version": "0.1.8",
       "_view_module_version": "0.1.8",
       "icon": "file",
       "name": "image_clipping.py"
      }
     },
     "d1993f993c684c77a6067ad87b7cb71c": {
      "model_module": "ipytree",
      "model_module_version": "0.1.8",
      "model_name": "NodeModel",
      "state": {
       "_id": "6ef874f8-ab90-4a77-929d-44eba6b2fe67",
       "_model_module_version": "0.1.8",
       "_view_module_version": "0.1.8",
       "icon": "file",
       "name": "landsat_surface_reflectance.py"
      }
     },
     "d2037319cd754c9ba0332c2ef8012ca5": {
      "model_module": "@jupyter-widgets/controls",
      "model_module_version": "1.5.0",
      "model_name": "CheckboxModel",
      "state": {
       "description": "All layers on/off",
       "disabled": false,
       "indent": false,
       "layout": "IPY_MODEL_2d2f2fabfc1c4ea1834e812357906b30",
       "style": "IPY_MODEL_c2506d97a63343f3a9791d733c39472d",
       "value": false
      }
     },
     "d28ea55b112e406198671b7ec22ffe7b": {
      "model_module": "ipytree",
      "model_module_version": "0.1.8",
      "model_name": "NodeModel",
      "state": {
       "_id": "29547264-9c15-4587-866f-3bfdd9de7e4e",
       "_model_module_version": "0.1.8",
       "_view_module_version": "0.1.8",
       "icon": "file",
       "name": "composite_bands.py"
      }
     },
     "d2bb6ce2c5224c629e9bb5deb4121190": {
      "model_module": "@jupyter-widgets/base",
      "model_module_version": "1.2.0",
      "model_name": "LayoutModel",
      "state": {
       "height": "18px",
       "width": "25ex"
      }
     },
     "d4ad4d3e3d9a4b988032289e396abec5": {
      "model_module": "@jupyter-widgets/controls",
      "model_module_version": "1.5.0",
      "model_name": "FloatSliderModel",
      "state": {
       "layout": "IPY_MODEL_9bbe93ee5a4d4e8aae4c31af37dc524f",
       "max": 1,
       "readout": false,
       "step": 0.01,
       "style": "IPY_MODEL_c949790550744d8ea239d2709ae6e1a4",
       "value": 1
      }
     },
     "d4f4e238ad05427baaff63d7b694bbe3": {
      "model_module": "@jupyter-widgets/controls",
      "model_module_version": "1.5.0",
      "model_name": "ToggleButtonModel",
      "state": {
       "button_style": "primary",
       "icon": "bar-chart",
       "layout": "IPY_MODEL_71eb5f39ea734f0eb2b34203fb03d972",
       "style": "IPY_MODEL_0c6622bf8dbe4c54bd71511bd53ec131",
       "tooltip": "Plotting"
      }
     },
     "d4fddefd89b24960b3b2105d2909ee1e": {
      "model_module": "@jupyter-widgets/base",
      "model_module_version": "1.2.0",
      "model_name": "LayoutModel",
      "state": {
       "padding": "0px 8px 0px 8px"
      }
     },
     "d51c97223b514d2a875425dfa55a913c": {
      "model_module": "@jupyter-widgets/base",
      "model_module_version": "1.2.0",
      "model_name": "LayoutModel",
      "state": {
       "height": "18px",
       "width": "25ex"
      }
     },
     "d522e0a45c3349da9e37e7379854880b": {
      "model_module": "@jupyter-widgets/base",
      "model_module_version": "1.2.0",
      "model_name": "LayoutModel",
      "state": {
       "width": "310px"
      }
     },
     "d5b4edd8495b4798b0783fe7839a4317": {
      "model_module": "ipytree",
      "model_module_version": "0.1.8",
      "model_name": "NodeModel",
      "state": {
       "_id": "40ac8e8d-cbfc-4844-8af0-6898d5830da6",
       "_model_module_version": "0.1.8",
       "_view_module_version": "0.1.8",
       "icon": "file",
       "name": "us_census_zip_code.py"
      }
     },
     "d5d696a72f6c4e6f903e89c3c95bc443": {
      "model_module": "ipytree",
      "model_module_version": "0.1.8",
      "model_name": "NodeModel",
      "state": {
       "_id": "dd10d2af-9cc8-4144-8c35-8caa7f86d7a2",
       "_model_module_version": "0.1.8",
       "_view_module_version": "0.1.8",
       "icon": "file",
       "name": "alos_chili.py"
      }
     },
     "d5e0c3e966294bca9e2fd8bd8bc66723": {
      "model_module": "ipytree",
      "model_module_version": "0.1.8",
      "model_name": "NodeModel",
      "state": {
       "_id": "c3575e76-83f5-4d3a-b1b3-d3d428179c0e",
       "_model_module_version": "0.1.8",
       "_view_module_version": "0.1.8",
       "icon": "file",
       "name": "2_water_occurrence_change_intensity.py"
      }
     },
     "d651ab177fe448c89941b37c4c4e0164": {
      "model_module": "ipytree",
      "model_module_version": "0.1.8",
      "model_name": "NodeModel",
      "state": {
       "_id": "9511f916-e509-4e80-80f2-eadf8d755905",
       "_model_module_version": "0.1.8",
       "_view_module_version": "0.1.8",
       "icon": "file",
       "name": "filtering.py"
      }
     },
     "d6ada7884b6a48afbe0afefc9e8c8062": {
      "model_module": "@jupyter-widgets/controls",
      "model_module_version": "1.5.0",
      "model_name": "DescriptionStyleModel",
      "state": {
       "description_width": ""
      }
     },
     "d766f86262694793a48518647b6d7216": {
      "model_module": "@jupyter-widgets/controls",
      "model_module_version": "1.5.0",
      "model_name": "HBoxModel",
      "state": {
       "children": [
        "IPY_MODEL_e342dc5d879640009fe136f22450cc9e",
        "IPY_MODEL_e7251975bdb84062a883e517588248af"
       ],
       "layout": "IPY_MODEL_bcd3ae64ce98422a8a3a215fa648b77e"
      }
     },
     "d858445ab4d248e6b7551f2b653ee0c6": {
      "model_module": "ipytree",
      "model_module_version": "0.1.8",
      "model_name": "NodeModel",
      "state": {
       "_id": "a0bc5c36-2925-4d45-87e6-fb632e29a9f6",
       "_model_module_version": "0.1.8",
       "_view_module_version": "0.1.8",
       "icon": "file",
       "name": "01_hello_world.py"
      }
     },
     "d88fe61b72c74a82a6ed09f586452b3e": {
      "model_module": "ipytree",
      "model_module_version": "0.1.8",
      "model_name": "NodeModel",
      "state": {
       "_id": "d785e187-885c-434c-be20-730cdb92caad",
       "_model_module_version": "0.1.8",
       "_view_module_version": "0.1.8",
       "icon": "file",
       "name": "filtering_by_calendar_range.py"
      }
     },
     "d8c21c958cfc44a195d05a4d3db6c004": {
      "model_module": "ipytree",
      "model_module_version": "0.1.8",
      "model_name": "NodeModel",
      "state": {
       "_id": "0c5d38c3-f3e3-4ccd-a0b8-5d863d1997d0",
       "_model_module_version": "0.1.8",
       "_view_module_version": "0.1.8",
       "icon": "file",
       "name": "centroid.py"
      }
     },
     "d9fec46616fc4d39a38f37ffdb4c9937": {
      "model_module": "ipytree",
      "model_module_version": "0.1.8",
      "model_name": "NodeModel",
      "state": {
       "_id": "5e6e65a0-4202-4a89-8e13-da715ad4e844",
       "_model_module_version": "0.1.8",
       "_view_module_version": "0.1.8",
       "icon": "file",
       "name": "hillshade.py"
      }
     },
     "da49f829001e40c6b5bc549308d90400": {
      "model_module": "jupyter-leaflet",
      "model_module_version": "^0.13.2",
      "model_name": "LeafletTileLayerModel",
      "state": {
       "_model_module_version": "^0.13.2",
       "_view_module_version": "^0.13.2",
       "attribution": "Map tiles by <a href=\"http://stamen.com/\">Stamen Design</a>, under <a href=\"http://creativecommons.org/licenses/by/3.0\">CC BY 3.0</a>. Data by <a href=\"http://openstreetmap.org/\">OpenStreetMap</a>, under <a href=\"http://creativecommons.org/licenses/by-sa/3.0\">CC BY SA</a>.",
       "max_native_zoom": 18,
       "min_native_zoom": 0,
       "name": "Stamen.Terrain",
       "options": [
        "attribution",
        "detect_retina",
        "max_native_zoom",
        "max_zoom",
        "min_native_zoom",
        "min_zoom",
        "no_wrap",
        "tile_size",
        "tms"
       ],
       "url": "https://stamen-tiles-a.a.ssl.fastly.net/terrain/{z}/{x}/{y}.png"
      }
     },
     "da4ca04821c34d41be5df8119f2d19ae": {
      "model_module": "ipytree",
      "model_module_version": "0.1.8",
      "model_name": "NodeModel",
      "state": {
       "_id": "d5827824-ab1c-4df1-8800-d845082a45ae",
       "_model_module_version": "0.1.8",
       "_view_module_version": "0.1.8",
       "icon": "file",
       "name": "metadata.py"
      }
     },
     "dac2f45e87ee485ebd7a78fab3ebde42": {
      "model_module": "ipytree",
      "model_module_version": "0.1.8",
      "model_name": "NodeModel",
      "state": {
       "_id": "541e374d-b5ac-4306-bcb6-7275d487caa9",
       "_model_module_version": "0.1.8",
       "_view_module_version": "0.1.8",
       "icon": "file",
       "name": "03_finding_images.py"
      }
     },
     "dac8214919ec452e88573d58e17eaee2": {
      "model_module": "ipytree",
      "model_module_version": "0.1.8",
      "model_name": "NodeModel",
      "state": {
       "_id": "6c937973-3d60-4493-8241-72bbd38a7ece",
       "_model_module_version": "0.1.8",
       "_view_module_version": "0.1.8",
       "icon": "file",
       "name": "get_image_centroid.py"
      }
     },
     "db67e67e790542d4ac07d8d6818eba3c": {
      "model_module": "ipytree",
      "model_module_version": "0.1.8",
      "model_name": "NodeModel",
      "state": {
       "_id": "4ce3ad25-4c3a-4b99-a5dc-8bc874b2f727",
       "_model_module_version": "0.1.8",
       "_view_module_version": "0.1.8",
       "icon": "file",
       "name": "stats_of_image_regions.py"
      }
     },
     "db7bf0789269412c8dd499b25be56057": {
      "model_module": "@jupyter-widgets/controls",
      "model_module_version": "1.5.0",
      "model_name": "CheckboxModel",
      "state": {
       "description": "Google Maps",
       "disabled": false,
       "indent": false,
       "layout": "IPY_MODEL_c54078b3eb694e19bcfa04ab80c30062",
       "style": "IPY_MODEL_47d3336ee689454f9b61941ab2a08e97",
       "value": true
      }
     },
     "db8a0cbb8408405da868a8149d13142c": {
      "model_module": "@jupyter-widgets/base",
      "model_module_version": "1.2.0",
      "model_name": "LayoutModel",
      "state": {}
     },
     "dc340f0083cf4166938fade33fde8d85": {
      "model_module": "ipytree",
      "model_module_version": "0.1.8",
      "model_name": "NodeModel",
      "state": {
       "_id": "e12e39e5-c987-428b-a0d5-48166df60b64",
       "_model_module_version": "0.1.8",
       "_view_module_version": "0.1.8",
       "name": "Join",
       "nodes": [
        "IPY_MODEL_52103a85d8ec433995bedf1c532071ae",
        "IPY_MODEL_1cb66bbc51174fcca05f2be92b218a34",
        "IPY_MODEL_6fb6adf6b4e84b1cb2b0633c8450df03",
        "IPY_MODEL_bcf7ad2cb1664333b9d066d5fabd7fb9",
        "IPY_MODEL_50ddb17d0f814593a8a37c0b18a16067",
        "IPY_MODEL_1be0f04b13244433a1d5d29e2d5a6f64",
        "IPY_MODEL_02e3b3dfa20d4de4afaaabb39dbcb176"
       ],
       "opened": false
      }
     },
     "dc4b17b2e41d4afc925f715562b067d9": {
      "model_module": "ipytree",
      "model_module_version": "0.1.8",
      "model_name": "NodeModel",
      "state": {
       "_id": "9058913f-860f-43a6-a272-73787b66d1b8",
       "_model_module_version": "0.1.8",
       "_view_module_version": "0.1.8",
       "name": "Gena",
       "nodes": [
        "IPY_MODEL_197e47a516fb41c19b527921958f161e",
        "IPY_MODEL_2b9cff78d4da43168ad2dc2a7be9dfe3",
        "IPY_MODEL_fd1cf50f57ba4fd9a110f81642883063",
        "IPY_MODEL_c5cf5dd6c8e049a9a0cf2740a79ea717",
        "IPY_MODEL_0d5919a96c7f487cb5449ca223211f39",
        "IPY_MODEL_209df0f679854245a8e81b200f120dc0",
        "IPY_MODEL_98bf5794aa354e32bf1cc7636885c4bb",
        "IPY_MODEL_5786a1215a5c4690967e3846dc03af20",
        "IPY_MODEL_5e6ca9b0ea2f49068297e7807b1f0d42",
        "IPY_MODEL_73395b1b2349482fb717a816a3a95d2d",
        "IPY_MODEL_b0170a87f1d742fdbc1250d27f464b8d",
        "IPY_MODEL_bf562feb4da548f5a5692e0c07d0d7d3",
        "IPY_MODEL_6473c9d2b1c74d129a199e4088493671",
        "IPY_MODEL_f8112100f27d4b8885cf80779e560697"
       ],
       "opened": false
      }
     },
     "dcde89619a2c46419347e7ae2e478c04": {
      "model_module": "ipytree",
      "model_module_version": "0.1.8",
      "model_name": "NodeModel",
      "state": {
       "_id": "ccb7d0cf-4c60-4e10-872c-02a53a82f136",
       "_model_module_version": "0.1.8",
       "_view_module_version": "0.1.8",
       "icon": "file",
       "name": "landsat_radiance.py"
      }
     },
     "dd07718a8b894b6488395f0fa3c18af8": {
      "model_module": "ipytree",
      "model_module_version": "0.1.8",
      "model_name": "NodeModel",
      "state": {
       "_id": "1073e7da-5735-4d73-a376-0cf434156fe9",
       "_model_module_version": "0.1.8",
       "_view_module_version": "0.1.8",
       "icon": "file",
       "name": "us_epa_ecoregions.py"
      }
     },
     "dde33cddc63b45d7bcdcc4e425ffe232": {
      "model_module": "ipytree",
      "model_module_version": "0.1.8",
      "model_name": "NodeModel",
      "state": {
       "_id": "0d745a46-40ef-4f8b-a152-a7e54604ade1",
       "_model_module_version": "0.1.8",
       "_view_module_version": "0.1.8",
       "icon": "file",
       "name": "spectral_unmixing.py"
      }
     },
     "dde5958c35004d32ba1b798c36a826f7": {
      "model_module": "@jupyter-widgets/controls",
      "model_module_version": "1.5.0",
      "model_name": "GridBoxModel",
      "state": {
       "children": [
        "IPY_MODEL_bc3356f738f844539aeb86e85984f9d2",
        "IPY_MODEL_efd772b9a81547af805302d3084495ac",
        "IPY_MODEL_298352bf57b04ea8af3ae928143b574f"
       ],
       "layout": "IPY_MODEL_419f3714bdee495386898f0c8fe4da14"
      }
     },
     "ddef3ade84614630ad96eb9af959e363": {
      "model_module": "ipytree",
      "model_module_version": "0.1.8",
      "model_name": "NodeModel",
      "state": {
       "_id": "d1760fa7-31cf-4b77-888f-b6da0b410e8a",
       "_model_module_version": "0.1.8",
       "_view_module_version": "0.1.8",
       "name": "HowEarthEngineWorks",
       "nodes": [
        "IPY_MODEL_390b4c3211194be8bd33ed3cebcc1d29",
        "IPY_MODEL_6262a164ac9f4895ac6b884b9dd8c37b",
        "IPY_MODEL_1b2e971501ab4dc2b19b217452e78c2e"
       ],
       "opened": false
      }
     },
     "de0f28f9d85e438b8b96aaaa04d09eae": {
      "model_module": "jupyter-leaflet",
      "model_module_version": "^0.13.2",
      "model_name": "LeafletSearchControlModel",
      "state": {
       "_model_module": "jupyter-leaflet",
       "_model_module_version": "^0.13.2",
       "_view_count": null,
       "_view_module": "jupyter-leaflet",
       "_view_module_version": "^0.13.2",
       "marker": "IPY_MODEL_a652203c4e0944bb80872fce49da0d51",
       "options": [
        "animate_location",
        "auto_collapse",
        "auto_type",
        "found_style",
        "jsonp_param",
        "position",
        "property_loc",
        "property_name",
        "url",
        "zoom"
       ],
       "position": "topleft",
       "url": "https://nominatim.openstreetmap.org/search?format=json&q={s}",
       "zoom": 5
      }
     },
     "de1a54c120c741e08551cfe0898596da": {
      "model_module": "ipytree",
      "model_module_version": "0.1.8",
      "model_name": "NodeModel",
      "state": {
       "_id": "af30f354-7dc2-42e1-84f4-5dec024e0f10",
       "_model_module_version": "0.1.8",
       "_view_module_version": "0.1.8",
       "icon": "file",
       "name": "get_band_name_and_type.py"
      }
     },
     "de858fe53d464e5eaf58d4353acdd730": {
      "model_module": "@jupyter-widgets/base",
      "model_module_version": "1.2.0",
      "model_name": "LayoutModel",
      "state": {
       "width": "80px"
      }
     },
     "ded679fb55f3483f9384b2c449139696": {
      "model_module": "@jupyter-widgets/controls",
      "model_module_version": "1.5.0",
      "model_name": "LinkModel",
      "state": {
       "source": [
        "IPY_MODEL_b240e1d9866347e8bb6d66a8bfa8670b",
        "value"
       ],
       "target": [
        "IPY_MODEL_2439ff2df8b84200bc1a61d3c4bbb264",
        "visible"
       ]
      }
     },
     "df4516ce1313442c9aa9bdc81643a627": {
      "model_module": "@jupyter-widgets/controls",
      "model_module_version": "1.5.0",
      "model_name": "DescriptionStyleModel",
      "state": {
       "description_width": ""
      }
     },
     "dfbd8e9eed43420694b6ed341ebb4e24": {
      "model_module": "ipytree",
      "model_module_version": "0.1.8",
      "model_name": "NodeModel",
      "state": {
       "_id": "db3a642d-60e0-4eca-ae17-9657e5f8a26f",
       "_model_module_version": "0.1.8",
       "_view_module_version": "0.1.8",
       "icon": "file",
       "name": "set_image_properties.py"
      }
     },
     "e037206c1fa74281b855e140f1c59c01": {
      "model_module": "@jupyter-widgets/controls",
      "model_module_version": "1.5.0",
      "model_name": "LinkModel",
      "state": {
       "source": [
        "IPY_MODEL_13063bd870b44c5fb96eeaa3d2623e40",
        "value"
       ],
       "target": [
        "IPY_MODEL_77a76290eb7f4d2ea5cd24f714684a23",
        "visible"
       ]
      }
     },
     "e05da2c57175403e85d3abf195374d9c": {
      "model_module": "ipytree",
      "model_module_version": "0.1.8",
      "model_name": "NodeModel",
      "state": {
       "_id": "30191402-4477-4a9b-a5c7-506465cefd0b",
       "_model_module_version": "0.1.8",
       "_view_module_version": "0.1.8",
       "icon": "file",
       "name": "06_reducing.py"
      }
     },
     "e1852ed9bd7c4bc59f09c151ef6735d2": {
      "model_module": "ipytree",
      "model_module_version": "0.1.8",
      "model_name": "NodeModel",
      "state": {
       "_id": "10fdb598-6ee9-40c0-866a-db4f3f5359b2",
       "_model_module_version": "0.1.8",
       "_view_module_version": "0.1.8",
       "icon": "file",
       "name": "sentinel-2.py"
      }
     },
     "e1a92e0298b04d25b6b73a4251ca15c0": {
      "model_module": "jupyter-leaflet",
      "model_module_version": "^0.13.2",
      "model_name": "LeafletTileLayerModel",
      "state": {
       "_model_module_version": "^0.13.2",
       "_view_module_version": "^0.13.2",
       "attribution": "Google",
       "max_native_zoom": 18,
       "min_native_zoom": 0,
       "name": "Google Maps",
       "options": [
        "attribution",
        "detect_retina",
        "max_native_zoom",
        "max_zoom",
        "min_native_zoom",
        "min_zoom",
        "no_wrap",
        "tile_size",
        "tms"
       ],
       "url": "https://mt1.google.com/vt/lyrs=m&x={x}&y={y}&z={z}"
      }
     },
     "e1b75097b73d47fbb581a6dae18477c3": {
      "model_module": "@jupyter-widgets/controls",
      "model_module_version": "1.5.0",
      "model_name": "CheckboxModel",
      "state": {
       "description": "All layers on/off",
       "disabled": false,
       "indent": false,
       "layout": "IPY_MODEL_ba8dff6b37264c9aacff8a30df18ee00",
       "style": "IPY_MODEL_9657da6ed4144fc69ab5ad6232493b78",
       "value": false
      }
     },
     "e290f0a63791421a9fa0babdafe7f158": {
      "model_module": "ipytree",
      "model_module_version": "0.1.8",
      "model_name": "NodeModel",
      "state": {
       "_id": "f3322259-40a6-4c46-94cc-cfbfe458b9dd",
       "_model_module_version": "0.1.8",
       "_view_module_version": "0.1.8",
       "name": "Segmentation",
       "nodes": [
        "IPY_MODEL_6681bf466f44492b88a98bd84bd16323"
       ],
       "opened": false
      }
     },
     "e2a89afd82ab467ab1626c70e226606f": {
      "model_module": "ipytree",
      "model_module_version": "0.1.8",
      "model_name": "NodeModel",
      "state": {
       "_id": "cda923c7-6b4c-405a-b058-b356915cae2d",
       "_model_module_version": "0.1.8",
       "_view_module_version": "0.1.8",
       "icon": "file",
       "name": "image_stats_by_band.py"
      }
     },
     "e2f4097d83bc4212becb6aecabcc5a14": {
      "model_module": "jupyter-leaflet",
      "model_module_version": "^0.13.2",
      "model_name": "LeafletTileLayerModel",
      "state": {
       "_model_module_version": "^0.13.2",
       "_view_module_version": "^0.13.2",
       "attribution": "Google Earth Engine",
       "max_native_zoom": 18,
       "min_native_zoom": 0,
       "name": "glims_polygons",
       "options": [
        "attribution",
        "detect_retina",
        "max_native_zoom",
        "max_zoom",
        "min_native_zoom",
        "min_zoom",
        "no_wrap",
        "tile_size",
        "tms"
       ],
       "url": "https://earthengine.googleapis.com/v1alpha/projects/earthengine-legacy/maps/0a8cfbfd1ff0a1dc29882cd2a3bb8770-d9f2b12abb4f1717ccebca68a60d2b6a/tiles/{z}/{x}/{y}"
      }
     },
     "e301edc244ab4aa5aacc34409b3b148c": {
      "model_module": "@jupyter-widgets/base",
      "model_module_version": "1.2.0",
      "model_name": "LayoutModel",
      "state": {}
     },
     "e342dc5d879640009fe136f22450cc9e": {
      "model_module": "@jupyter-widgets/controls",
      "model_module_version": "1.5.0",
      "model_name": "ButtonModel",
      "state": {
       "button_style": "primary",
       "description": "import",
       "layout": "IPY_MODEL_a5bca1e9d59449338646ecccb65dc435",
       "style": "IPY_MODEL_2d4e7e8b2f8e4a6083442d820b5465d7",
       "tooltip": "Click to import the selected asset"
      }
     },
     "e3607a521f1b481ca6c6ae87234089a8": {
      "model_module": "ipytree",
      "model_module_version": "0.1.8",
      "model_name": "NodeModel",
      "state": {
       "_id": "f62ddbcc-abb0-49f0-b1ea-cd32a4f84de5",
       "_model_module_version": "0.1.8",
       "_view_module_version": "0.1.8",
       "icon": "file",
       "name": "landsat_simple_composite.py"
      }
     },
     "e3f540587973447195b7a12df83edc28": {
      "model_module": "jupyter-leaflet",
      "model_module_version": "^0.13.2",
      "model_name": "LeafletTileLayerModel",
      "state": {
       "_model_module_version": "^0.13.2",
       "_view_module_version": "^0.13.2",
       "attribution": "Google",
       "max_native_zoom": 18,
       "min_native_zoom": 0,
       "name": "Google Terrain",
       "options": [
        "attribution",
        "detect_retina",
        "max_native_zoom",
        "max_zoom",
        "min_native_zoom",
        "min_zoom",
        "no_wrap",
        "tile_size",
        "tms"
       ],
       "url": "https://mt1.google.com/vt/lyrs=p&x={x}&y={y}&z={z}"
      }
     },
     "e41e3ce4510a40f1b053542c58bee5a5": {
      "model_module": "@jupyter-widgets/controls",
      "model_module_version": "1.5.0",
      "model_name": "CheckboxModel",
      "state": {
       "description": "Google Satellite",
       "disabled": false,
       "indent": false,
       "layout": "IPY_MODEL_c4b607f121b84a26800d9528c15ff214",
       "style": "IPY_MODEL_0d9254b9e0194908856932fb49e48f1f",
       "value": true
      }
     },
     "e4b533b033584d8ab703210cfe424561": {
      "model_module": "jupyter-leaflet",
      "model_module_version": "^0.13.2",
      "model_name": "LeafletTileLayerModel",
      "state": {
       "_model_module_version": "^0.13.2",
       "_view_module_version": "^0.13.2",
       "attribution": "\nImagery provided by services from the Global Imagery Browse Services (GIBS), operated by the NASA/GSFC/Earth Science Data and Information System (<a href=\"https://earthdata.nasa.gov\">ESDIS</a>) with funding provided by NASA/HQ.\n",
       "max_native_zoom": 18,
       "max_zoom": 9,
       "min_native_zoom": 0,
       "min_zoom": 1,
       "name": "NASAGIBS.ModisTerraBands721CR",
       "options": [
        "attribution",
        "detect_retina",
        "max_native_zoom",
        "max_zoom",
        "min_native_zoom",
        "min_zoom",
        "no_wrap",
        "tile_size",
        "tms"
       ],
       "url": "https://gibs.earthdata.nasa.gov/wmts/epsg3857/best/MODIS_Terra_CorrectedReflectance_Bands721/default/2021-04-27/GoogleMapsCompatible_Level9/{z}/{y}/{x}.jpg"
      }
     },
     "e4ceab7221614de78d0def7f64064d6a": {
      "model_module": "ipytree",
      "model_module_version": "0.1.8",
      "model_name": "NodeModel",
      "state": {
       "_id": "d4890c6f-4209-4b5c-a5ed-abb7fd876714",
       "_model_module_version": "0.1.8",
       "_view_module_version": "0.1.8",
       "icon": "file",
       "name": "image_displacement.py"
      }
     },
     "e52ecf63c69d44ad9bc4bd4fa5f38b74": {
      "model_module": "@jupyter-widgets/controls",
      "model_module_version": "1.5.0",
      "model_name": "HBoxModel",
      "state": {
       "children": [
        "IPY_MODEL_078c9d64f0d9400dac6656dcb3aed92f",
        "IPY_MODEL_0e1040231c68441eb13903381a5abfdc",
        "IPY_MODEL_2c21e39412344904b1369a3e8ee13707"
       ],
       "layout": "IPY_MODEL_ed1bc19a661f4bcc8805310a77d3a681"
      }
     },
     "e5a9d8e36d964d44a5537495b9e23915": {
      "model_module": "ipyevents",
      "model_module_version": "1.8.1",
      "model_name": "EventModel",
      "state": {
       "_supported_key_events": [
        "keydown",
        "keyup"
       ],
       "_supported_mouse_events": [
        "click",
        "auxclick",
        "dblclick",
        "mouseenter",
        "mouseleave",
        "mousedown",
        "mouseup",
        "mousemove",
        "wheel",
        "contextmenu",
        "dragstart",
        "drag",
        "dragend",
        "dragenter",
        "dragover",
        "dragleave",
        "drop"
       ],
       "_view_module": "@jupyter-widgets/controls",
       "_view_module_version": "1.5.0",
       "source": "IPY_MODEL_18de97acf15948ce8f743b8eacb4c315",
       "throttle_or_debounce": "",
       "watched_events": [
        "mouseenter",
        "mouseleave"
       ],
       "xy_coordinate_system": ""
      }
     },
     "e6a6ecc634814c2091dd0f2741721edf": {
      "model_module": "@jupyter-widgets/base",
      "model_module_version": "1.2.0",
      "model_name": "LayoutModel",
      "state": {}
     },
     "e6d15c20f76849f48b57e0386a91b38c": {
      "model_module": "jupyter-leaflet",
      "model_module_version": "^0.13.2",
      "model_name": "LeafletTileLayerModel",
      "state": {
       "_model_module_version": "^0.13.2",
       "_view_module_version": "^0.13.2",
       "attribution": "\nImagery provided by services from the Global Imagery Browse Services (GIBS), operated by the NASA/GSFC/Earth Science Data and Information System (<a href=\"https://earthdata.nasa.gov\">ESDIS</a>) with funding provided by NASA/HQ.\n",
       "max_native_zoom": 18,
       "max_zoom": 8,
       "min_native_zoom": 0,
       "min_zoom": 1,
       "name": "NASAGIBS.BlueMarble",
       "options": [
        "attribution",
        "detect_retina",
        "max_native_zoom",
        "max_zoom",
        "min_native_zoom",
        "min_zoom",
        "no_wrap",
        "tile_size",
        "tms"
       ],
       "url": "https://gibs.earthdata.nasa.gov/wmts/epsg3857/best/BlueMarble_NextGeneration/default/EPSG3857_500m/{z}/{y}/{x}.jpeg"
      }
     },
     "e7251975bdb84062a883e517588248af": {
      "model_module": "@jupyter-widgets/controls",
      "model_module_version": "1.5.0",
      "model_name": "TextModel",
      "state": {
       "layout": "IPY_MODEL_a3ef3fc070e143bb9d61adbc4da0c9ff",
       "style": "IPY_MODEL_efb55ac6a89e4bfe9c9545c930d15b80",
       "value": "ee.FeatureCollection('users/doni/glims_polygons')"
      }
     },
     "e74fdaf8feb84e0ab42e38bfcbfe5e31": {
      "model_module": "@jupyter-widgets/base",
      "model_module_version": "1.2.0",
      "model_name": "LayoutModel",
      "state": {
       "height": "18px",
       "width": "25ex"
      }
     },
     "e75180465f694021b52bcd07cc6cbbad": {
      "model_module": "ipytree",
      "model_module_version": "0.1.8",
      "model_name": "NodeModel",
      "state": {
       "_id": "7d57221d-b728-4efd-9722-6d06518aad75",
       "_model_module_version": "0.1.8",
       "_view_module_version": "0.1.8",
       "icon": "file",
       "name": "stats_by_group.py"
      }
     },
     "e75ea3e9b95f4fb1860191df4e5fd3a5": {
      "model_module": "ipytree",
      "model_module_version": "0.1.8",
      "model_name": "NodeModel",
      "state": {
       "_id": "62ead6ee-9e16-4ae5-a290-b886dc616890",
       "_model_module_version": "0.1.8",
       "_view_module_version": "0.1.8",
       "icon": "file",
       "name": "remove_colors.py"
      }
     },
     "e7a423e2a1b54e5a9c9498142659d1c4": {
      "model_module": "@jupyter-widgets/controls",
      "model_module_version": "1.5.0",
      "model_name": "LinkModel",
      "state": {
       "source": [
        "IPY_MODEL_95d0d285b61f477080d2f3289683128f",
        "value"
       ],
       "target": [
        "IPY_MODEL_77a76290eb7f4d2ea5cd24f714684a23",
        "visible"
       ]
      }
     },
     "e86b1116c3ed45248d39f621db31356c": {
      "model_module": "@jupyter-widgets/controls",
      "model_module_version": "1.5.0",
      "model_name": "DescriptionStyleModel",
      "state": {
       "description_width": ""
      }
     },
     "e89e536b69bc40ff82ae712aa0a50286": {
      "model_module": "@jupyter-widgets/controls",
      "model_module_version": "1.5.0",
      "model_name": "FloatSliderModel",
      "state": {
       "layout": "IPY_MODEL_22497027e80044a5a5900da3deb6dac8",
       "max": 1,
       "readout": false,
       "step": 0.01,
       "style": "IPY_MODEL_0b39493c7ecc45c49b794a0815f3e418",
       "value": 1
      }
     },
     "e8d699a21c794a2f85eb7ecbfb454cc9": {
      "model_module": "@jupyter-widgets/base",
      "model_module_version": "1.2.0",
      "model_name": "LayoutModel",
      "state": {
       "padding": "0px 8px 0px 8px"
      }
     },
     "e8ec20a98bb24cc89c515b31d158d7cd": {
      "model_module": "@jupyter-widgets/controls",
      "model_module_version": "1.5.0",
      "model_name": "SliderStyleModel",
      "state": {
       "description_width": ""
      }
     },
     "e8f564456ac5477ca5c6d4ea44762f23": {
      "model_module": "ipytree",
      "model_module_version": "0.1.8",
      "model_name": "NodeModel",
      "state": {
       "_id": "a9b64897-e21c-4644-85d9-7bbbf3542f86",
       "_model_module_version": "0.1.8",
       "_view_module_version": "0.1.8",
       "icon": "file",
       "name": "alos_topo_diversity.py"
      }
     },
     "e93f7104999f4be988e9ab63c44a8b19": {
      "model_module": "ipytree",
      "model_module_version": "0.1.8",
      "model_name": "NodeModel",
      "state": {
       "_id": "3d78062c-e46a-4955-a96c-56880f3ec527",
       "_model_module_version": "0.1.8",
       "_view_module_version": "0.1.8",
       "icon": "file",
       "name": "connected_pixel_count.py"
      }
     },
     "ea1814c7f3c840d0bc19927857b70306": {
      "model_module": "@jupyter-widgets/base",
      "model_module_version": "1.2.0",
      "model_name": "LayoutModel",
      "state": {
       "height": "25px",
       "padding": "0px",
       "width": "25px"
      }
     },
     "eb226247436143d58d393d21d5cddecd": {
      "model_module": "@jupyter-widgets/base",
      "model_module_version": "1.2.0",
      "model_name": "LayoutModel",
      "state": {}
     },
     "eb365f35623042e8979d2099836cfa25": {
      "model_module": "@jupyter-widgets/base",
      "model_module_version": "1.2.0",
      "model_name": "LayoutModel",
      "state": {
       "width": "80px"
      }
     },
     "eb39596d42934a6fb364ec5a02539a7e": {
      "model_module": "ipytree",
      "model_module_version": "0.1.8",
      "model_name": "NodeModel",
      "state": {
       "_id": "410a54a0-ac1c-439f-bca3-0e842031cf3c",
       "_model_module_version": "0.1.8",
       "_view_module_version": "0.1.8",
       "icon": "file",
       "name": "clipping.py"
      }
     },
     "eb96902bf8fe4cb781ae0efe93d08398": {
      "model_module": "ipytree",
      "model_module_version": "0.1.8",
      "model_name": "NodeModel",
      "state": {
       "_id": "1aebae51-7c84-4f5f-9060-3e850aa0037c",
       "_model_module_version": "0.1.8",
       "_view_module_version": "0.1.8",
       "icon": "file",
       "name": "landsat_cloud_score.py"
      }
     },
     "ec00e7d5084744a5a3a26f6e9f72b6fb": {
      "model_module": "@jupyter-widgets/controls",
      "model_module_version": "1.5.0",
      "model_name": "DescriptionStyleModel",
      "state": {
       "description_width": ""
      }
     },
     "ec149aeffc994800a6d26e71f60cee88": {
      "model_module": "ipytree",
      "model_module_version": "0.1.8",
      "model_name": "NodeModel",
      "state": {
       "_id": "6092f2ad-9f82-4d04-9212-1e2b01ed8595",
       "_model_module_version": "0.1.8",
       "_view_module_version": "0.1.8",
       "icon": "file",
       "name": "quality_mosaic.py"
      }
     },
     "ec6e27a4266d468d8eda5844d67b4cb2": {
      "model_module": "@jupyter-widgets/base",
      "model_module_version": "1.2.0",
      "model_name": "LayoutModel",
      "state": {
       "max_width": "310px"
      }
     },
     "ec951a8a6abc486082da6374849a21ea": {
      "model_module": "@jupyter-widgets/controls",
      "model_module_version": "1.5.0",
      "model_name": "ButtonModel",
      "state": {
       "description": "Cancel",
       "layout": "IPY_MODEL_77b8bf33867d434cb92cec412e034f56",
       "style": "IPY_MODEL_3b9dc0e1e94c413292da670fe4d3b036"
      }
     },
     "ed15e3ebe04f43cc8f4fe35cb94c1e79": {
      "model_module": "@jupyter-widgets/base",
      "model_module_version": "1.2.0",
      "model_name": "LayoutModel",
      "state": {
       "padding": "0px 8px 0px 8px"
      }
     },
     "ed1bc19a661f4bcc8805310a77d3a681": {
      "model_module": "@jupyter-widgets/base",
      "model_module_version": "1.2.0",
      "model_name": "LayoutModel",
      "state": {
       "padding": "0px 8px 0px 8px"
      }
     },
     "ed28a26c11f24c44990fc14f1fc6f410": {
      "model_module": "ipytree",
      "model_module_version": "0.1.8",
      "model_name": "NodeModel",
      "state": {
       "_id": "272865fe-ca18-4723-a7da-19cda2d4a34d",
       "_model_module_version": "0.1.8",
       "_view_module_version": "0.1.8",
       "icon": "file",
       "name": "clipped_composite.py"
      }
     },
     "ed2c44bf9ec64100ab783a49da9cc33c": {
      "model_module": "@jupyter-widgets/output",
      "model_module_version": "1.0.0",
      "model_name": "OutputModel",
      "state": {
       "layout": "IPY_MODEL_728b6edad9a3425f944fadfd500c8ded"
      }
     },
     "ed6f58296d6a4887b450635bd7a5b454": {
      "model_module": "@jupyter-widgets/controls",
      "model_module_version": "1.5.0",
      "model_name": "HTMLModel",
      "state": {
       "layout": "IPY_MODEL_f7f5844f704547a3ad45633687713765",
       "style": "IPY_MODEL_aa2035c2207d4346b853b429c7bd3927"
      }
     },
     "ed8007ff22ed4c45ba567800011ec44a": {
      "model_module": "@jupyter-widgets/base",
      "model_module_version": "1.2.0",
      "model_name": "LayoutModel",
      "state": {
       "width": "340px"
      }
     },
     "edd082534b26443a941b67841e59c009": {
      "model_module": "ipytree",
      "model_module_version": "0.1.8",
      "model_name": "NodeModel",
      "state": {
       "_id": "7abada0b-54ea-4c58-a973-a7d1be11a498",
       "_model_module_version": "0.1.8",
       "_view_module_version": "0.1.8",
       "icon": "table",
       "name": "glims_lines"
      }
     },
     "ee5ec6d4193048b09f147487857fa109": {
      "model_module": "@jupyter-widgets/controls",
      "model_module_version": "1.5.0",
      "model_name": "LinkModel",
      "state": {
       "source": [
        "IPY_MODEL_0bcf738084154b3499b624840f018f3d",
        "value"
       ],
       "target": [
        "IPY_MODEL_2439ff2df8b84200bc1a61d3c4bbb264",
        "visible"
       ]
      }
     },
     "eee908b48e0546a4b3752048e55878e0": {
      "model_module": "@jupyter-widgets/base",
      "model_module_version": "1.2.0",
      "model_name": "LayoutModel",
      "state": {}
     },
     "eef5151e0aca4d9880a161c3b7f9559e": {
      "model_module": "ipytree",
      "model_module_version": "0.1.8",
      "model_name": "NodeModel",
      "state": {
       "_id": "ad8632fe-74d4-493c-ba4a-f012cfcce661",
       "_model_module_version": "0.1.8",
       "_view_module_version": "0.1.8",
       "name": "Vectors",
       "nodes": [
        "IPY_MODEL_408d640e000e4486b430c5f0c587ca6d",
        "IPY_MODEL_61bd260f56ce4e84bf9a523353a194f2",
        "IPY_MODEL_af667c97a44141a8a2718abd38344d51",
        "IPY_MODEL_c43fd76beb6244a493a68474bbb79b4b",
        "IPY_MODEL_5bd81a641f75446695681e565f7da8c5",
        "IPY_MODEL_106294e61fd2418d80c09b176f29a791",
        "IPY_MODEL_043af31244c349c4949ae3c075b9596e",
        "IPY_MODEL_cdeba21430714e38b7b9fd25a8c772fb",
        "IPY_MODEL_8d07caf6b86b46a394c3c22d42f84744",
        "IPY_MODEL_a574ccc217214f2bbe2d07f19936d3a8",
        "IPY_MODEL_5ef1c277fb7e4fe38adfd0a9e4f6e493",
        "IPY_MODEL_d5b4edd8495b4798b0783fe7839a4317",
        "IPY_MODEL_dd07718a8b894b6488395f0fa3c18af8",
        "IPY_MODEL_b77d9ac1f2684eb884c9ae8ba794a7f8",
        "IPY_MODEL_bfe0a27ae80549d0b234812bbe9ab870"
       ],
       "opened": false
      }
     },
     "ef60ac515be74f7089d27a6a746d4905": {
      "model_module": "@jupyter-widgets/base",
      "model_module_version": "1.2.0",
      "model_name": "LayoutModel",
      "state": {
       "width": "auto"
      }
     },
     "ef8164555a0e41f0b327c77d97e7ff6d": {
      "model_module": "@jupyter-widgets/controls",
      "model_module_version": "1.5.0",
      "model_name": "DescriptionStyleModel",
      "state": {
       "description_width": ""
      }
     },
     "efb48672a2f1447d9dd2c326ed1cdeac": {
      "model_module": "ipytree",
      "model_module_version": "0.1.8",
      "model_name": "NodeModel",
      "state": {
       "_id": "cc93d471-b586-4600-a11c-e8b1b077f396",
       "_model_module_version": "0.1.8",
       "_view_module_version": "0.1.8",
       "name": "GetStarted",
       "nodes": [
        "IPY_MODEL_d858445ab4d248e6b7551f2b653ee0c6",
        "IPY_MODEL_8bc6ffdfcf4142948a7e53a1043943b6",
        "IPY_MODEL_dac2f45e87ee485ebd7a78fab3ebde42",
        "IPY_MODEL_914a4da535444ac4b6be686aaeeb20ca",
        "IPY_MODEL_283a1d5f27ab4dcb8c255fa82519272e",
        "IPY_MODEL_e05da2c57175403e85d3abf195374d9c",
        "IPY_MODEL_776254de41cf498bad4c1cf035d9f6d4",
        "IPY_MODEL_b27d7bfca17f4114a3d4049452eccc85",
        "IPY_MODEL_16957f9c64704e739c58cb046d9c1bd9"
       ],
       "opened": false
      }
     },
     "efb55ac6a89e4bfe9c9545c930d15b80": {
      "model_module": "@jupyter-widgets/controls",
      "model_module_version": "1.5.0",
      "model_name": "DescriptionStyleModel",
      "state": {
       "description_width": ""
      }
     },
     "efd772b9a81547af805302d3084495ac": {
      "model_module": "@jupyter-widgets/controls",
      "model_module_version": "1.5.0",
      "model_name": "TextModel",
      "state": {
       "layout": "IPY_MODEL_a73d3c0f118d4319b6db76be58259f3c",
       "placeholder": "output filename",
       "style": "IPY_MODEL_29d5994654144135a577aa122ebee526",
       "value": "my_map.html"
      }
     },
     "eff2647b06004a2db27a190aaefb78c4": {
      "model_module": "@jupyter-widgets/base",
      "model_module_version": "1.2.0",
      "model_name": "LayoutModel",
      "state": {
       "height": "18px",
       "width": "25ex"
      }
     },
     "f01b048aa101484d888d5d36399e1ca7": {
      "model_module": "@jupyter-widgets/controls",
      "model_module_version": "1.5.0",
      "model_name": "DescriptionStyleModel",
      "state": {
       "description_width": ""
      }
     },
     "f0428182a458452289c4aa77e523e6ad": {
      "model_module": "ipytree",
      "model_module_version": "0.1.8",
      "model_name": "NodeModel",
      "state": {
       "_id": "c8ef3a92-6bc2-4c17-8a67-45e49bcbaeeb",
       "_model_module_version": "0.1.8",
       "_view_module_version": "0.1.8",
       "icon": "file",
       "name": "cumulative_cost_mapping.py"
      }
     },
     "f0dbe963d8624bd2ad0a21f9509c3a5b": {
      "model_module": "jupyter-leaflet",
      "model_module_version": "^0.13.2",
      "model_name": "LeafletWMSLayerModel",
      "state": {
       "_model_module_version": "^0.13.2",
       "_view_module_version": "^0.13.2",
       "attribution": "USGS",
       "crs": {
        "custom": false,
        "name": "EPSG3857"
       },
       "format": "image/png",
       "layers": "0",
       "max_native_zoom": 18,
       "min_native_zoom": 0,
       "name": "USGS Hydrography",
       "options": [
        "attribution",
        "detect_retina",
        "format",
        "layers",
        "max_native_zoom",
        "max_zoom",
        "min_native_zoom",
        "min_zoom",
        "no_wrap",
        "styles",
        "tile_size",
        "tms",
        "transparent",
        "uppercase"
       ],
       "transparent": true,
       "url": "https://basemap.nationalmap.gov/arcgis/services/USGSHydroCached/MapServer/WMSServer?"
      }
     },
     "f0de4eaace044dc1ae04e30c1e91fb67": {
      "model_module": "@jupyter-widgets/base",
      "model_module_version": "1.2.0",
      "model_name": "LayoutModel",
      "state": {
       "height": "25px",
       "padding": "0px",
       "width": "25px"
      }
     },
     "f1915e3903c74c54aca5a0707b782a75": {
      "model_module": "@jupyter-widgets/controls",
      "model_module_version": "1.5.0",
      "model_name": "ToggleButtonModel",
      "state": {
       "button_style": "primary",
       "icon": "gears",
       "layout": "IPY_MODEL_3e25dda485f24fd998905efb85075509",
       "style": "IPY_MODEL_43e69eac4acd4ec79a07ba5284f33fe9",
       "tooltip": "WhiteboxTools for local geoprocessing"
      }
     },
     "f1a4e0e4c3104d7db23229abfe4e7e6f": {
      "model_module": "@jupyter-widgets/controls",
      "model_module_version": "1.5.0",
      "model_name": "VBoxModel",
      "state": {
       "children": [
        "IPY_MODEL_d766f86262694793a48518647b6d7216"
       ],
       "layout": "IPY_MODEL_958685ca6a904bc0ac4d97c76fd55d5b"
      }
     },
     "f26e731573c4403e847de8635a9cc265": {
      "model_module": "@jupyter-widgets/controls",
      "model_module_version": "1.5.0",
      "model_name": "DescriptionStyleModel",
      "state": {
       "description_width": ""
      }
     },
     "f347f1d21f314a2b8de5b4a9ae396b34": {
      "model_module": "ipytree",
      "model_module_version": "0.1.8",
      "model_name": "NodeModel",
      "state": {
       "_id": "4ee8713f-cf23-4960-9279-f53998045ce4",
       "_model_module_version": "0.1.8",
       "_view_module_version": "0.1.8",
       "icon": "file",
       "name": "reducing_feature_collection.py"
      }
     },
     "f39b653e860d4717a4f344da8b569d73": {
      "model_module": "ipytree",
      "model_module_version": "0.1.8",
      "model_name": "NodeModel",
      "state": {
       "_id": "02baf4c0-a6d7-4beb-bda5-5faea3a0f2e9",
       "_model_module_version": "0.1.8",
       "_view_module_version": "0.1.8",
       "icon": "file",
       "name": "computed_area_filter.py"
      }
     },
     "f3d00a9f4cda4e35b6031ac0ec0e3ba9": {
      "model_module": "@jupyter-widgets/controls",
      "model_module_version": "1.5.0",
      "model_name": "DirectionalLinkModel",
      "state": {
       "source": [
        "IPY_MODEL_e89e536b69bc40ff82ae712aa0a50286",
        "value"
       ],
       "target": [
        "IPY_MODEL_2439ff2df8b84200bc1a61d3c4bbb264",
        "opacity"
       ]
      }
     },
     "f4cee5f7fe024fbfb04569f344ba108b": {
      "model_module": "ipytree",
      "model_module_version": "0.1.8",
      "model_name": "NodeModel",
      "state": {
       "_id": "d6385a9a-4ad8-42e5-b32e-4e90091aa16a",
       "_model_module_version": "0.1.8",
       "_view_module_version": "0.1.8",
       "icon": "file",
       "name": "filtered_composite.py"
      }
     },
     "f4eb008c823e49e09e2e52e2b030cbcf": {
      "model_module": "@jupyter-widgets/base",
      "model_module_version": "1.2.0",
      "model_name": "LayoutModel",
      "state": {
       "padding": "0px 8px 0px 8px"
      }
     },
     "f587eb607c8c4c3ea44edfbf9a7d23f5": {
      "model_module": "ipytree",
      "model_module_version": "0.1.8",
      "model_name": "NodeModel",
      "state": {
       "_id": "2ab04e60-8086-4252-9dda-8b79a51d0f4d",
       "_model_module_version": "0.1.8",
       "_view_module_version": "0.1.8",
       "icon": "file",
       "name": "creating_monthly_imagery.py"
      }
     },
     "f59f241b3f0e4f6ca54ccd8de952d7fc": {
      "model_module": "@jupyter-widgets/controls",
      "model_module_version": "1.5.0",
      "model_name": "SliderStyleModel",
      "state": {
       "description_width": ""
      }
     },
     "f67162e83eee421480aa2e13ef4f204d": {
      "model_module": "@jupyter-widgets/base",
      "model_module_version": "1.2.0",
      "model_name": "LayoutModel",
      "state": {
       "height": "25px",
       "padding": "0px",
       "width": "25px"
      }
     },
     "f7aa1c37f26d414398c13c8b865cc381": {
      "model_module": "@jupyter-widgets/controls",
      "model_module_version": "1.5.0",
      "model_name": "CheckboxModel",
      "state": {
       "description": "Google Satellite",
       "disabled": false,
       "indent": false,
       "layout": "IPY_MODEL_9bfde9d53a5a4e65a34e30703e02bfdc",
       "style": "IPY_MODEL_c52449bb6f7844ca9b0a334c17c5aec0",
       "value": true
      }
     },
     "f7cb017f0c35418bb7ac88a4832cca15": {
      "model_module": "ipytree",
      "model_module_version": "0.1.8",
      "model_name": "NodeModel",
      "state": {
       "_id": "c4bb05ce-9447-448b-9c8a-e595ca89dc02",
       "_model_module_version": "0.1.8",
       "_view_module_version": "0.1.8",
       "icon": "file",
       "name": "image_patch_area.py"
      }
     },
     "f7f5844f704547a3ad45633687713765": {
      "model_module": "@jupyter-widgets/base",
      "model_module_version": "1.2.0",
      "model_name": "LayoutModel",
      "state": {}
     },
     "f8112100f27d4b8885cf80779e560697": {
      "model_module": "ipytree",
      "model_module_version": "0.1.8",
      "model_name": "NodeModel",
      "state": {
       "_id": "a0708b4a-e4ef-48f5-a7b3-1f6a27ebdbbd",
       "_model_module_version": "0.1.8",
       "_view_module_version": "0.1.8",
       "name": "contrib",
       "nodes": [
        "IPY_MODEL_7e8ef295cede44ef89b5a4a5a980347f",
        "IPY_MODEL_520e7e93076d41eebeb7c0062517c622"
       ],
       "opened": false
      }
     },
     "f81808c2fc5d4dfda7552bde0b5e3366": {
      "model_module": "ipytree",
      "model_module_version": "0.1.8",
      "model_name": "NodeModel",
      "state": {
       "_id": "56c30d11-4b88-49ec-bfd3-344f02b8fd36",
       "_model_module_version": "0.1.8",
       "_view_module_version": "0.1.8",
       "icon": "file",
       "name": "usgs_watersheds.py"
      }
     },
     "f83ab194a7ab414690307b6fbe6e4080": {
      "model_module": "jupyter-leaflet",
      "model_module_version": "^0.13.2",
      "model_name": "LeafletTileLayerModel",
      "state": {
       "_model_module_version": "^0.13.2",
       "_view_module_version": "^0.13.2",
       "attribution": "Tiles courtesy of <a href=\"http://openstreetmap.se/\" target=\"_blank\">OpenStreetMap Sweden</a> &mdash; Map data &copy; <a href=\"http://www.openstreetmap.org/copyright\">OpenStreetMap</a>",
       "max_native_zoom": 18,
       "min_native_zoom": 0,
       "min_zoom": 1,
       "name": "Hydda.Full",
       "options": [
        "attribution",
        "detect_retina",
        "max_native_zoom",
        "max_zoom",
        "min_native_zoom",
        "min_zoom",
        "no_wrap",
        "tile_size",
        "tms"
       ],
       "url": "http://{s}.tile.openstreetmap.se/hydda/full/{z}/{x}/{y}.png"
      }
     },
     "f86a2a453416413d9dbed66e86535e52": {
      "model_module": "ipytree",
      "model_module_version": "0.1.8",
      "model_name": "NodeModel",
      "state": {
       "_id": "3531f757-635c-44d8-9410-ca40bda188d8",
       "_model_module_version": "0.1.8",
       "_view_module_version": "0.1.8",
       "icon": "file",
       "name": "ClippedComposite.py"
      }
     },
     "f8b530f0bae242cfa595e455899484dc": {
      "model_module": "@jupyter-widgets/base",
      "model_module_version": "1.2.0",
      "model_name": "LayoutModel",
      "state": {}
     },
     "f9a562e4a50644deb613b329ea741abb": {
      "model_module": "ipytree",
      "model_module_version": "0.1.8",
      "model_name": "NodeModel",
      "state": {
       "_id": "2506aef5-3ebf-4b38-a53c-fcb36bfa5f12",
       "_model_module_version": "0.1.8",
       "_view_module_version": "0.1.8",
       "icon": "file",
       "name": "array_sorting.py"
      }
     },
     "fa039ea85d714a3f94f4b3b9f1da73fa": {
      "model_module": "@jupyter-widgets/base",
      "model_module_version": "1.2.0",
      "model_name": "LayoutModel",
      "state": {
       "height": "25px",
       "padding": "0px",
       "width": "25px"
      }
     },
     "fa1576ec6bd34618b03c556010c3cda2": {
      "model_module": "@jupyter-widgets/controls",
      "model_module_version": "1.5.0",
      "model_name": "SliderStyleModel",
      "state": {
       "description_width": ""
      }
     },
     "fa9823743d8c4d13b1a9e34f1187cc59": {
      "model_module": "jupyter-leaflet",
      "model_module_version": "^0.13.2",
      "model_name": "LeafletTileLayerModel",
      "state": {
       "_model_module_version": "^0.13.2",
       "_view_module_version": "^0.13.2",
       "attribution": "Esri",
       "max_native_zoom": 18,
       "min_native_zoom": 0,
       "name": "Esri Satellite",
       "options": [
        "attribution",
        "detect_retina",
        "max_native_zoom",
        "max_zoom",
        "min_native_zoom",
        "min_zoom",
        "no_wrap",
        "tile_size",
        "tms"
       ],
       "url": "https://server.arcgisonline.com/ArcGIS/rest/services/World_Imagery/MapServer/tile/{z}/{y}/{x}"
      }
     },
     "fab797085d8e421580991fe0ef355141": {
      "model_module": "@jupyter-widgets/controls",
      "model_module_version": "1.5.0",
      "model_name": "DirectionalLinkModel",
      "state": {
       "source": [
        "IPY_MODEL_1a3b4cb7d8024c439d9384da0246c92a",
        "value"
       ],
       "target": [
        "IPY_MODEL_77a76290eb7f4d2ea5cd24f714684a23",
        "opacity"
       ]
      }
     },
     "fb5f77fff7f44a95a3735d137e9aae2b": {
      "model_module": "@jupyter-widgets/base",
      "model_module_version": "1.2.0",
      "model_name": "LayoutModel",
      "state": {
       "height": "25px",
       "padding": "0px",
       "width": "25px"
      }
     },
     "fc427595b5704df4b37842319fe7d41e": {
      "model_module": "ipytree",
      "model_module_version": "0.1.8",
      "model_name": "NodeModel",
      "state": {
       "_id": "86530e00-6c8f-437f-812a-550bcc6cb003",
       "_model_module_version": "0.1.8",
       "_view_module_version": "0.1.8",
       "name": "GlobalSurfaceWater",
       "nodes": [
        "IPY_MODEL_4830e34e211d456d9dc166daeaba6f57",
        "IPY_MODEL_d5e0c3e966294bca9e2fd8bd8bc66723",
        "IPY_MODEL_47e153a7a660421e84a06877ceee6855"
       ],
       "opened": false
      }
     },
     "fca043dd81094812847e01d291a08ba1": {
      "model_module": "ipytree",
      "model_module_version": "0.1.8",
      "model_name": "NodeModel",
      "state": {
       "_id": "34fd52f1-253c-464f-92a5-05cb391f6152",
       "_model_module_version": "0.1.8",
       "_view_module_version": "0.1.8",
       "icon": "file",
       "name": "random_color_visualizer.py"
      }
     },
     "fcafb1fc8c454afd939926aa2f02d91c": {
      "model_module": "ipytree",
      "model_module_version": "0.1.8",
      "model_name": "NodeModel",
      "state": {
       "_id": "20c66d2e-e54d-4fe3-a1d9-12c4ab353bf7",
       "_model_module_version": "0.1.8",
       "_view_module_version": "0.1.8",
       "icon": "file",
       "name": "stats_of_an_image_region.py"
      }
     },
     "fcf2d1b9664d44edb9c36ed67f8e3bb6": {
      "model_module": "ipytree",
      "model_module_version": "0.1.8",
      "model_name": "NodeModel",
      "state": {
       "_id": "3d741b0e-3762-4a0b-af16-686c8106b976",
       "_model_module_version": "0.1.8",
       "_view_module_version": "0.1.8",
       "name": "Tutorials",
       "nodes": [
        "IPY_MODEL_fc427595b5704df4b37842319fe7d41e",
        "IPY_MODEL_5047fb847b564b8da866b30f70818ad3"
       ]
      }
     },
     "fd054e9741de4a6596c4bfcb58e73f1e": {
      "model_module": "@jupyter-widgets/controls",
      "model_module_version": "1.5.0",
      "model_name": "DescriptionStyleModel",
      "state": {
       "description_width": ""
      }
     },
     "fd1cf50f57ba4fd9a110f81642883063": {
      "model_module": "ipytree",
      "model_module_version": "0.1.8",
      "model_name": "NodeModel",
      "state": {
       "_id": "c990ed40-7eb4-477a-bcdc-511404dd7d91",
       "_model_module_version": "0.1.8",
       "_view_module_version": "0.1.8",
       "icon": "file",
       "name": "hillshade_and_water.py"
      }
     },
     "fd22bcd34965442098dec75f9bd42bfa": {
      "model_module": "ipytree",
      "model_module_version": "0.1.8",
      "model_name": "NodeModel",
      "state": {
       "_id": "64f0c742-4f26-4c93-83b3-344a61561c8e",
       "_model_module_version": "0.1.8",
       "_view_module_version": "0.1.8",
       "icon": "file",
       "name": "convert_raster_to_vector.py"
      }
     },
     "fdc766291023434e9734cbe6e9ee3622": {
      "model_module": "ipytree",
      "model_module_version": "0.1.8",
      "model_name": "NodeModel",
      "state": {
       "_id": "a3c1ba60-cb91-4343-850d-980a8e43396b",
       "_model_module_version": "0.1.8",
       "_view_module_version": "0.1.8",
       "icon": "file",
       "name": "NormalizedDifference.py"
      }
     },
     "fe0c2a9c14f949488a94e5b0ce1e498f": {
      "model_module": "ipytree",
      "model_module_version": "0.1.8",
      "model_name": "NodeModel",
      "state": {
       "_id": "88010c8f-bc19-44bc-b4d2-662bfa91ea6b",
       "_model_module_version": "0.1.8",
       "_view_module_version": "0.1.8",
       "name": "FeatureCollection",
       "nodes": [
        "IPY_MODEL_4723ee6b38924e59a48236e5a09edc40",
        "IPY_MODEL_cd5e11a141844812b8f8beaf38af5604",
        "IPY_MODEL_cf4440724e93423f9ca4675628f5699b",
        "IPY_MODEL_9fb216713a694b1597a37593e91c4a6d",
        "IPY_MODEL_d8c21c958cfc44a195d05a4d3db6c004",
        "IPY_MODEL_5d5dd0ee2d8046e8a3b2d3ff95fd1fcd",
        "IPY_MODEL_9b1b7d1629624963acc1ee505c3d33f5",
        "IPY_MODEL_c3f250837edc4684bf29a041bb588e81",
        "IPY_MODEL_7d1c4dc0ca7e440f8496a75deea5c913",
        "IPY_MODEL_32d7fb411ae04d27af9288df40dc01e3",
        "IPY_MODEL_f39b653e860d4717a4f344da8b569d73",
        "IPY_MODEL_bbf856c20cbd4826a1a75deed3a6cae2",
        "IPY_MODEL_98ee68c909394c0f832d59a8141dd96b",
        "IPY_MODEL_5ef102b1b3c64980865e40a913d4dcc8",
        "IPY_MODEL_554e745e420b4c3c989e08a73e898893",
        "IPY_MODEL_b4663eb6d53146d6bf3fb154c461f2e4",
        "IPY_MODEL_a579162b6552483e9a42e0fa3b5c4e3b",
        "IPY_MODEL_551cb69ff3b34d85b9137834dcc6267e",
        "IPY_MODEL_1ede2cb3ce4b4044b1db962c5d1c1266",
        "IPY_MODEL_c1c47005fc5b4254a7046402bbb0d81e",
        "IPY_MODEL_b9fc7b003c9e419f8943d18afe087ee2",
        "IPY_MODEL_7cee31f537d5438d951b8421f451e54a",
        "IPY_MODEL_461d83e461ee4f64a5067b84e3dcd286",
        "IPY_MODEL_8926140c54554209b11c5060f581590d",
        "IPY_MODEL_9150ca76d2e84f9c8734a4f525f9a703",
        "IPY_MODEL_6513c6d92eab4dae825f95ab85fa0bc5",
        "IPY_MODEL_cd9f83c6e4a848108fd75024489906d7",
        "IPY_MODEL_a364a68395494ecbaceb1f51363a35bc",
        "IPY_MODEL_ab89e6d4db9a46df811915cfce0bbf36",
        "IPY_MODEL_f347f1d21f314a2b8de5b4a9ae396b34",
        "IPY_MODEL_9c69de3c3e0c4fea8a7e335f9b3f0a05",
        "IPY_MODEL_1bc02c339f3c40d6b8b1479efe6122e3",
        "IPY_MODEL_0f82572f32154a899c157ea7221f2802",
        "IPY_MODEL_9baa1ff2eeb74c47bd5b176bcaac33fe",
        "IPY_MODEL_75ef84c93877434f95e3371d078f0749",
        "IPY_MODEL_a7aac80802f74cb18228018f4d2387ee",
        "IPY_MODEL_65c3c2271e3f41ab881fba6a019ef299",
        "IPY_MODEL_c27a25afe9254f108f1662118579e26e",
        "IPY_MODEL_2eec5810537940b693c7a5496238f28c"
       ],
       "opened": false
      }
     },
     "fe13a08651774dff9b5deb840db00940": {
      "model_module": "@jupyter-widgets/base",
      "model_module_version": "1.2.0",
      "model_name": "LayoutModel",
      "state": {
       "height": "25px",
       "padding": "0px",
       "width": "25px"
      }
     },
     "fe16d4d8a93149f9835628a6de62c5eb": {
      "model_module": "@jupyter-widgets/controls",
      "model_module_version": "1.5.0",
      "model_name": "CheckboxModel",
      "state": {
       "description": "Google Satellite",
       "disabled": false,
       "indent": false,
       "layout": "IPY_MODEL_e74fdaf8feb84e0ab42e38bfcbfe5e31",
       "style": "IPY_MODEL_95956eaf71a74ea6ad7140e0fa4cc580",
       "value": true
      }
     },
     "fe1766d1af8046d79591f2e23031b1e9": {
      "model_module": "ipytree",
      "model_module_version": "0.1.8",
      "model_name": "NodeModel",
      "state": {
       "_id": "1b987aae-aa17-4969-aba7-ab5613cc7ad8",
       "_model_module_version": "0.1.8",
       "_view_module_version": "0.1.8",
       "icon": "file",
       "name": "ndvi_symbology.py"
      }
     },
     "fe90645712544b958b0cf882d52961b1": {
      "model_module": "@jupyter-widgets/controls",
      "model_module_version": "1.5.0",
      "model_name": "HBoxModel",
      "state": {
       "children": [
        "IPY_MODEL_5f521c7f158c4f95a1b45db66a6e446b",
        "IPY_MODEL_ec951a8a6abc486082da6374849a21ea",
        "IPY_MODEL_68604c60542347eba8308d03a74ff50c"
       ],
       "layout": "IPY_MODEL_339f4cd474dd498cabbc371dbe5f4956"
      }
     },
     "fec613077e8d4dd6842457f2e6b9ac50": {
      "model_module": "@jupyter-widgets/controls",
      "model_module_version": "1.5.0",
      "model_name": "HBoxModel",
      "state": {
       "children": [
        "IPY_MODEL_fe16d4d8a93149f9835628a6de62c5eb",
        "IPY_MODEL_008b413d988944758b9554d0d15b8327",
        "IPY_MODEL_5eb5ea82908e423ab5e56d9bb58d9c4f"
       ],
       "layout": "IPY_MODEL_0ecc0cbccd964e1e8d69c4a925cfab2f"
      }
     },
     "ff214091db6b458aa379ddb7bfaa7e29": {
      "model_module": "jupyter-leaflet",
      "model_module_version": "^0.13.2",
      "model_name": "LeafletTileLayerModel",
      "state": {
       "_model_module_version": "^0.13.2",
       "_view_module_version": "^0.13.2",
       "attribution": "Google",
       "max_native_zoom": 18,
       "min_native_zoom": 0,
       "name": "Google Satellite",
       "options": [
        "attribution",
        "detect_retina",
        "max_native_zoom",
        "max_zoom",
        "min_native_zoom",
        "min_zoom",
        "no_wrap",
        "tile_size",
        "tms"
       ],
       "url": "https://mt1.google.com/vt/lyrs=s&x={x}&y={y}&z={z}"
      }
     },
     "ffa6b41578f848779a083c294bab3a6f": {
      "model_module": "@jupyter-widgets/controls",
      "model_module_version": "1.5.0",
      "model_name": "DescriptionStyleModel",
      "state": {
       "description_width": ""
      }
     },
     "ffbdcdfcdd8d449bb25b8be286b585ac": {
      "model_module": "@jupyter-widgets/base",
      "model_module_version": "1.2.0",
      "model_name": "LayoutModel",
      "state": {
       "height": "18px",
       "width": "25ex"
      }
     }
    },
    "version_major": 2,
    "version_minor": 0
   }
  }
 },
 "nbformat": 4,
 "nbformat_minor": 4
}
